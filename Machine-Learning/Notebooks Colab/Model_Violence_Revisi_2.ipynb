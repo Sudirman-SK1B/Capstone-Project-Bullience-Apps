{
  "cells": [
    {
      "cell_type": "markdown",
      "source": [
        "NOTE : Untuk Run testing Predik harus mulai dari awal dan lewati bagian Build Model dan Testing Akurasi"
      ],
      "metadata": {
        "id": "oKYMe71AAD0H"
      }
    },
    {
      "cell_type": "markdown",
      "source": [
        "# **LIBRARY**"
      ],
      "metadata": {
        "id": "7JlnqL9AAGbt"
      }
    },
    {
      "cell_type": "code",
      "execution_count": 67,
      "metadata": {
        "colab": {
          "base_uri": "https://localhost:8080/",
          "height": 0
        },
        "id": "J352uvqxCsA6",
        "outputId": "0eecd306-de26-4a38-b2a0-73d0b76d6956"
      },
      "outputs": [
        {
          "output_type": "stream",
          "name": "stderr",
          "text": [
            "[nltk_data] Downloading package stopwords to /root/nltk_data...\n",
            "[nltk_data]   Package stopwords is already up-to-date!\n"
          ]
        },
        {
          "output_type": "display_data",
          "data": {
            "text/plain": [
              "<Figure size 640x480 with 0 Axes>"
            ]
          },
          "metadata": {}
        }
      ],
      "source": [
        "from google.colab import drive\n",
        "import matplotlib.pyplot as plt\n",
        "import pandas as pd\n",
        "import numpy as np\n",
        "import seaborn as sns\n",
        "\n",
        "from tensorflow.keras.layers import LSTM,Dense, Dropout, SpatialDropout1D\n",
        "from tensorflow.keras.layers import Embedding\n",
        "from tensorflow.keras.preprocessing.sequence import pad_sequences\n",
        "from tensorflow.keras.preprocessing.text import Tokenizer\n",
        "from tensorflow.keras.models import Sequential\n",
        "from tensorflow.keras.utils import plot_model\n",
        "from sklearn.preprocessing import LabelEncoder\n",
        "from tensorflow.keras.utils import to_categorical\n",
        "from tensorflow.keras.layers import Conv1D, MaxPooling1D, GlobalMaxPooling1D\n",
        "import tensorflow as tf\n",
        "import matplotlib as mpl\n",
        "from cycler import cycler\n",
        "mpl.rcParams['lines.linewidth'] = 2\n",
        "mpl.rcParams['lines.linestyle'] = '--'\n",
        "import re\n",
        "import string\n",
        "import nltk\n",
        "nltk.download('stopwords')\n",
        "sns.despine()\n",
        "plt.style.use(\"fivethirtyeight\")\n",
        "sns.set_style(\"darkgrid\")\n",
        "from sklearn.feature_extraction.text import CountVectorizer\n",
        "from sklearn.metrics import accuracy_score, classification_report, confusion_matrix\n",
        "from tensorflow.keras.models import load_model"
      ]
    },
    {
      "cell_type": "code",
      "execution_count": 68,
      "metadata": {
        "colab": {
          "base_uri": "https://localhost:8080/"
        },
        "id": "ijUZIi34FEVS",
        "outputId": "f1906adb-246f-46ea-e574-84123b46fc3f"
      },
      "outputs": [
        {
          "output_type": "stream",
          "name": "stdout",
          "text": [
            "Requirement already satisfied: openpyxl in /usr/local/lib/python3.10/dist-packages (3.1.2)\n",
            "Requirement already satisfied: et-xmlfile in /usr/local/lib/python3.10/dist-packages (from openpyxl) (1.1.0)\n"
          ]
        }
      ],
      "source": [
        "pip install openpyxl"
      ]
    },
    {
      "cell_type": "markdown",
      "source": [
        "# **READ DATASET**"
      ],
      "metadata": {
        "id": "fIDzFKfG4_ng"
      }
    },
    {
      "cell_type": "code",
      "execution_count": 69,
      "metadata": {
        "colab": {
          "base_uri": "https://localhost:8080/"
        },
        "id": "JnAwlgG9FFrH",
        "outputId": "3ba32093-45c4-42cb-9a72-0caa140e14ee"
      },
      "outputs": [
        {
          "output_type": "stream",
          "name": "stdout",
          "text": [
            "Drive already mounted at /content/gdrive; to attempt to forcibly remount, call drive.mount(\"/content/gdrive\", force_remount=True).\n"
          ]
        }
      ],
      "source": [
        "drive.mount('/content/gdrive')"
      ]
    },
    {
      "cell_type": "code",
      "execution_count": 70,
      "metadata": {
        "colab": {
          "base_uri": "https://localhost:8080/",
          "height": 424
        },
        "id": "wBCLdfCBYshf",
        "outputId": "4aab808a-78a3-484b-bc20-29a7fad63377"
      },
      "outputs": [
        {
          "output_type": "execute_result",
          "data": {
            "text/plain": [
              "                                                  Teks         Label\n",
              "0    selamat sore saya adalah ibu dari satu anak sa...      Violence\n",
              "1    mohon bantu pak saya sedang hamil pak diluar n...  Non-Violence\n",
              "2    saya seorang anak perempuan yang bersuami teta...      Violence\n",
              "3    jika anak perempuan tidak di beri nafkah orang...  Non-Violence\n",
              "4    pak saya status pernikahan sudah setahun pisah...      Violence\n",
              "..                                                 ...           ...\n",
              "201  Kami bersama-sama membangun program mentorship...  Non-Violence\n",
              "202  Dalam menjalani kehidupan sehari-hari, kami be...  Non-Violence\n",
              "203  Melibatkan generasi muda dalam kegiatan positi...  Non-Violence\n",
              "204  Kami aktif dalam kampanye keamanan jalan raya ...  Non-Violence\n",
              "205  Sebagai bagian dari upaya mendukung kesehatan ...  Non-Violence\n",
              "\n",
              "[206 rows x 2 columns]"
            ],
            "text/html": [
              "\n",
              "  <div id=\"df-5e9c1b2c-286b-49cc-89eb-a4327a58b102\" class=\"colab-df-container\">\n",
              "    <div>\n",
              "<style scoped>\n",
              "    .dataframe tbody tr th:only-of-type {\n",
              "        vertical-align: middle;\n",
              "    }\n",
              "\n",
              "    .dataframe tbody tr th {\n",
              "        vertical-align: top;\n",
              "    }\n",
              "\n",
              "    .dataframe thead th {\n",
              "        text-align: right;\n",
              "    }\n",
              "</style>\n",
              "<table border=\"1\" class=\"dataframe\">\n",
              "  <thead>\n",
              "    <tr style=\"text-align: right;\">\n",
              "      <th></th>\n",
              "      <th>Teks</th>\n",
              "      <th>Label</th>\n",
              "    </tr>\n",
              "  </thead>\n",
              "  <tbody>\n",
              "    <tr>\n",
              "      <th>0</th>\n",
              "      <td>selamat sore saya adalah ibu dari satu anak sa...</td>\n",
              "      <td>Violence</td>\n",
              "    </tr>\n",
              "    <tr>\n",
              "      <th>1</th>\n",
              "      <td>mohon bantu pak saya sedang hamil pak diluar n...</td>\n",
              "      <td>Non-Violence</td>\n",
              "    </tr>\n",
              "    <tr>\n",
              "      <th>2</th>\n",
              "      <td>saya seorang anak perempuan yang bersuami teta...</td>\n",
              "      <td>Violence</td>\n",
              "    </tr>\n",
              "    <tr>\n",
              "      <th>3</th>\n",
              "      <td>jika anak perempuan tidak di beri nafkah orang...</td>\n",
              "      <td>Non-Violence</td>\n",
              "    </tr>\n",
              "    <tr>\n",
              "      <th>4</th>\n",
              "      <td>pak saya status pernikahan sudah setahun pisah...</td>\n",
              "      <td>Violence</td>\n",
              "    </tr>\n",
              "    <tr>\n",
              "      <th>...</th>\n",
              "      <td>...</td>\n",
              "      <td>...</td>\n",
              "    </tr>\n",
              "    <tr>\n",
              "      <th>201</th>\n",
              "      <td>Kami bersama-sama membangun program mentorship...</td>\n",
              "      <td>Non-Violence</td>\n",
              "    </tr>\n",
              "    <tr>\n",
              "      <th>202</th>\n",
              "      <td>Dalam menjalani kehidupan sehari-hari, kami be...</td>\n",
              "      <td>Non-Violence</td>\n",
              "    </tr>\n",
              "    <tr>\n",
              "      <th>203</th>\n",
              "      <td>Melibatkan generasi muda dalam kegiatan positi...</td>\n",
              "      <td>Non-Violence</td>\n",
              "    </tr>\n",
              "    <tr>\n",
              "      <th>204</th>\n",
              "      <td>Kami aktif dalam kampanye keamanan jalan raya ...</td>\n",
              "      <td>Non-Violence</td>\n",
              "    </tr>\n",
              "    <tr>\n",
              "      <th>205</th>\n",
              "      <td>Sebagai bagian dari upaya mendukung kesehatan ...</td>\n",
              "      <td>Non-Violence</td>\n",
              "    </tr>\n",
              "  </tbody>\n",
              "</table>\n",
              "<p>206 rows × 2 columns</p>\n",
              "</div>\n",
              "    <div class=\"colab-df-buttons\">\n",
              "\n",
              "  <div class=\"colab-df-container\">\n",
              "    <button class=\"colab-df-convert\" onclick=\"convertToInteractive('df-5e9c1b2c-286b-49cc-89eb-a4327a58b102')\"\n",
              "            title=\"Convert this dataframe to an interactive table.\"\n",
              "            style=\"display:none;\">\n",
              "\n",
              "  <svg xmlns=\"http://www.w3.org/2000/svg\" height=\"24px\" viewBox=\"0 -960 960 960\">\n",
              "    <path d=\"M120-120v-720h720v720H120Zm60-500h600v-160H180v160Zm220 220h160v-160H400v160Zm0 220h160v-160H400v160ZM180-400h160v-160H180v160Zm440 0h160v-160H620v160ZM180-180h160v-160H180v160Zm440 0h160v-160H620v160Z\"/>\n",
              "  </svg>\n",
              "    </button>\n",
              "\n",
              "  <style>\n",
              "    .colab-df-container {\n",
              "      display:flex;\n",
              "      gap: 12px;\n",
              "    }\n",
              "\n",
              "    .colab-df-convert {\n",
              "      background-color: #E8F0FE;\n",
              "      border: none;\n",
              "      border-radius: 50%;\n",
              "      cursor: pointer;\n",
              "      display: none;\n",
              "      fill: #1967D2;\n",
              "      height: 32px;\n",
              "      padding: 0 0 0 0;\n",
              "      width: 32px;\n",
              "    }\n",
              "\n",
              "    .colab-df-convert:hover {\n",
              "      background-color: #E2EBFA;\n",
              "      box-shadow: 0px 1px 2px rgba(60, 64, 67, 0.3), 0px 1px 3px 1px rgba(60, 64, 67, 0.15);\n",
              "      fill: #174EA6;\n",
              "    }\n",
              "\n",
              "    .colab-df-buttons div {\n",
              "      margin-bottom: 4px;\n",
              "    }\n",
              "\n",
              "    [theme=dark] .colab-df-convert {\n",
              "      background-color: #3B4455;\n",
              "      fill: #D2E3FC;\n",
              "    }\n",
              "\n",
              "    [theme=dark] .colab-df-convert:hover {\n",
              "      background-color: #434B5C;\n",
              "      box-shadow: 0px 1px 3px 1px rgba(0, 0, 0, 0.15);\n",
              "      filter: drop-shadow(0px 1px 2px rgba(0, 0, 0, 0.3));\n",
              "      fill: #FFFFFF;\n",
              "    }\n",
              "  </style>\n",
              "\n",
              "    <script>\n",
              "      const buttonEl =\n",
              "        document.querySelector('#df-5e9c1b2c-286b-49cc-89eb-a4327a58b102 button.colab-df-convert');\n",
              "      buttonEl.style.display =\n",
              "        google.colab.kernel.accessAllowed ? 'block' : 'none';\n",
              "\n",
              "      async function convertToInteractive(key) {\n",
              "        const element = document.querySelector('#df-5e9c1b2c-286b-49cc-89eb-a4327a58b102');\n",
              "        const dataTable =\n",
              "          await google.colab.kernel.invokeFunction('convertToInteractive',\n",
              "                                                    [key], {});\n",
              "        if (!dataTable) return;\n",
              "\n",
              "        const docLinkHtml = 'Like what you see? Visit the ' +\n",
              "          '<a target=\"_blank\" href=https://colab.research.google.com/notebooks/data_table.ipynb>data table notebook</a>'\n",
              "          + ' to learn more about interactive tables.';\n",
              "        element.innerHTML = '';\n",
              "        dataTable['output_type'] = 'display_data';\n",
              "        await google.colab.output.renderOutput(dataTable, element);\n",
              "        const docLink = document.createElement('div');\n",
              "        docLink.innerHTML = docLinkHtml;\n",
              "        element.appendChild(docLink);\n",
              "      }\n",
              "    </script>\n",
              "  </div>\n",
              "\n",
              "\n",
              "<div id=\"df-2a5c5122-c934-4f33-bc68-7725579b9b1b\">\n",
              "  <button class=\"colab-df-quickchart\" onclick=\"quickchart('df-2a5c5122-c934-4f33-bc68-7725579b9b1b')\"\n",
              "            title=\"Suggest charts\"\n",
              "            style=\"display:none;\">\n",
              "\n",
              "<svg xmlns=\"http://www.w3.org/2000/svg\" height=\"24px\"viewBox=\"0 0 24 24\"\n",
              "     width=\"24px\">\n",
              "    <g>\n",
              "        <path d=\"M19 3H5c-1.1 0-2 .9-2 2v14c0 1.1.9 2 2 2h14c1.1 0 2-.9 2-2V5c0-1.1-.9-2-2-2zM9 17H7v-7h2v7zm4 0h-2V7h2v10zm4 0h-2v-4h2v4z\"/>\n",
              "    </g>\n",
              "</svg>\n",
              "  </button>\n",
              "\n",
              "<style>\n",
              "  .colab-df-quickchart {\n",
              "      --bg-color: #E8F0FE;\n",
              "      --fill-color: #1967D2;\n",
              "      --hover-bg-color: #E2EBFA;\n",
              "      --hover-fill-color: #174EA6;\n",
              "      --disabled-fill-color: #AAA;\n",
              "      --disabled-bg-color: #DDD;\n",
              "  }\n",
              "\n",
              "  [theme=dark] .colab-df-quickchart {\n",
              "      --bg-color: #3B4455;\n",
              "      --fill-color: #D2E3FC;\n",
              "      --hover-bg-color: #434B5C;\n",
              "      --hover-fill-color: #FFFFFF;\n",
              "      --disabled-bg-color: #3B4455;\n",
              "      --disabled-fill-color: #666;\n",
              "  }\n",
              "\n",
              "  .colab-df-quickchart {\n",
              "    background-color: var(--bg-color);\n",
              "    border: none;\n",
              "    border-radius: 50%;\n",
              "    cursor: pointer;\n",
              "    display: none;\n",
              "    fill: var(--fill-color);\n",
              "    height: 32px;\n",
              "    padding: 0;\n",
              "    width: 32px;\n",
              "  }\n",
              "\n",
              "  .colab-df-quickchart:hover {\n",
              "    background-color: var(--hover-bg-color);\n",
              "    box-shadow: 0 1px 2px rgba(60, 64, 67, 0.3), 0 1px 3px 1px rgba(60, 64, 67, 0.15);\n",
              "    fill: var(--button-hover-fill-color);\n",
              "  }\n",
              "\n",
              "  .colab-df-quickchart-complete:disabled,\n",
              "  .colab-df-quickchart-complete:disabled:hover {\n",
              "    background-color: var(--disabled-bg-color);\n",
              "    fill: var(--disabled-fill-color);\n",
              "    box-shadow: none;\n",
              "  }\n",
              "\n",
              "  .colab-df-spinner {\n",
              "    border: 2px solid var(--fill-color);\n",
              "    border-color: transparent;\n",
              "    border-bottom-color: var(--fill-color);\n",
              "    animation:\n",
              "      spin 1s steps(1) infinite;\n",
              "  }\n",
              "\n",
              "  @keyframes spin {\n",
              "    0% {\n",
              "      border-color: transparent;\n",
              "      border-bottom-color: var(--fill-color);\n",
              "      border-left-color: var(--fill-color);\n",
              "    }\n",
              "    20% {\n",
              "      border-color: transparent;\n",
              "      border-left-color: var(--fill-color);\n",
              "      border-top-color: var(--fill-color);\n",
              "    }\n",
              "    30% {\n",
              "      border-color: transparent;\n",
              "      border-left-color: var(--fill-color);\n",
              "      border-top-color: var(--fill-color);\n",
              "      border-right-color: var(--fill-color);\n",
              "    }\n",
              "    40% {\n",
              "      border-color: transparent;\n",
              "      border-right-color: var(--fill-color);\n",
              "      border-top-color: var(--fill-color);\n",
              "    }\n",
              "    60% {\n",
              "      border-color: transparent;\n",
              "      border-right-color: var(--fill-color);\n",
              "    }\n",
              "    80% {\n",
              "      border-color: transparent;\n",
              "      border-right-color: var(--fill-color);\n",
              "      border-bottom-color: var(--fill-color);\n",
              "    }\n",
              "    90% {\n",
              "      border-color: transparent;\n",
              "      border-bottom-color: var(--fill-color);\n",
              "    }\n",
              "  }\n",
              "</style>\n",
              "\n",
              "  <script>\n",
              "    async function quickchart(key) {\n",
              "      const quickchartButtonEl =\n",
              "        document.querySelector('#' + key + ' button');\n",
              "      quickchartButtonEl.disabled = true;  // To prevent multiple clicks.\n",
              "      quickchartButtonEl.classList.add('colab-df-spinner');\n",
              "      try {\n",
              "        const charts = await google.colab.kernel.invokeFunction(\n",
              "            'suggestCharts', [key], {});\n",
              "      } catch (error) {\n",
              "        console.error('Error during call to suggestCharts:', error);\n",
              "      }\n",
              "      quickchartButtonEl.classList.remove('colab-df-spinner');\n",
              "      quickchartButtonEl.classList.add('colab-df-quickchart-complete');\n",
              "    }\n",
              "    (() => {\n",
              "      let quickchartButtonEl =\n",
              "        document.querySelector('#df-2a5c5122-c934-4f33-bc68-7725579b9b1b button');\n",
              "      quickchartButtonEl.style.display =\n",
              "        google.colab.kernel.accessAllowed ? 'block' : 'none';\n",
              "    })();\n",
              "  </script>\n",
              "</div>\n",
              "    </div>\n",
              "  </div>\n"
            ]
          },
          "metadata": {},
          "execution_count": 70
        }
      ],
      "source": [
        "dv = pd.read_csv(\"/content/gdrive/MyDrive/Colab Notebooks/Bangkit/DATASETS GABUNGAN BULLIENCE - Dataset Violence.csv\")\n",
        "dv"
      ]
    },
    {
      "cell_type": "markdown",
      "source": [
        "# **DATA PREPROCESSING**"
      ],
      "metadata": {
        "id": "yWRq95Gb5VN3"
      }
    },
    {
      "cell_type": "code",
      "execution_count": 71,
      "metadata": {
        "colab": {
          "base_uri": "https://localhost:8080/"
        },
        "id": "9uAqXQlmZMlK",
        "outputId": "227149d9-db0f-4057-b4dc-8bfd67773a0f"
      },
      "outputs": [
        {
          "output_type": "stream",
          "name": "stdout",
          "text": [
            "<class 'pandas.core.frame.DataFrame'>\n",
            "RangeIndex: 206 entries, 0 to 205\n",
            "Data columns (total 2 columns):\n",
            " #   Column  Non-Null Count  Dtype \n",
            "---  ------  --------------  ----- \n",
            " 0   Teks    206 non-null    object\n",
            " 1   Label   206 non-null    object\n",
            "dtypes: object(2)\n",
            "memory usage: 3.3+ KB\n"
          ]
        }
      ],
      "source": [
        "dv.info()"
      ]
    },
    {
      "cell_type": "code",
      "execution_count": 72,
      "metadata": {
        "colab": {
          "base_uri": "https://localhost:8080/"
        },
        "id": "fx5Iv2TuZQJj",
        "outputId": "2a335443-d5ac-48da-9c89-29f079b4fa3b"
      },
      "outputs": [
        {
          "output_type": "execute_result",
          "data": {
            "text/plain": [
              "False"
            ]
          },
          "metadata": {},
          "execution_count": 72
        }
      ],
      "source": [
        "# Checking for null values\n",
        "dv.isnull().values.any()"
      ]
    },
    {
      "cell_type": "code",
      "execution_count": 73,
      "metadata": {
        "colab": {
          "base_uri": "https://localhost:8080/"
        },
        "id": "_ZIfkyAiZTWH",
        "outputId": "55b85d3a-7748-4ead-fcc5-7a2f6bf16361"
      },
      "outputs": [
        {
          "output_type": "execute_result",
          "data": {
            "text/plain": [
              "Violence        103\n",
              "Non-Violence    103\n",
              "Name: Label, dtype: int64"
            ]
          },
          "metadata": {},
          "execution_count": 73
        }
      ],
      "source": [
        "# Melihat jumlah masing-masing tipe\n",
        "dv['Label'].value_counts()"
      ]
    },
    {
      "cell_type": "code",
      "execution_count": 74,
      "metadata": {
        "colab": {
          "base_uri": "https://localhost:8080/",
          "height": 513
        },
        "id": "6whDhermZXRs",
        "outputId": "64b05789-dc48-4273-8b52-a585e4625c67"
      },
      "outputs": [
        {
          "output_type": "stream",
          "name": "stdout",
          "text": [
            "Counter({'Violence': 103, 'Non-Violence': 103})\n"
          ]
        },
        {
          "output_type": "execute_result",
          "data": {
            "text/plain": [
              "<Axes: xlabel='Label', ylabel='count'>"
            ]
          },
          "metadata": {},
          "execution_count": 74
        },
        {
          "output_type": "display_data",
          "data": {
            "text/plain": [
              "<Figure size 640x480 with 1 Axes>"
            ],
            "image/png": "[encoded data removed]"
          },
          "metadata": {}
        }
      ],
      "source": [
        "# Distribusi Target\n",
        "x = dv.Teks\n",
        "y = dv.Label\n",
        "\n",
        "from collections import Counter\n",
        "\n",
        "print(Counter(y))\n",
        "sns.countplot(x=y)"
      ]
    },
    {
      "cell_type": "code",
      "execution_count": 75,
      "metadata": {
        "colab": {
          "base_uri": "https://localhost:8080/",
          "height": 680
        },
        "id": "Vj8udZoDZZoJ",
        "outputId": "d2a5b058-17c3-48a1-fe90-b7d039fad89a"
      },
      "outputs": [
        {
          "output_type": "display_data",
          "data": {
            "text/plain": [
              "count    103.000000\n",
              "mean      22.126214\n",
              "std       11.981751\n",
              "min        6.000000\n",
              "25%       15.000000\n",
              "50%       21.000000\n",
              "75%       25.000000\n",
              "max       94.000000\n",
              "Name: Length, dtype: float64"
            ]
          },
          "metadata": {}
        },
        {
          "output_type": "display_data",
          "data": {
            "text/plain": [
              "<Figure size 500x500 with 1 Axes>"
            ],
            "image/png": "[encoded data removed]"
          },
          "metadata": {}
        }
      ],
      "source": [
        "# Melihat statistical description serta histogram panjang teks Non-B\n",
        "dv[\"Length\"] = dv.Teks.str.split().apply(len)\n",
        "plt.figure(figsize=(5,5))\n",
        "sns.histplot(dv[dv[\"Label\"]==\"Non-Violence\"]['Length'],color=\"g\")\n",
        "plt.title(\"Distribution of text length for not_violence\")\n",
        "display(dv.Length[dv[\"Label\"]==\"Non-Violence\"].describe())"
      ]
    },
    {
      "cell_type": "code",
      "execution_count": 76,
      "metadata": {
        "colab": {
          "base_uri": "https://localhost:8080/",
          "height": 680
        },
        "id": "FZSa-KNnZw8b",
        "outputId": "e0f8a89b-0e65-471d-83b4-bff4f321f783"
      },
      "outputs": [
        {
          "output_type": "display_data",
          "data": {
            "text/plain": [
              "count    103.000000\n",
              "mean      17.631068\n",
              "std       13.782619\n",
              "min        4.000000\n",
              "25%        8.500000\n",
              "50%       14.000000\n",
              "75%       20.000000\n",
              "max       77.000000\n",
              "Name: Length, dtype: float64"
            ]
          },
          "metadata": {}
        },
        {
          "output_type": "display_data",
          "data": {
            "text/plain": [
              "<Figure size 500x500 with 1 Axes>"
            ],
            "image/png": "[encoded data removed]"
          },
          "metadata": {}
        }
      ],
      "source": [
        "# Melihat statistical description serta histogram panjang teks B\n",
        "dv[\"Length\"] = dv.Teks.str.split().apply(len)\n",
        "plt.figure(figsize=(5,5))\n",
        "sns.histplot(dv[dv[\"Label\"]==\"Violence\"]['Length'],color=\"r\")\n",
        "plt.title(\"Distribution of text length for violence\")\n",
        "display(dv.Length[dv[\"Label\"]==\"Violence\"].describe())"
      ]
    },
    {
      "cell_type": "code",
      "execution_count": 77,
      "metadata": {
        "colab": {
          "base_uri": "https://localhost:8080/"
        },
        "id": "wzh3SJWAaBij",
        "outputId": "ed34f561-e3c1-471a-81db-498f9a60e660"
      },
      "outputs": [
        {
          "output_type": "stream",
          "name": "stdout",
          "text": [
            "0    selamat sore saya adalah ibu dari satu anak sa...\n",
            "1    mohon bantu pak saya sedang hamil pak diluar n...\n",
            "2    saya seorang anak perempuan yang bersuami teta...\n",
            "3    jika anak perempuan tidak di beri nafkah orang...\n",
            "4    pak saya status pernikahan sudah setahun pisah...\n",
            "Name: Teks, dtype: object\n"
          ]
        }
      ],
      "source": [
        "# variabel untuk kolom teks\n",
        "texts = dv.Teks\n",
        "print(texts.head())"
      ]
    },
    {
      "cell_type": "code",
      "execution_count": 78,
      "metadata": {
        "colab": {
          "base_uri": "https://localhost:8080/"
        },
        "id": "SfiJFGEfaG-Z",
        "outputId": "7d183615-5946-47b8-c0d1-3c63a18c8958"
      },
      "outputs": [
        {
          "output_type": "stream",
          "name": "stdout",
          "text": [
            "0    selamat sore saya adalah ibu dari satu anak sa...\n",
            "1    mohon bantu pak saya sedang hamil pak diluar n...\n",
            "2    saya seorang anak perempuan yang bersuami teta...\n",
            "3    jika anak perempuan tidak di beri nafkah orang...\n",
            "4    pak saya status pernikahan sudah setahun pisah...\n",
            "Name: Teks, dtype: object\n"
          ]
        }
      ],
      "source": [
        "# Case Folding\n",
        "# gunakan fungsi series.str.lower() pada Pandas\n",
        "texts = texts.str.lower()\n",
        "\n",
        "print(texts.head())"
      ]
    },
    {
      "cell_type": "code",
      "execution_count": 79,
      "metadata": {
        "colab": {
          "base_uri": "https://localhost:8080/"
        },
        "id": "x7RwzHskaJQe",
        "outputId": "a2fa0c40-326d-45d5-a789-2712f0638eed"
      },
      "outputs": [
        {
          "output_type": "stream",
          "name": "stdout",
          "text": [
            "0    selamat sore saya adalah ibu dari satu anak sa...\n",
            "1    mohon bantu pak saya sedang hamil pak diluar n...\n",
            "2    saya seorang anak perempuan yang bersuami teta...\n",
            "3    jika anak perempuan tidak di beri nafkah orang...\n",
            "4    pak saya status pernikahan sudah setahun pisah...\n",
            "Name: Teks, dtype: object\n"
          ]
        }
      ],
      "source": [
        "def remove_special_signs(text):\n",
        "    # remove tab, new line, ans back slice\n",
        "    text = text.replace('\\\\t',\" \").replace('\\\\n',\" \").replace('\\\\u',\" \").replace('\\\\',\"\")\n",
        "    # remove non ASCII (emoticon, chinese word, .etc)\n",
        "    text = text.encode('ascii', 'replace').decode('ascii')\n",
        "    # remove mention, link, hashtag\n",
        "    text = ' '.join(re.sub(\"([@#][A-Za-z0-9]+)|(\\w+:\\/\\/\\S+)\",\" \", text).split())\n",
        "    # remove incomplete URL\n",
        "    return text.replace(\"http://\", \" \").replace(\"https://\", \" \")\n",
        "\n",
        "texts = texts.apply(remove_special_signs)\n",
        "print(texts.head())"
      ]
    },
    {
      "cell_type": "code",
      "execution_count": 80,
      "metadata": {
        "colab": {
          "base_uri": "https://localhost:8080/"
        },
        "id": "PZktWBrIaL-E",
        "outputId": "d0d9dd98-e014-49b6-b2e5-1970fb52b74e"
      },
      "outputs": [
        {
          "output_type": "execute_result",
          "data": {
            "text/plain": [
              "0    selamat sore saya adalah ibu dari satu anak sa...\n",
              "1    mohon bantu pak saya sedang hamil pak diluar n...\n",
              "2    saya seorang anak perempuan yang bersuami teta...\n",
              "3    jika anak perempuan tidak di beri nafkah orang...\n",
              "4    pak saya status pernikahan sudah setahun pisah...\n",
              "Name: Teks, dtype: object"
            ]
          },
          "metadata": {},
          "execution_count": 80
        }
      ],
      "source": [
        "#remove number\n",
        "def remove_number(text):\n",
        "    return  re.sub(r\"\\d+\", \"\", text)\n",
        "\n",
        "texts = texts.apply(remove_number)\n",
        "texts.head(5)"
      ]
    },
    {
      "cell_type": "code",
      "execution_count": 81,
      "metadata": {
        "colab": {
          "base_uri": "https://localhost:8080/"
        },
        "id": "RdvlH94gaOe5",
        "outputId": "60794295-af15-4efc-8bd7-5c9e587cfa79"
      },
      "outputs": [
        {
          "output_type": "execute_result",
          "data": {
            "text/plain": [
              "0    selamat sore saya adalah ibu dari satu anak sa...\n",
              "1    mohon bantu pak saya sedang hamil pak diluar n...\n",
              "2    saya seorang anak perempuan yang bersuami teta...\n",
              "3    jika anak perempuan tidak di beri nafkah orang...\n",
              "4    pak saya status pernikahan sudah setahun pisah...\n",
              "Name: Teks, dtype: object"
            ]
          },
          "metadata": {},
          "execution_count": 81
        }
      ],
      "source": [
        "# remove punctuation\n",
        "def remove_punctuation(text):\n",
        "    return text.translate(str.maketrans(\"\",\"\",string.punctuation))\n",
        "\n",
        "texts = texts.apply(remove_punctuation)\n",
        "texts.head(5)"
      ]
    },
    {
      "cell_type": "code",
      "execution_count": 82,
      "metadata": {
        "colab": {
          "base_uri": "https://localhost:8080/"
        },
        "id": "SMdHuVq2aT0c",
        "outputId": "5f48a157-7863-49b3-d992-57c1ad13bafb"
      },
      "outputs": [
        {
          "output_type": "stream",
          "name": "stdout",
          "text": [
            "0    selamat sore saya adalah ibu dari satu anak sa...\n",
            "1    mohon bantu pak saya sedang hamil pak diluar n...\n",
            "2    saya seorang anak perempuan yang bersuami teta...\n",
            "3    jika anak perempuan tidak di beri nafkah orang...\n",
            "4    pak saya status pernikahan sudah setahun pisah...\n",
            "Name: Teks, dtype: object\n"
          ]
        }
      ],
      "source": [
        "#remove whitespace leading & trailing\n",
        "def remove_whitespace_LT(text):\n",
        "    return text.strip()\n",
        "\n",
        "texts = texts.apply(remove_whitespace_LT)\n",
        "print(texts.head())"
      ]
    },
    {
      "cell_type": "code",
      "execution_count": 83,
      "metadata": {
        "colab": {
          "base_uri": "https://localhost:8080/"
        },
        "id": "ummguDJAaVgO",
        "outputId": "0610fa29-f1a8-4687-d2f2-561baf36efe1"
      },
      "outputs": [
        {
          "output_type": "stream",
          "name": "stdout",
          "text": [
            "0    selamat sore saya adalah ibu dari satu anak sa...\n",
            "1    mohon bantu pak saya sedang hamil pak diluar n...\n",
            "2    saya seorang anak perempuan yang bersuami teta...\n",
            "3    jika anak perempuan tidak di beri nafkah orang...\n",
            "4    pak saya status pernikahan sudah setahun pisah...\n",
            "Name: Teks, dtype: object\n"
          ]
        }
      ],
      "source": [
        "# remove multiple whitespace into single whitespace\n",
        "def remove_whitespace_multiple(text):\n",
        "    return re.sub('\\s+',' ',text)\n",
        "\n",
        "texts = texts.apply(remove_whitespace_multiple)\n",
        "print(texts.head())"
      ]
    },
    {
      "cell_type": "code",
      "execution_count": 84,
      "metadata": {
        "colab": {
          "base_uri": "https://localhost:8080/"
        },
        "id": "KupqcUzcaYO4",
        "outputId": "fe0143ce-c974-432e-bf08-feeb4f64d66e"
      },
      "outputs": [
        {
          "output_type": "stream",
          "name": "stdout",
          "text": [
            "0    selamat sore saya adalah ibu dari satu anak sa...\n",
            "1    mohon bantu pak saya sedang hamil pak diluar n...\n",
            "2    saya seorang anak perempuan yang bersuami teta...\n",
            "3    jika anak perempuan tidak di beri nafkah orang...\n",
            "4    pak saya status pernikahan sudah setahun pisah...\n",
            "Name: Teks, dtype: object\n"
          ]
        }
      ],
      "source": [
        "# remove single char\n",
        "def remove_singl_char(text):\n",
        "    return re.sub(r\"\\b[a-zA-Z]\\b\", \"\", text)\n",
        "\n",
        "texts = texts.apply(remove_singl_char)\n",
        "print(texts.head())"
      ]
    },
    {
      "cell_type": "code",
      "execution_count": 85,
      "metadata": {
        "colab": {
          "base_uri": "https://localhost:8080/"
        },
        "id": "NuEA7euCafIq",
        "outputId": "2f61b81a-379b-4f42-c8fa-f8ec64908206"
      },
      "outputs": [
        {
          "output_type": "stream",
          "name": "stdout",
          "text": [
            "0    [s, e, l, a, m, a, t,  , s, o, r, e,  , s, a, ...\n",
            "1    [m, o, h, o, n,  , b, a, n, t, u,  , p, a, k, ...\n",
            "2    [s, a, y, a,  , s, e, o, r, a, n, g,  , a, n, ...\n",
            "3    [j, i, k, a,  , a, n, a, k,  , p, e, r, e, m, ...\n",
            "4    [p, a, k,  , s, a, y, a,  , s, t, a, t, u, s, ...\n",
            "Name: Teks, dtype: object\n"
          ]
        }
      ],
      "source": [
        "# Filtering - Stopword Removal\n",
        "from nltk.corpus import stopwords\n",
        "# Get Indonesian stopwords\n",
        "list_stopwords = stopwords.words('indonesian')\n",
        "\n",
        "# append additional stopword\n",
        "list_stopwords.extend([\"yg\", \"dg\", \"rt\", \"dgn\", \"ny\", \"d\", 'klo',\n",
        "                       'kalo', 'amp', 'biar', 'bikin', 'bilang',\n",
        "                       'gak', 'ga', 'krn', 'nya', 'nih', 'sih',\n",
        "                       'si', 'tau', 'tdk', 'tuh', 'utk', 'ya',\n",
        "                       'jd', 'jgn', 'sdh', 'aja',\n",
        "                       'nyg', 'hehe', 'pen', 'nan', 'loh',\n",
        "                       '&amp', 'yah',])\n",
        "\n",
        "# read txt stopword using pandas\n",
        "csv_stopword = pd.read_csv(\"/content/gdrive/MyDrive/Colab Notebooks/Bangkit/stopwordsID.csv\")\n",
        "\n",
        "# convert stopword string to list & append additional stopword\n",
        "list_stopwords.extend(csv_stopword)\n",
        "\n",
        "# convert list to dictionary\n",
        "list_stopwords = set(list_stopwords)\n",
        "\n",
        "#remove stopword pada list token\n",
        "def stopwords_removal(words):\n",
        "    return [word for word in words if word not in list_stopwords]\n",
        "\n",
        "texts = texts.apply(stopwords_removal)\n",
        "\n",
        "\n",
        "print(texts.head())"
      ]
    },
    {
      "cell_type": "code",
      "execution_count": 86,
      "metadata": {
        "id": "Yz4Z9c6_apsq"
      },
      "outputs": [],
      "source": [
        "def normalize_text(text):\n",
        "    text = text.lower()\n",
        "    text = re.sub(r'[^a-z\\s]', '', text)\n",
        "    stop_words = set(stopwords.words('indonesian'))\n",
        "    text = ' '.join([word for word in text.split() if word not in stop_words])\n",
        "    text = re.sub(r'\\s+', ' ', text)\n",
        "    return text.strip()\n",
        "\n",
        "dv['Teks'] = dv['Teks'].apply(normalize_text)"
      ]
    },
    {
      "cell_type": "code",
      "execution_count": 87,
      "metadata": {
        "colab": {
          "base_uri": "https://localhost:8080/"
        },
        "id": "xg1XA0BrbA_-",
        "outputId": "36f43e0f-2a25-4953-f7af-569ed565a734"
      },
      "outputs": [
        {
          "output_type": "stream",
          "name": "stdout",
          "text": [
            "[[0. 1.]\n",
            " [1. 0.]\n",
            " [0. 1.]\n",
            " [1. 0.]\n",
            " [0. 1.]\n",
            " [1. 0.]\n",
            " [1. 0.]\n",
            " [0. 1.]\n",
            " [0. 1.]\n",
            " [0. 1.]\n",
            " [0. 1.]\n",
            " [1. 0.]\n",
            " [0. 1.]\n",
            " [0. 1.]\n",
            " [0. 1.]\n",
            " [0. 1.]\n",
            " [0. 1.]\n",
            " [0. 1.]\n",
            " [1. 0.]\n",
            " [0. 1.]\n",
            " [0. 1.]\n",
            " [0. 1.]\n",
            " [1. 0.]\n",
            " [0. 1.]\n",
            " [1. 0.]\n",
            " [1. 0.]\n",
            " [1. 0.]\n",
            " [0. 1.]\n",
            " [1. 0.]\n",
            " [1. 0.]\n",
            " [1. 0.]\n",
            " [1. 0.]\n",
            " [1. 0.]\n",
            " [0. 1.]\n",
            " [0. 1.]\n",
            " [1. 0.]\n",
            " [1. 0.]\n",
            " [1. 0.]\n",
            " [1. 0.]\n",
            " [1. 0.]\n",
            " [1. 0.]\n",
            " [1. 0.]\n",
            " [1. 0.]\n",
            " [0. 1.]\n",
            " [0. 1.]\n",
            " [0. 1.]\n",
            " [0. 1.]\n",
            " [0. 1.]\n",
            " [1. 0.]\n",
            " [1. 0.]\n",
            " [0. 1.]\n",
            " [0. 1.]\n",
            " [1. 0.]\n",
            " [0. 1.]\n",
            " [1. 0.]\n",
            " [0. 1.]\n",
            " [1. 0.]\n",
            " [0. 1.]\n",
            " [0. 1.]\n",
            " [0. 1.]\n",
            " [1. 0.]\n",
            " [0. 1.]\n",
            " [0. 1.]\n",
            " [0. 1.]\n",
            " [0. 1.]\n",
            " [0. 1.]\n",
            " [0. 1.]\n",
            " [1. 0.]\n",
            " [0. 1.]\n",
            " [0. 1.]\n",
            " [1. 0.]\n",
            " [1. 0.]\n",
            " [0. 1.]\n",
            " [1. 0.]\n",
            " [0. 1.]\n",
            " [1. 0.]\n",
            " [0. 1.]\n",
            " [1. 0.]\n",
            " [0. 1.]\n",
            " [0. 1.]\n",
            " [0. 1.]\n",
            " [1. 0.]\n",
            " [0. 1.]\n",
            " [0. 1.]\n",
            " [1. 0.]\n",
            " [0. 1.]\n",
            " [0. 1.]\n",
            " [0. 1.]\n",
            " [1. 0.]\n",
            " [1. 0.]\n",
            " [0. 1.]\n",
            " [1. 0.]\n",
            " [0. 1.]\n",
            " [1. 0.]\n",
            " [0. 1.]\n",
            " [1. 0.]\n",
            " [0. 1.]\n",
            " [0. 1.]\n",
            " [0. 1.]\n",
            " [1. 0.]\n",
            " [0. 1.]\n",
            " [0. 1.]\n",
            " [1. 0.]\n",
            " [0. 1.]\n",
            " [0. 1.]\n",
            " [0. 1.]\n",
            " [0. 1.]\n",
            " [0. 1.]\n",
            " [0. 1.]\n",
            " [0. 1.]\n",
            " [0. 1.]\n",
            " [0. 1.]\n",
            " [0. 1.]\n",
            " [0. 1.]\n",
            " [0. 1.]\n",
            " [0. 1.]\n",
            " [0. 1.]\n",
            " [0. 1.]\n",
            " [0. 1.]\n",
            " [0. 1.]\n",
            " [0. 1.]\n",
            " [0. 1.]\n",
            " [0. 1.]\n",
            " [0. 1.]\n",
            " [0. 1.]\n",
            " [0. 1.]\n",
            " [0. 1.]\n",
            " [0. 1.]\n",
            " [0. 1.]\n",
            " [0. 1.]\n",
            " [0. 1.]\n",
            " [0. 1.]\n",
            " [0. 1.]\n",
            " [0. 1.]\n",
            " [0. 1.]\n",
            " [0. 1.]\n",
            " [0. 1.]\n",
            " [0. 1.]\n",
            " [0. 1.]\n",
            " [0. 1.]\n",
            " [0. 1.]\n",
            " [0. 1.]\n",
            " [0. 1.]\n",
            " [0. 1.]\n",
            " [0. 1.]\n",
            " [0. 1.]\n",
            " [0. 1.]\n",
            " [1. 0.]\n",
            " [1. 0.]\n",
            " [1. 0.]\n",
            " [1. 0.]\n",
            " [1. 0.]\n",
            " [1. 0.]\n",
            " [1. 0.]\n",
            " [1. 0.]\n",
            " [1. 0.]\n",
            " [1. 0.]\n",
            " [1. 0.]\n",
            " [1. 0.]\n",
            " [1. 0.]\n",
            " [1. 0.]\n",
            " [1. 0.]\n",
            " [1. 0.]\n",
            " [1. 0.]\n",
            " [1. 0.]\n",
            " [1. 0.]\n",
            " [1. 0.]\n",
            " [1. 0.]\n",
            " [1. 0.]\n",
            " [1. 0.]\n",
            " [1. 0.]\n",
            " [1. 0.]\n",
            " [1. 0.]\n",
            " [1. 0.]\n",
            " [1. 0.]\n",
            " [1. 0.]\n",
            " [1. 0.]\n",
            " [1. 0.]\n",
            " [1. 0.]\n",
            " [1. 0.]\n",
            " [1. 0.]\n",
            " [1. 0.]\n",
            " [1. 0.]\n",
            " [1. 0.]\n",
            " [1. 0.]\n",
            " [1. 0.]\n",
            " [1. 0.]\n",
            " [1. 0.]\n",
            " [1. 0.]\n",
            " [1. 0.]\n",
            " [1. 0.]\n",
            " [1. 0.]\n",
            " [1. 0.]\n",
            " [1. 0.]\n",
            " [1. 0.]\n",
            " [1. 0.]\n",
            " [1. 0.]\n",
            " [1. 0.]\n",
            " [1. 0.]\n",
            " [1. 0.]\n",
            " [1. 0.]\n",
            " [1. 0.]\n",
            " [1. 0.]\n",
            " [1. 0.]\n",
            " [1. 0.]\n",
            " [1. 0.]]\n"
          ]
        }
      ],
      "source": [
        "# convert the categorical values to numeric using the factorize() method. This returns an array of numeric values and an Index of categories.\n",
        "# Inisialisasi variabel target\n",
        "y = dv[\"Label\"]\n",
        "#mengubah y menjadi integer\n",
        "label_encoder = LabelEncoder()\n",
        "y = label_encoder.fit_transform(y)\n",
        "y = to_categorical(y)\n",
        "print(y)"
      ]
    },
    {
      "cell_type": "code",
      "execution_count": 88,
      "metadata": {
        "colab": {
          "base_uri": "https://localhost:8080/"
        },
        "id": "JedyuuRzbHdd",
        "outputId": "734b6517-f02b-49bf-8da5-be65e89df845"
      },
      "outputs": [
        {
          "output_type": "execute_result",
          "data": {
            "text/plain": [
              "Violence        103\n",
              "Non-Violence    103\n",
              "Name: Label, dtype: int64"
            ]
          },
          "metadata": {},
          "execution_count": 88
        }
      ],
      "source": [
        "# Menghitung jumlah value integer sentimen\n",
        "dv[\"Label\"].value_counts()"
      ]
    },
    {
      "cell_type": "code",
      "execution_count": 89,
      "metadata": {
        "colab": {
          "base_uri": "https://localhost:8080/",
          "height": 363
        },
        "id": "PQZXtEngfA_R",
        "outputId": "a5672fe1-69ee-4c12-9c1d-f242c7657737"
      },
      "outputs": [
        {
          "output_type": "execute_result",
          "data": {
            "text/plain": [
              "                                                Teks  Label  Length\n",
              "0  selamat sore anak janda mantan suami menganiay...      1      27\n",
              "1  mohon bantu hamil diluar nikah anak kembar pac...      0      42\n",
              "2  anak perempuan bersuami orang tua campur ayah ...      1      27\n",
              "3  anak perempuan nafkah orang tua nya lakukan an...      0      24\n",
              "4  status pernikahan setahun pisah ranjang pernik...      1      77\n",
              "5  ayah melarang anak bertemu nya dilarang merawa...      0      21\n",
              "6     bercerai tujuh ngga nafkah anak kemana bantuan      0      17\n",
              "7  anak anak ditelantarkan perantauan suami bawa ...      1      62\n",
              "8  lakukan perlindungan perempuan suami menyiksa ...      1      14\n",
              "9  tolong perlindungan pencemaran nama anak ancam...      1      20"
            ],
            "text/html": [
              "\n",
              "  <div id=\"df-c14e3752-747d-4c87-8337-3bd8b465f743\" class=\"colab-df-container\">\n",
              "    <div>\n",
              "<style scoped>\n",
              "    .dataframe tbody tr th:only-of-type {\n",
              "        vertical-align: middle;\n",
              "    }\n",
              "\n",
              "    .dataframe tbody tr th {\n",
              "        vertical-align: top;\n",
              "    }\n",
              "\n",
              "    .dataframe thead th {\n",
              "        text-align: right;\n",
              "    }\n",
              "</style>\n",
              "<table border=\"1\" class=\"dataframe\">\n",
              "  <thead>\n",
              "    <tr style=\"text-align: right;\">\n",
              "      <th></th>\n",
              "      <th>Teks</th>\n",
              "      <th>Label</th>\n",
              "      <th>Length</th>\n",
              "    </tr>\n",
              "  </thead>\n",
              "  <tbody>\n",
              "    <tr>\n",
              "      <th>0</th>\n",
              "      <td>selamat sore anak janda mantan suami menganiay...</td>\n",
              "      <td>1</td>\n",
              "      <td>27</td>\n",
              "    </tr>\n",
              "    <tr>\n",
              "      <th>1</th>\n",
              "      <td>mohon bantu hamil diluar nikah anak kembar pac...</td>\n",
              "      <td>0</td>\n",
              "      <td>42</td>\n",
              "    </tr>\n",
              "    <tr>\n",
              "      <th>2</th>\n",
              "      <td>anak perempuan bersuami orang tua campur ayah ...</td>\n",
              "      <td>1</td>\n",
              "      <td>27</td>\n",
              "    </tr>\n",
              "    <tr>\n",
              "      <th>3</th>\n",
              "      <td>anak perempuan nafkah orang tua nya lakukan an...</td>\n",
              "      <td>0</td>\n",
              "      <td>24</td>\n",
              "    </tr>\n",
              "    <tr>\n",
              "      <th>4</th>\n",
              "      <td>status pernikahan setahun pisah ranjang pernik...</td>\n",
              "      <td>1</td>\n",
              "      <td>77</td>\n",
              "    </tr>\n",
              "    <tr>\n",
              "      <th>5</th>\n",
              "      <td>ayah melarang anak bertemu nya dilarang merawa...</td>\n",
              "      <td>0</td>\n",
              "      <td>21</td>\n",
              "    </tr>\n",
              "    <tr>\n",
              "      <th>6</th>\n",
              "      <td>bercerai tujuh ngga nafkah anak kemana bantuan</td>\n",
              "      <td>0</td>\n",
              "      <td>17</td>\n",
              "    </tr>\n",
              "    <tr>\n",
              "      <th>7</th>\n",
              "      <td>anak anak ditelantarkan perantauan suami bawa ...</td>\n",
              "      <td>1</td>\n",
              "      <td>62</td>\n",
              "    </tr>\n",
              "    <tr>\n",
              "      <th>8</th>\n",
              "      <td>lakukan perlindungan perempuan suami menyiksa ...</td>\n",
              "      <td>1</td>\n",
              "      <td>14</td>\n",
              "    </tr>\n",
              "    <tr>\n",
              "      <th>9</th>\n",
              "      <td>tolong perlindungan pencemaran nama anak ancam...</td>\n",
              "      <td>1</td>\n",
              "      <td>20</td>\n",
              "    </tr>\n",
              "  </tbody>\n",
              "</table>\n",
              "</div>\n",
              "    <div class=\"colab-df-buttons\">\n",
              "\n",
              "  <div class=\"colab-df-container\">\n",
              "    <button class=\"colab-df-convert\" onclick=\"convertToInteractive('df-c14e3752-747d-4c87-8337-3bd8b465f743')\"\n",
              "            title=\"Convert this dataframe to an interactive table.\"\n",
              "            style=\"display:none;\">\n",
              "\n",
              "  <svg xmlns=\"http://www.w3.org/2000/svg\" height=\"24px\" viewBox=\"0 -960 960 960\">\n",
              "    <path d=\"M120-120v-720h720v720H120Zm60-500h600v-160H180v160Zm220 220h160v-160H400v160Zm0 220h160v-160H400v160ZM180-400h160v-160H180v160Zm440 0h160v-160H620v160ZM180-180h160v-160H180v160Zm440 0h160v-160H620v160Z\"/>\n",
              "  </svg>\n",
              "    </button>\n",
              "\n",
              "  <style>\n",
              "    .colab-df-container {\n",
              "      display:flex;\n",
              "      gap: 12px;\n",
              "    }\n",
              "\n",
              "    .colab-df-convert {\n",
              "      background-color: #E8F0FE;\n",
              "      border: none;\n",
              "      border-radius: 50%;\n",
              "      cursor: pointer;\n",
              "      display: none;\n",
              "      fill: #1967D2;\n",
              "      height: 32px;\n",
              "      padding: 0 0 0 0;\n",
              "      width: 32px;\n",
              "    }\n",
              "\n",
              "    .colab-df-convert:hover {\n",
              "      background-color: #E2EBFA;\n",
              "      box-shadow: 0px 1px 2px rgba(60, 64, 67, 0.3), 0px 1px 3px 1px rgba(60, 64, 67, 0.15);\n",
              "      fill: #174EA6;\n",
              "    }\n",
              "\n",
              "    .colab-df-buttons div {\n",
              "      margin-bottom: 4px;\n",
              "    }\n",
              "\n",
              "    [theme=dark] .colab-df-convert {\n",
              "      background-color: #3B4455;\n",
              "      fill: #D2E3FC;\n",
              "    }\n",
              "\n",
              "    [theme=dark] .colab-df-convert:hover {\n",
              "      background-color: #434B5C;\n",
              "      box-shadow: 0px 1px 3px 1px rgba(0, 0, 0, 0.15);\n",
              "      filter: drop-shadow(0px 1px 2px rgba(0, 0, 0, 0.3));\n",
              "      fill: #FFFFFF;\n",
              "    }\n",
              "  </style>\n",
              "\n",
              "    <script>\n",
              "      const buttonEl =\n",
              "        document.querySelector('#df-c14e3752-747d-4c87-8337-3bd8b465f743 button.colab-df-convert');\n",
              "      buttonEl.style.display =\n",
              "        google.colab.kernel.accessAllowed ? 'block' : 'none';\n",
              "\n",
              "      async function convertToInteractive(key) {\n",
              "        const element = document.querySelector('#df-c14e3752-747d-4c87-8337-3bd8b465f743');\n",
              "        const dataTable =\n",
              "          await google.colab.kernel.invokeFunction('convertToInteractive',\n",
              "                                                    [key], {});\n",
              "        if (!dataTable) return;\n",
              "\n",
              "        const docLinkHtml = 'Like what you see? Visit the ' +\n",
              "          '<a target=\"_blank\" href=https://colab.research.google.com/notebooks/data_table.ipynb>data table notebook</a>'\n",
              "          + ' to learn more about interactive tables.';\n",
              "        element.innerHTML = '';\n",
              "        dataTable['output_type'] = 'display_data';\n",
              "        await google.colab.output.renderOutput(dataTable, element);\n",
              "        const docLink = document.createElement('div');\n",
              "        docLink.innerHTML = docLinkHtml;\n",
              "        element.appendChild(docLink);\n",
              "      }\n",
              "    </script>\n",
              "  </div>\n",
              "\n",
              "\n",
              "<div id=\"df-9ef67fe6-06f8-44e5-b0be-aef9373ff5dc\">\n",
              "  <button class=\"colab-df-quickchart\" onclick=\"quickchart('df-9ef67fe6-06f8-44e5-b0be-aef9373ff5dc')\"\n",
              "            title=\"Suggest charts\"\n",
              "            style=\"display:none;\">\n",
              "\n",
              "<svg xmlns=\"http://www.w3.org/2000/svg\" height=\"24px\"viewBox=\"0 0 24 24\"\n",
              "     width=\"24px\">\n",
              "    <g>\n",
              "        <path d=\"M19 3H5c-1.1 0-2 .9-2 2v14c0 1.1.9 2 2 2h14c1.1 0 2-.9 2-2V5c0-1.1-.9-2-2-2zM9 17H7v-7h2v7zm4 0h-2V7h2v10zm4 0h-2v-4h2v4z\"/>\n",
              "    </g>\n",
              "</svg>\n",
              "  </button>\n",
              "\n",
              "<style>\n",
              "  .colab-df-quickchart {\n",
              "      --bg-color: #E8F0FE;\n",
              "      --fill-color: #1967D2;\n",
              "      --hover-bg-color: #E2EBFA;\n",
              "      --hover-fill-color: #174EA6;\n",
              "      --disabled-fill-color: #AAA;\n",
              "      --disabled-bg-color: #DDD;\n",
              "  }\n",
              "\n",
              "  [theme=dark] .colab-df-quickchart {\n",
              "      --bg-color: #3B4455;\n",
              "      --fill-color: #D2E3FC;\n",
              "      --hover-bg-color: #434B5C;\n",
              "      --hover-fill-color: #FFFFFF;\n",
              "      --disabled-bg-color: #3B4455;\n",
              "      --disabled-fill-color: #666;\n",
              "  }\n",
              "\n",
              "  .colab-df-quickchart {\n",
              "    background-color: var(--bg-color);\n",
              "    border: none;\n",
              "    border-radius: 50%;\n",
              "    cursor: pointer;\n",
              "    display: none;\n",
              "    fill: var(--fill-color);\n",
              "    height: 32px;\n",
              "    padding: 0;\n",
              "    width: 32px;\n",
              "  }\n",
              "\n",
              "  .colab-df-quickchart:hover {\n",
              "    background-color: var(--hover-bg-color);\n",
              "    box-shadow: 0 1px 2px rgba(60, 64, 67, 0.3), 0 1px 3px 1px rgba(60, 64, 67, 0.15);\n",
              "    fill: var(--button-hover-fill-color);\n",
              "  }\n",
              "\n",
              "  .colab-df-quickchart-complete:disabled,\n",
              "  .colab-df-quickchart-complete:disabled:hover {\n",
              "    background-color: var(--disabled-bg-color);\n",
              "    fill: var(--disabled-fill-color);\n",
              "    box-shadow: none;\n",
              "  }\n",
              "\n",
              "  .colab-df-spinner {\n",
              "    border: 2px solid var(--fill-color);\n",
              "    border-color: transparent;\n",
              "    border-bottom-color: var(--fill-color);\n",
              "    animation:\n",
              "      spin 1s steps(1) infinite;\n",
              "  }\n",
              "\n",
              "  @keyframes spin {\n",
              "    0% {\n",
              "      border-color: transparent;\n",
              "      border-bottom-color: var(--fill-color);\n",
              "      border-left-color: var(--fill-color);\n",
              "    }\n",
              "    20% {\n",
              "      border-color: transparent;\n",
              "      border-left-color: var(--fill-color);\n",
              "      border-top-color: var(--fill-color);\n",
              "    }\n",
              "    30% {\n",
              "      border-color: transparent;\n",
              "      border-left-color: var(--fill-color);\n",
              "      border-top-color: var(--fill-color);\n",
              "      border-right-color: var(--fill-color);\n",
              "    }\n",
              "    40% {\n",
              "      border-color: transparent;\n",
              "      border-right-color: var(--fill-color);\n",
              "      border-top-color: var(--fill-color);\n",
              "    }\n",
              "    60% {\n",
              "      border-color: transparent;\n",
              "      border-right-color: var(--fill-color);\n",
              "    }\n",
              "    80% {\n",
              "      border-color: transparent;\n",
              "      border-right-color: var(--fill-color);\n",
              "      border-bottom-color: var(--fill-color);\n",
              "    }\n",
              "    90% {\n",
              "      border-color: transparent;\n",
              "      border-bottom-color: var(--fill-color);\n",
              "    }\n",
              "  }\n",
              "</style>\n",
              "\n",
              "  <script>\n",
              "    async function quickchart(key) {\n",
              "      const quickchartButtonEl =\n",
              "        document.querySelector('#' + key + ' button');\n",
              "      quickchartButtonEl.disabled = true;  // To prevent multiple clicks.\n",
              "      quickchartButtonEl.classList.add('colab-df-spinner');\n",
              "      try {\n",
              "        const charts = await google.colab.kernel.invokeFunction(\n",
              "            'suggestCharts', [key], {});\n",
              "      } catch (error) {\n",
              "        console.error('Error during call to suggestCharts:', error);\n",
              "      }\n",
              "      quickchartButtonEl.classList.remove('colab-df-spinner');\n",
              "      quickchartButtonEl.classList.add('colab-df-quickchart-complete');\n",
              "    }\n",
              "    (() => {\n",
              "      let quickchartButtonEl =\n",
              "        document.querySelector('#df-9ef67fe6-06f8-44e5-b0be-aef9373ff5dc button');\n",
              "      quickchartButtonEl.style.display =\n",
              "        google.colab.kernel.accessAllowed ? 'block' : 'none';\n",
              "    })();\n",
              "  </script>\n",
              "</div>\n",
              "    </div>\n",
              "  </div>\n"
            ]
          },
          "metadata": {},
          "execution_count": 89
        }
      ],
      "source": [
        "# replace label pada dataset\n",
        "dv.Label.replace(\"Violence\", 1 , inplace = True)\n",
        "dv.Label.replace(\"Non-Violence\", 0 , inplace = True)\n",
        "dv.head(10)"
      ]
    },
    {
      "cell_type": "code",
      "execution_count": 90,
      "metadata": {
        "colab": {
          "base_uri": "https://localhost:8080/"
        },
        "id": "e1BUhiqDbMso",
        "outputId": "76850ad3-ef4d-445b-d34b-f09831a63b86"
      },
      "outputs": [
        {
          "output_type": "stream",
          "name": "stderr",
          "text": [
            "[nltk_data] Downloading package punkt to /root/nltk_data...\n",
            "[nltk_data]   Package punkt is already up-to-date!\n"
          ]
        }
      ],
      "source": [
        "from sklearn.model_selection import train_test_split\n",
        "from sklearn.feature_extraction.text import CountVectorizer\n",
        "from sklearn.feature_extraction.text import TfidfTransformer\n",
        "from sklearn.preprocessing import LabelEncoder\n",
        "from nltk.stem import PorterStemmer\n",
        "from nltk.corpus import stopwords\n",
        "nltk.download('punkt')\n",
        "from sklearn.metrics import accuracy_score"
      ]
    },
    {
      "cell_type": "code",
      "execution_count": 91,
      "metadata": {
        "id": "HgRBUhKEbPPk"
      },
      "outputs": [],
      "source": [
        "def normalize_text(text):\n",
        "    text = text.lower()\n",
        "    text = re.sub(r'[^a-z\\s]', '', text)\n",
        "    stop_words = set(stopwords.words('english'))\n",
        "    text = ' '.join([word for word in text.split() if word not in stop_words])\n",
        "    text = re.sub(r'\\s+', ' ', text)\n",
        "    return text.strip()\n",
        "\n",
        "dv['Teks'] = dv['Teks'].apply(normalize_text)"
      ]
    },
    {
      "cell_type": "code",
      "execution_count": 92,
      "metadata": {
        "id": "n3EIPnazcQ7H"
      },
      "outputs": [],
      "source": [
        "# Tokenisasi dan stemming\n",
        "def tokenize_and_stem(text):\n",
        "    tokens = [word for sent in nltk.sent_tokenize(text) for word in nltk.word_tokenize(sent)]\n",
        "    stemmer = PorterStemmer()\n",
        "    stems = [stemmer.stem(t) for t in tokens]\n",
        "    return stems\n",
        "\n",
        "# Contoh pemisahan dataset menjadi data latih dan data uji\n",
        "X_train, X_test, y_train, y_test = train_test_split(dv['Teks'], dv['Label'], test_size=0.2, random_state=42)\n",
        "\n",
        "max_words = 100  # Jumlah kata unik yang akan diambil\n",
        "tokenizer = Tokenizer(num_words=max_words, oov_token='<OOV>')\n",
        "tokenizer.fit_on_texts(X_train)\n",
        "\n",
        "stemmer = PorterStemmer()\n",
        "X_train_stemmed = [' '.join([stemmer.stem(word) for word in text.split()]) for text in X_train]\n",
        "X_test_stemmed = [' '.join([stemmer.stem(word) for word in text.split()]) for text in X_test]\n",
        "\n",
        "X_train_sequences = tokenizer.texts_to_sequences(X_train_stemmed)\n",
        "X_test_sequences = tokenizer.texts_to_sequences(X_test_stemmed)\n",
        "\n",
        "max_sequence_length = max(len(seq) for seq in X_train_sequences)\n",
        "X_train_padded = pad_sequences(X_train_sequences, maxlen=max_sequence_length, padding='post', truncating='post')\n",
        "X_test_padded = pad_sequences(X_test_sequences, maxlen=max_sequence_length, padding='post', truncating='post')\n"
      ]
    },
    {
      "cell_type": "code",
      "source": [],
      "metadata": {
        "id": "GMxJS3gOAjD9"
      },
      "execution_count": null,
      "outputs": []
    },
    {
      "cell_type": "markdown",
      "source": [
        "# **BUILD A MODEL**"
      ],
      "metadata": {
        "id": "WGCvFhO75-v-"
      }
    },
    {
      "cell_type": "code",
      "execution_count": null,
      "metadata": {
        "colab": {
          "base_uri": "https://localhost:8080/"
        },
        "id": "sEdcilMNcUZO",
        "outputId": "1fea1c4f-855a-44f9-9aab-85f8606fd250"
      },
      "outputs": [
        {
          "output_type": "stream",
          "name": "stdout",
          "text": [
            "Model: \"sequential\"\n",
            "_________________________________________________________________\n",
            " Layer (type)                Output Shape              Param #   \n",
            "=================================================================\n",
            " embedding (Embedding)       (None, 45, 16)            1600      \n",
            "                                                                 \n",
            " flatten (Flatten)           (None, 720)               0         \n",
            "                                                                 \n",
            " dense (Dense)               (None, 64)                46144     \n",
            "                                                                 \n",
            " dense_1 (Dense)             (None, 1)                 65        \n",
            "                                                                 \n",
            "=================================================================\n",
            "Total params: 47809 (186.75 KB)\n",
            "Trainable params: 47809 (186.75 KB)\n",
            "Non-trainable params: 0 (0.00 Byte)\n",
            "_________________________________________________________________\n"
          ]
        }
      ],
      "source": [
        "model = tf.keras.models.Sequential([\n",
        "    tf.keras.layers.Embedding(input_dim=max_words, output_dim=16, input_length=max_sequence_length),\n",
        "    tf.keras.layers.Flatten(),\n",
        "    tf.keras.layers.Dense(64, activation='relu'),\n",
        "    tf.keras.layers.Dense(1, activation='sigmoid')\n",
        "\n",
        "])\n",
        "model.summary()"
      ]
    },
    {
      "cell_type": "code",
      "execution_count": null,
      "metadata": {
        "id": "4l21v5-Sconh"
      },
      "outputs": [],
      "source": [
        "model.compile(optimizer='adam', loss='binary_crossentropy', metrics=['accuracy'])"
      ]
    },
    {
      "cell_type": "code",
      "execution_count": null,
      "metadata": {
        "id": "i0TZLIKFjq8l"
      },
      "outputs": [],
      "source": []
    },
    {
      "cell_type": "code",
      "execution_count": null,
      "metadata": {
        "colab": {
          "base_uri": "https://localhost:8080/"
        },
        "id": "GFz7k7DYcuTS",
        "outputId": "00c6276e-fa86-4e1d-b7ba-4aff69d1a5f6"
      },
      "outputs": [
        {
          "name": "stdout",
          "output_type": "stream",
          "text": [
            "Epoch 1/10\n",
            "6/6 [==============================] - 1s 51ms/step - loss: 0.6926 - accuracy: 0.5183 - val_loss: 0.6969 - val_accuracy: 0.4286\n",
            "Epoch 2/10\n",
            "6/6 [==============================] - 0s 9ms/step - loss: 0.6769 - accuracy: 0.5183 - val_loss: 0.6877 - val_accuracy: 0.5000\n",
            "Epoch 3/10\n",
            "6/6 [==============================] - 0s 12ms/step - loss: 0.6634 - accuracy: 0.7256 - val_loss: 0.6722 - val_accuracy: 0.6429\n",
            "Epoch 4/10\n",
            "6/6 [==============================] - 0s 11ms/step - loss: 0.6481 - accuracy: 0.7317 - val_loss: 0.6614 - val_accuracy: 0.7143\n",
            "Epoch 5/10\n",
            "6/6 [==============================] - 0s 10ms/step - loss: 0.6266 - accuracy: 0.7256 - val_loss: 0.6525 - val_accuracy: 0.7381\n",
            "Epoch 6/10\n",
            "6/6 [==============================] - 0s 13ms/step - loss: 0.6036 - accuracy: 0.7256 - val_loss: 0.6512 - val_accuracy: 0.6667\n",
            "Epoch 7/10\n",
            "6/6 [==============================] - 0s 10ms/step - loss: 0.5773 - accuracy: 0.7378 - val_loss: 0.6172 - val_accuracy: 0.6905\n",
            "Epoch 8/10\n",
            "6/6 [==============================] - 0s 9ms/step - loss: 0.5457 - accuracy: 0.7378 - val_loss: 0.5976 - val_accuracy: 0.6429\n",
            "Epoch 9/10\n",
            "6/6 [==============================] - 0s 13ms/step - loss: 0.5188 - accuracy: 0.7378 - val_loss: 0.5829 - val_accuracy: 0.6905\n",
            "Epoch 10/10\n",
            "6/6 [==============================] - 0s 13ms/step - loss: 0.4947 - accuracy: 0.7500 - val_loss: 0.5681 - val_accuracy: 0.7143\n"
          ]
        },
        {
          "data": {
            "text/plain": [
              "<keras.src.callbacks.History at 0x7cebe54c2260>"
            ]
          },
          "execution_count": 29,
          "metadata": {},
          "output_type": "execute_result"
        }
      ],
      "source": [
        "model.fit(X_train_padded, y_train, epochs=10, validation_data=(X_test_padded, y_test))"
      ]
    },
    {
      "cell_type": "code",
      "execution_count": null,
      "metadata": {
        "colab": {
          "base_uri": "https://localhost:8080/"
        },
        "id": "1OXw0Z_afSKC",
        "outputId": "6a9a25ca-2bd8-46d7-bae7-2af2b8f3f1c3"
      },
      "outputs": [
        {
          "name": "stdout",
          "output_type": "stream",
          "text": [
            "Epoch 1/20\n",
            "6/6 [==============================] - 0s 32ms/step - loss: 0.4674 - accuracy: 0.7683 - val_loss: 0.5576 - val_accuracy: 0.7143\n",
            "Epoch 2/20\n",
            "6/6 [==============================] - 0s 13ms/step - loss: 0.4332 - accuracy: 0.7744 - val_loss: 0.5476 - val_accuracy: 0.7381\n",
            "Epoch 3/20\n",
            "6/6 [==============================] - 0s 12ms/step - loss: 0.4083 - accuracy: 0.8110 - val_loss: 0.5328 - val_accuracy: 0.7143\n",
            "Epoch 4/20\n",
            "6/6 [==============================] - 0s 13ms/step - loss: 0.3767 - accuracy: 0.8354 - val_loss: 0.5285 - val_accuracy: 0.7619\n",
            "Epoch 5/20\n",
            "6/6 [==============================] - 0s 14ms/step - loss: 0.3539 - accuracy: 0.8415 - val_loss: 0.5203 - val_accuracy: 0.7619\n",
            "Epoch 6/20\n",
            "6/6 [==============================] - 0s 16ms/step - loss: 0.3232 - accuracy: 0.8537 - val_loss: 0.5097 - val_accuracy: 0.7619\n",
            "Epoch 7/20\n",
            "6/6 [==============================] - 0s 16ms/step - loss: 0.2941 - accuracy: 0.8598 - val_loss: 0.4987 - val_accuracy: 0.7619\n",
            "Epoch 8/20\n",
            "6/6 [==============================] - 0s 17ms/step - loss: 0.2650 - accuracy: 0.9085 - val_loss: 0.4908 - val_accuracy: 0.7857\n",
            "Epoch 9/20\n",
            "6/6 [==============================] - 0s 12ms/step - loss: 0.2423 - accuracy: 0.9207 - val_loss: 0.5004 - val_accuracy: 0.7619\n",
            "Epoch 10/20\n",
            "6/6 [==============================] - 0s 17ms/step - loss: 0.2215 - accuracy: 0.9512 - val_loss: 0.4857 - val_accuracy: 0.7619\n",
            "Epoch 11/20\n",
            "6/6 [==============================] - 0s 16ms/step - loss: 0.1973 - accuracy: 0.9634 - val_loss: 0.4796 - val_accuracy: 0.7619\n",
            "Epoch 12/20\n",
            "6/6 [==============================] - 0s 15ms/step - loss: 0.1831 - accuracy: 0.9573 - val_loss: 0.4832 - val_accuracy: 0.7619\n",
            "Epoch 13/20\n",
            "6/6 [==============================] - 0s 15ms/step - loss: 0.1634 - accuracy: 0.9695 - val_loss: 0.4596 - val_accuracy: 0.8571\n",
            "Epoch 14/20\n",
            "6/6 [==============================] - 0s 15ms/step - loss: 0.1449 - accuracy: 0.9817 - val_loss: 0.4597 - val_accuracy: 0.8333\n",
            "Epoch 15/20\n",
            "6/6 [==============================] - 0s 15ms/step - loss: 0.1313 - accuracy: 0.9817 - val_loss: 0.4641 - val_accuracy: 0.8333\n",
            "Epoch 16/20\n",
            "6/6 [==============================] - 0s 16ms/step - loss: 0.1178 - accuracy: 0.9817 - val_loss: 0.4494 - val_accuracy: 0.8810\n",
            "Epoch 17/20\n",
            "6/6 [==============================] - 0s 13ms/step - loss: 0.1090 - accuracy: 0.9817 - val_loss: 0.4452 - val_accuracy: 0.8810\n",
            "Epoch 18/20\n",
            "6/6 [==============================] - 0s 16ms/step - loss: 0.1001 - accuracy: 0.9878 - val_loss: 0.4393 - val_accuracy: 0.8810\n",
            "Epoch 19/20\n",
            "6/6 [==============================] - 0s 12ms/step - loss: 0.0908 - accuracy: 0.9817 - val_loss: 0.4479 - val_accuracy: 0.8333\n",
            "Epoch 20/20\n",
            "6/6 [==============================] - 0s 20ms/step - loss: 0.0852 - accuracy: 0.9878 - val_loss: 0.4434 - val_accuracy: 0.8333\n"
          ]
        },
        {
          "data": {
            "text/plain": [
              "<keras.src.callbacks.History at 0x7cebdd6574f0>"
            ]
          },
          "execution_count": 30,
          "metadata": {},
          "output_type": "execute_result"
        }
      ],
      "source": [
        "model.fit(X_train_padded, y_train, epochs=20, validation_data=(X_test_padded, y_test))"
      ]
    },
    {
      "cell_type": "markdown",
      "source": [
        "# **TEST AKURASI**"
      ],
      "metadata": {
        "id": "9qOoNsNc6KUj"
      }
    },
    {
      "cell_type": "code",
      "execution_count": null,
      "metadata": {
        "id": "ax8j64QSnHRk"
      },
      "outputs": [],
      "source": [
        "from sklearn.metrics import accuracy_score"
      ]
    },
    {
      "cell_type": "code",
      "execution_count": null,
      "metadata": {
        "colab": {
          "base_uri": "https://localhost:8080/"
        },
        "id": "kgDuZPZ6j0xj",
        "outputId": "637ab037-074b-494f-cc93-02d704efbd13"
      },
      "outputs": [
        {
          "name": "stdout",
          "output_type": "stream",
          "text": [
            "2/2 [==============================] - 0s 7ms/step\n",
            "Accuracy: 0.8333333333333334\n"
          ]
        }
      ],
      "source": [
        "# Melakukan prediksi pada data uji\n",
        "predictions = model.predict(X_test_padded)\n",
        "\n",
        "# Thresholding untuk mengubah nilai probabilitas menjadi label biner (0 atau 1)\n",
        "threshold = 0.5\n",
        "predicted_labels = (predictions > threshold).astype(int)\n",
        "\n",
        "# Evaluasi model\n",
        "accuracy = accuracy_score(y_test, predicted_labels)\n",
        "print(f'Accuracy: {accuracy}')\n"
      ]
    },
    {
      "cell_type": "code",
      "execution_count": null,
      "metadata": {
        "colab": {
          "base_uri": "https://localhost:8080/",
          "height": 1000
        },
        "id": "4p3i8lKDvwVC",
        "outputId": "e2ac5448-c954-47f1-821f-3410aaf42ef9"
      },
      "outputs": [
        {
          "name": "stdout",
          "output_type": "stream",
          "text": [
            "Epoch 1/10\n",
            "6/6 [==============================] - 0s 20ms/step - loss: 0.0762 - accuracy: 0.9939 - val_loss: 0.4326 - val_accuracy: 0.8810\n",
            "Epoch 2/10\n",
            "6/6 [==============================] - 0s 14ms/step - loss: 0.0739 - accuracy: 0.9878 - val_loss: 0.4355 - val_accuracy: 0.9048\n",
            "Epoch 3/10\n",
            "6/6 [==============================] - 0s 16ms/step - loss: 0.0666 - accuracy: 0.9878 - val_loss: 0.4268 - val_accuracy: 0.8810\n",
            "Epoch 4/10\n",
            "6/6 [==============================] - 0s 16ms/step - loss: 0.0592 - accuracy: 0.9939 - val_loss: 0.4409 - val_accuracy: 0.8333\n",
            "Epoch 5/10\n",
            "6/6 [==============================] - 0s 17ms/step - loss: 0.0598 - accuracy: 0.9939 - val_loss: 0.4359 - val_accuracy: 0.8333\n",
            "Epoch 6/10\n",
            "6/6 [==============================] - 0s 17ms/step - loss: 0.0526 - accuracy: 0.9939 - val_loss: 0.4209 - val_accuracy: 0.8810\n",
            "Epoch 7/10\n",
            "6/6 [==============================] - 0s 16ms/step - loss: 0.0476 - accuracy: 0.9939 - val_loss: 0.4198 - val_accuracy: 0.8810\n",
            "Epoch 8/10\n",
            "6/6 [==============================] - 0s 14ms/step - loss: 0.0447 - accuracy: 0.9939 - val_loss: 0.4194 - val_accuracy: 0.8810\n",
            "Epoch 9/10\n",
            "6/6 [==============================] - 0s 13ms/step - loss: 0.0423 - accuracy: 0.9939 - val_loss: 0.4234 - val_accuracy: 0.8810\n",
            "Epoch 10/10\n",
            "6/6 [==============================] - 0s 16ms/step - loss: 0.0393 - accuracy: 0.9939 - val_loss: 0.4233 - val_accuracy: 0.8810\n"
          ]
        },
        {
          "data": {
            "image/png": "[encoded data removed]",
            "text/plain": [
              "<Figure size 640x480 with 1 Axes>"
            ]
          },
          "metadata": {},
          "output_type": "display_data"
        },
        {
          "data": {
            "image/png": "[encoded data removed]",
            "text/plain": [
              "<Figure size 640x480 with 1 Axes>"
            ]
          },
          "metadata": {},
          "output_type": "display_data"
        }
      ],
      "source": [
        "import matplotlib.pyplot as plt\n",
        "\n",
        "history = model.fit(X_train_padded, y_train, epochs=10, validation_data=(X_test_padded, y_test))\n",
        "\n",
        "# Plot loss\n",
        "plt.plot(history.history['loss'], label='Training Loss')\n",
        "plt.plot(history.history['val_loss'], label='Validation Loss')\n",
        "plt.legend()\n",
        "plt.show()\n",
        "\n",
        "# Plot accuracy\n",
        "plt.plot(history.history['accuracy'], label='Training Accuracy')\n",
        "plt.plot(history.history['val_accuracy'], label='Validation Accuracy')\n",
        "plt.legend()\n",
        "plt.show()\n"
      ]
    },
    {
      "cell_type": "code",
      "execution_count": null,
      "metadata": {
        "colab": {
          "base_uri": "https://localhost:8080/"
        },
        "id": "WRsBhyGgxlwy",
        "outputId": "4153eee9-1a7c-4e09-8ec0-1a28afa1399c"
      },
      "outputs": [
        {
          "name": "stdout",
          "output_type": "stream",
          "text": [
            "2/2 [==============================] - 0s 5ms/step\n",
            "Accuracy: 0.8809523809523809\n",
            "              precision    recall  f1-score   support\n",
            "\n",
            "           0       0.88      0.92      0.90        24\n",
            "           1       0.88      0.83      0.86        18\n",
            "\n",
            "    accuracy                           0.88        42\n",
            "   macro avg       0.88      0.88      0.88        42\n",
            "weighted avg       0.88      0.88      0.88        42\n",
            "\n"
          ]
        }
      ],
      "source": [
        "from sklearn.metrics import accuracy_score, classification_report\n",
        "\n",
        "# Melakukan prediksi pada data uji\n",
        "predictions = model.predict(X_test_padded)\n",
        "\n",
        "# Menggunakan threshold untuk mengubah nilai probabilitas menjadi label biner (0 atau 1)\n",
        "threshold = 0.5\n",
        "predicted_labels = (predictions > threshold).astype(int)\n",
        "\n",
        "# Evaluasi model\n",
        "accuracy = accuracy_score(y_test, predicted_labels)\n",
        "print(f'Accuracy: {accuracy}')\n",
        "\n",
        "# Classification Report\n",
        "print(classification_report(y_test, predicted_labels))\n"
      ]
    },
    {
      "cell_type": "code",
      "execution_count": null,
      "metadata": {
        "colab": {
          "base_uri": "https://localhost:8080/"
        },
        "id": "M5SSvZo-3Jk7",
        "outputId": "52b00f3e-0d36-4233-ea01-d83deb32af37"
      },
      "outputs": [
        {
          "name": "stderr",
          "output_type": "stream",
          "text": [
            "/usr/local/lib/python3.10/dist-packages/keras/src/engine/training.py:3103: UserWarning: You are saving your model as an HDF5 file via `model.save()`. This file format is considered legacy. We recommend using instead the native Keras format, e.g. `model.save('my_model.keras')`.\n",
            "  saving_api.save_model(\n"
          ]
        }
      ],
      "source": [
        "# Menyimpan model\n",
        "model.save('model_violence.h5')"
      ]
    },
    {
      "cell_type": "markdown",
      "source": [
        "# **TESTING MODEL PREDIK**"
      ],
      "metadata": {
        "id": "DaqRgGQW6ccm"
      }
    },
    {
      "cell_type": "code",
      "execution_count": 93,
      "metadata": {
        "id": "RgwFtNmK3gQk"
      },
      "outputs": [],
      "source": [
        "model = load_model('Model_Violence.h5')"
      ]
    },
    {
      "cell_type": "code",
      "execution_count": 135,
      "metadata": {
        "colab": {
          "base_uri": "https://localhost:8080/"
        },
        "id": "SIgNOYUv6XAJ",
        "outputId": "cf53fdd9-8683-414d-a229-4c1b5669c355"
      },
      "outputs": [
        {
          "output_type": "stream",
          "name": "stdout",
          "text": [
            "1/1 [==============================] - 0s 174ms/step\n",
            "Teks: Saya ditolong seorang pria ramah.\n",
            "Prediksi: Non-Violence\n",
            "Persentase: 32.05%\n",
            "Kategori: Ringan\n",
            "\n",
            "1/1 [==============================] - 0s 85ms/step\n",
            "Teks: Saya sangat kecewa dengan produk yang saya beli, kualitasnya sangat buruk.\n",
            "Prediksi: Non-Violence\n",
            "Persentase: 8.44%\n",
            "Kategori: Ringan\n",
            "\n",
            "1/1 [==============================] - 0s 32ms/step\n",
            "Teks: Film ini benar-benar luar biasa, saya sangat menikmati setiap momennya.\n",
            "Prediksi: Non-Violence\n",
            "Persentase: 8.44%\n",
            "Kategori: Ringan\n",
            "\n",
            "1/1 [==============================] - 0s 35ms/step\n",
            "Teks: Pelayanan pelanggan sangat ramah dan membantu.\n",
            "Prediksi: Non-Violence\n",
            "Persentase: 32.29%\n",
            "Kategori: Ringan\n",
            "\n",
            "1/1 [==============================] - 0s 35ms/step\n",
            "Teks: Saya sedang diperkosa adik dengan keras\n",
            "Prediksi: Violence\n",
            "Persentase: 54.65%\n",
            "Kategori: Sedang\n",
            "\n",
            "1/1 [==============================] - 0s 32ms/step\n",
            "Teks: Sangat kecewa dengan produk ini.\n",
            "Prediksi: Non-Violence\n",
            "Persentase: 32.05%\n",
            "Kategori: Ringan\n",
            "\n",
            "1/1 [==============================] - 0s 32ms/step\n",
            "Teks: Teks positif yang sangat bagus.\n",
            "Prediksi: Non-Violence\n",
            "Persentase: 14.68%\n",
            "Kategori: Ringan\n",
            "\n",
            "1/1 [==============================] - 0s 32ms/step\n",
            "Teks: saya melihat sebuah kekerasan yang dilakukan suami kepada istri\n",
            "Prediksi: Violence\n",
            "Persentase: 60.74%\n",
            "Kategori: Sedang\n",
            "\n"
          ]
        }
      ],
      "source": [
        "import joblib\n",
        "\n",
        "# Fungsi untuk mendapatkan kategori berdasarkan range persentase\n",
        "def get_category(percentage):\n",
        "    if percentage < 0.33:\n",
        "        return 'Ringan'\n",
        "    elif 0.33 <= percentage < 0.67:\n",
        "        return 'Sedang'\n",
        "    else:\n",
        "        return 'Berat'\n",
        "\n",
        "# Fungsi untuk membuat prediksi dan menampilkan hasilnya\n",
        "def predict_and_display(model, text, threshold=0.5):\n",
        "    # Tokenisasi dan stemming pada teks\n",
        "    text_stemmed = ' '.join([stemmer.stem(word) for word in text.split()])\n",
        "    text_sequence = tokenizer.texts_to_sequences([text_stemmed])\n",
        "    text_padded = pad_sequences(text_sequence, maxlen=max_sequence_length, padding='post', truncating='post')\n",
        "\n",
        "   # Prediksi menggunakan model\n",
        "    predictions = model.predict(text_padded)[0]  # Hapus indeks [0]\n",
        "\n",
        "    # Ambil indeks kelas dengan nilai tertinggi\n",
        "    predicted_index = np.argmax(predictions)\n",
        "\n",
        "   # Tentukan hasil prediksi berdasarkan threshold\n",
        "    predicted_label = \"Violence\" if predictions[predicted_index] > threshold else \"Non-Violence\"\n",
        "\n",
        "    # Menampilkan hasil prediksi\n",
        "    confidence = predictions[predicted_index] * 100\n",
        "    category = get_category(confidence / 100)  # Konversi persentase ke range 0-1\n",
        "\n",
        "    print(f'Teks: {text}')\n",
        "    print(f'Prediksi: {predicted_label}')\n",
        "    print(f'Persentase: {confidence:.2f}%')\n",
        "    print(f'Kategori: {category}')\n",
        "    print()\n",
        "\n",
        "# # Contoh data teks untuk pengujian\n",
        "# test_texts = [\"aku melihat teman saya dibully sampe kena mental.\", \"Contoh teks 2 untuk pengujian.\"]\n",
        "\n",
        "# # Melakukan pengujian model\n",
        "# test_model(model, test_texts)\n",
        "\n",
        "# Contoh pengujian\n",
        "texts_to_test = [\n",
        "    \"Saya ditolong seorang pria ramah.\",\n",
        "    \"Saya sangat kecewa dengan produk yang saya beli, kualitasnya sangat buruk.\",\n",
        "    \"Film ini benar-benar luar biasa, saya sangat menikmati setiap momennya.\",\n",
        "    \"Pelayanan pelanggan sangat ramah dan membantu.\",\n",
        "    \"Saya sedang diperkosa adik dengan keras\",\n",
        "    \"Sangat kecewa dengan produk ini.\",\n",
        "    \"Teks positif yang sangat bagus.\",\n",
        "    \"saya melihat sebuah kekerasan yang dilakukan suami kepada istri\"\n",
        "]\n",
        "\n",
        "# Lakukan prediksi untuk setiap teks\n",
        "for text_to_test in texts_to_test:\n",
        "    predict_and_display(model, text_to_test)\n",
        "\n",
        "# Menyimpan model dan tokenizer (vectorizer)\n",
        "#model.save('text_classification_model.h5')\n",
        "#joblib.dump(tokenizer, 'tokenizer.joblib')\n"
      ]
    },
    {
      "cell_type": "code",
      "execution_count": null,
      "metadata": {
        "colab": {
          "base_uri": "https://localhost:8080/"
        },
        "id": "Nl5o7IgNWwnG",
        "outputId": "4e8ad8cf-50ab-4b88-f20c-c56589a6f93c"
      },
      "outputs": [
        {
          "name": "stderr",
          "output_type": "stream",
          "text": [
            "/usr/local/lib/python3.10/dist-packages/keras/src/engine/training.py:3103: UserWarning: You are saving your model as an HDF5 file via `model.save()`. This file format is considered legacy. We recommend using instead the native Keras format, e.g. `model.save('my_model.keras')`.\n",
            "  saving_api.save_model(\n"
          ]
        }
      ],
      "source": [
        "model.save('Model_Violence.h5')"
      ]
    }
  ],
  "metadata": {
    "colab": {
      "provenance": [],
      "collapsed_sections": [
        "7JlnqL9AAGbt",
        "yWRq95Gb5VN3",
        "WGCvFhO75-v-",
        "9qOoNsNc6KUj"
      ]
    },
    "kernelspec": {
      "display_name": "Python 3",
      "name": "python3"
    },
    "language_info": {
      "name": "python"
    }
  },
  "nbformat": 4,
  "nbformat_minor": 0
}