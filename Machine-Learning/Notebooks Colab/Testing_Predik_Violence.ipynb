{
  "nbformat": 4,
  "nbformat_minor": 0,
  "metadata": {
    "colab": {
      "provenance": []
    },
    "kernelspec": {
      "name": "python3",
      "display_name": "Python 3"
    },
    "language_info": {
      "name": "python"
    }
  },
  "cells": [
    {
      "cell_type": "markdown",
      "source": [
        "# Violence"
      ],
      "metadata": {
        "id": "xH3ocQ08gZA7"
      }
    },
    {
      "cell_type": "markdown",
      "source": [
        "Testing predik violence"
      ],
      "metadata": {
        "id": "NbfmFkIgtcSG"
      }
    },
    {
      "cell_type": "code",
      "source": [
        "import tensorflow as tf\n",
        "from tensorflow.keras.preprocessing.text import Tokenizer\n",
        "from tensorflow.keras.preprocessing.sequence import pad_sequences\n",
        "from nltk.stem import PorterStemmer\n",
        "\n",
        "# Fungsi tokenisasi dan stemming\n",
        "def tokenize_and_stem(text):\n",
        "    tokens = [word for sent in nltk.sent_tokenize(text) for word in nltk.word_tokenize(sent)]\n",
        "    stemmer = PorterStemmer()\n",
        "    stems = [stemmer.stem(t) for t in tokens]\n",
        "    return stems\n",
        "\n",
        "# Memuat model yang telah dilatih\n",
        "model = tf.keras.models.load_model('Model_Violence.h5')  # Ganti dengan path model Anda\n",
        "\n",
        "# Contoh data teks baru\n",
        "new_texts = [\n",
        "    \"Ini adalah contoh teks pertama.\",\n",
        "    \"Teks kedua untuk pengujian.\",\n",
        "    \"Saya ditolong seorang pria ramah.\",\n",
        "    \"Saya sangat kecewa dengan produk yang saya beli, kualitasnya sangat buruk.\",\n",
        "    \"Film ini benar-benar luar biasa, saya sangat menikmati setiap momennya.\",\n",
        "    \"Pelayanan pelanggan sangat ramah dan membantu.\",\n",
        "    \"Saya sedang diperkosa adik dengan keras\",\n",
        "    \"Sangat kecewa dengan produk ini.\",\n",
        "    \"Teks positif yang sangat bagus.\",\n",
        "    \"saya melihat sebuah kekerasan yang dilakukan suami kepada istri\"\n",
        "]\n",
        "\n",
        "# Tokenisasi dan stemming teks baru\n",
        "max_words = 100  # Jumlah kata unik yang akan diambil\n",
        "tokenizer = Tokenizer(num_words=max_words, oov_token='<OOV>')\n",
        "tokenizer.fit_on_texts(new_texts)\n",
        "stemmer = PorterStemmer()\n",
        "new_texts_stemmed = [' '.join([stemmer.stem(word) for word in text.split()]) for text in new_texts]\n",
        "\n",
        "# Mengonversi teks menjadi urutan angka\n",
        "sequences = tokenizer.texts_to_sequences(new_texts_stemmed)\n",
        "\n",
        "# Padding urutan angka\n",
        "max_sequence_length = model.layers[0].input_shape[1]\n",
        "padded_sequences = pad_sequences(sequences, maxlen=max_sequence_length, padding='post', truncating='post')\n",
        "\n",
        "# Melakukan prediksi\n",
        "predictions = model.predict(padded_sequences)\n",
        "\n",
        "predicted_class = \"Violence\" if predictions[0] > 0.5 else \"Non-Violence\"\n",
        "\n",
        "# Menampilkan hasil prediksi\n",
        "for i, text in enumerate(new_texts):\n",
        "    print(f\"Text: {text}\")\n",
        "    print(f\"Probabilitas prediksi: {predictions[0][0]* 100}\")\n",
        "    print(f\"Kelas prediksi: {predicted_class}\")\n"
      ],
      "metadata": {
        "colab": {
          "base_uri": "https://localhost:8080/"
        },
        "id": "-GiVK6JOeWil",
        "outputId": "d2f2b056-1e45-46a0-dec8-bc5d3b304b72"
      },
      "execution_count": 12,
      "outputs": [
        {
          "output_type": "stream",
          "name": "stdout",
          "text": [
            "1/1 [==============================] - 0s 37ms/step\n",
            "Text: Ini adalah contoh teks pertama.\n",
            "Probabilitas prediksi: 97.57094383239746\n",
            "Kelas prediksi: Violence\n",
            "Text: Teks kedua untuk pengujian.\n",
            "Probabilitas prediksi: 97.57094383239746\n",
            "Kelas prediksi: Violence\n",
            "Text: Saya ditolong seorang pria ramah.\n",
            "Probabilitas prediksi: 97.57094383239746\n",
            "Kelas prediksi: Violence\n",
            "Text: Saya sangat kecewa dengan produk yang saya beli, kualitasnya sangat buruk.\n",
            "Probabilitas prediksi: 97.57094383239746\n",
            "Kelas prediksi: Violence\n",
            "Text: Film ini benar-benar luar biasa, saya sangat menikmati setiap momennya.\n",
            "Probabilitas prediksi: 97.57094383239746\n",
            "Kelas prediksi: Violence\n",
            "Text: Pelayanan pelanggan sangat ramah dan membantu.\n",
            "Probabilitas prediksi: 97.57094383239746\n",
            "Kelas prediksi: Violence\n",
            "Text: Saya sedang diperkosa adik dengan keras\n",
            "Probabilitas prediksi: 97.57094383239746\n",
            "Kelas prediksi: Violence\n",
            "Text: Sangat kecewa dengan produk ini.\n",
            "Probabilitas prediksi: 97.57094383239746\n",
            "Kelas prediksi: Violence\n",
            "Text: Teks positif yang sangat bagus.\n",
            "Probabilitas prediksi: 97.57094383239746\n",
            "Kelas prediksi: Violence\n",
            "Text: saya melihat sebuah kekerasan yang dilakukan suami kepada istri\n",
            "Probabilitas prediksi: 97.57094383239746\n",
            "Kelas prediksi: Violence\n"
          ]
        }
      ]
    }
  ]
}