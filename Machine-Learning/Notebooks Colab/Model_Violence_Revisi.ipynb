{
  "nbformat": 4,
  "nbformat_minor": 0,
  "metadata": {
    "colab": {
      "provenance": []
    },
    "kernelspec": {
      "name": "python3",
      "display_name": "Python 3"
    },
    "language_info": {
      "name": "python"
    }
  },
  "cells": [
    {
      "cell_type": "code",
      "execution_count": null,
      "metadata": {
        "colab": {
          "base_uri": "https://localhost:8080/",
          "height": 69
        },
        "id": "J352uvqxCsA6",
        "outputId": "12921dd9-9492-4110-d6ad-24192051cc32"
      },
      "outputs": [
        {
          "output_type": "stream",
          "name": "stderr",
          "text": [
            "[nltk_data] Downloading package stopwords to /root/nltk_data...\n",
            "[nltk_data]   Unzipping corpora/stopwords.zip.\n"
          ]
        },
        {
          "output_type": "display_data",
          "data": {
            "text/plain": [
              "<Figure size 640x480 with 0 Axes>"
            ]
          },
          "metadata": {}
        }
      ],
      "source": [
        "from google.colab import drive\n",
        "import matplotlib.pyplot as plt\n",
        "import pandas as pd\n",
        "import numpy as np\n",
        "import seaborn as sns\n",
        "\n",
        "from tensorflow.keras.layers import LSTM,Dense, Dropout, SpatialDropout1D\n",
        "from tensorflow.keras.layers import Embedding\n",
        "from tensorflow.keras.preprocessing.sequence import pad_sequences\n",
        "from tensorflow.keras.preprocessing.text import Tokenizer\n",
        "from tensorflow.keras.models import Sequential\n",
        "from tensorflow.keras.utils import plot_model\n",
        "from sklearn.preprocessing import LabelEncoder\n",
        "from tensorflow.keras.utils import to_categorical\n",
        "from tensorflow.keras.layers import Conv1D, MaxPooling1D, GlobalMaxPooling1D\n",
        "import tensorflow as tf\n",
        "import matplotlib as mpl\n",
        "from cycler import cycler\n",
        "mpl.rcParams['lines.linewidth'] = 2\n",
        "mpl.rcParams['lines.linestyle'] = '--'\n",
        "import re\n",
        "import string\n",
        "import nltk\n",
        "nltk.download('stopwords')\n",
        "sns.despine()\n",
        "plt.style.use(\"fivethirtyeight\")\n",
        "sns.set_style(\"darkgrid\")"
      ]
    },
    {
      "cell_type": "code",
      "source": [
        "pip install openpyxl"
      ],
      "metadata": {
        "colab": {
          "base_uri": "https://localhost:8080/"
        },
        "id": "ijUZIi34FEVS",
        "outputId": "629812aa-06e2-4d6b-ce96-ab813be0602e"
      },
      "execution_count": null,
      "outputs": [
        {
          "output_type": "stream",
          "name": "stdout",
          "text": [
            "Requirement already satisfied: openpyxl in /usr/local/lib/python3.10/dist-packages (3.1.2)\n",
            "Requirement already satisfied: et-xmlfile in /usr/local/lib/python3.10/dist-packages (from openpyxl) (1.1.0)\n"
          ]
        }
      ]
    },
    {
      "cell_type": "code",
      "source": [
        "drive.mount('/content/gdrive')"
      ],
      "metadata": {
        "id": "JnAwlgG9FFrH",
        "colab": {
          "base_uri": "https://localhost:8080/"
        },
        "outputId": "b915cf29-f4ff-4e57-9cb1-62f74b139139"
      },
      "execution_count": null,
      "outputs": [
        {
          "output_type": "stream",
          "name": "stdout",
          "text": [
            "Mounted at /content/gdrive\n"
          ]
        }
      ]
    },
    {
      "cell_type": "code",
      "source": [
        "dv = pd.read_csv(\"/content/gdrive/MyDrive/Colab Notebooks/Bangkit/DATASETS GABUNGAN BULLIENCE - Dataset Violence.csv\")\n",
        "dv"
      ],
      "metadata": {
        "colab": {
          "base_uri": "https://localhost:8080/",
          "height": 423
        },
        "id": "wBCLdfCBYshf",
        "outputId": "350d2104-11ee-420f-b437-5d99e0f763c7"
      },
      "execution_count": null,
      "outputs": [
        {
          "output_type": "execute_result",
          "data": {
            "text/plain": [
              "                                                  Teks         Label\n",
              "0    selamat sore saya adalah ibu dari satu anak sa...      Violence\n",
              "1    mohon bantu pak saya sedang hamil pak diluar n...  Non-Violence\n",
              "2    saya seorang anak perempuan yang bersuami teta...      Violence\n",
              "3    jika anak perempuan tidak di beri nafkah orang...  Non-Violence\n",
              "4    pak saya status pernikahan sudah setahun pisah...      Violence\n",
              "..                                                 ...           ...\n",
              "201  Kami bersama-sama membangun program mentorship...  Non-Violence\n",
              "202  Dalam menjalani kehidupan sehari-hari, kami be...  Non-Violence\n",
              "203  Melibatkan generasi muda dalam kegiatan positi...  Non-Violence\n",
              "204  Kami aktif dalam kampanye keamanan jalan raya ...  Non-Violence\n",
              "205  Sebagai bagian dari upaya mendukung kesehatan ...  Non-Violence\n",
              "\n",
              "[206 rows x 2 columns]"
            ],
            "text/html": [
              "\n",
              "  <div id=\"df-e4772ca0-777e-4792-ae1b-2d257df9e4c2\" class=\"colab-df-container\">\n",
              "    <div>\n",
              "<style scoped>\n",
              "    .dataframe tbody tr th:only-of-type {\n",
              "        vertical-align: middle;\n",
              "    }\n",
              "\n",
              "    .dataframe tbody tr th {\n",
              "        vertical-align: top;\n",
              "    }\n",
              "\n",
              "    .dataframe thead th {\n",
              "        text-align: right;\n",
              "    }\n",
              "</style>\n",
              "<table border=\"1\" class=\"dataframe\">\n",
              "  <thead>\n",
              "    <tr style=\"text-align: right;\">\n",
              "      <th></th>\n",
              "      <th>Teks</th>\n",
              "      <th>Label</th>\n",
              "    </tr>\n",
              "  </thead>\n",
              "  <tbody>\n",
              "    <tr>\n",
              "      <th>0</th>\n",
              "      <td>selamat sore saya adalah ibu dari satu anak sa...</td>\n",
              "      <td>Violence</td>\n",
              "    </tr>\n",
              "    <tr>\n",
              "      <th>1</th>\n",
              "      <td>mohon bantu pak saya sedang hamil pak diluar n...</td>\n",
              "      <td>Non-Violence</td>\n",
              "    </tr>\n",
              "    <tr>\n",
              "      <th>2</th>\n",
              "      <td>saya seorang anak perempuan yang bersuami teta...</td>\n",
              "      <td>Violence</td>\n",
              "    </tr>\n",
              "    <tr>\n",
              "      <th>3</th>\n",
              "      <td>jika anak perempuan tidak di beri nafkah orang...</td>\n",
              "      <td>Non-Violence</td>\n",
              "    </tr>\n",
              "    <tr>\n",
              "      <th>4</th>\n",
              "      <td>pak saya status pernikahan sudah setahun pisah...</td>\n",
              "      <td>Violence</td>\n",
              "    </tr>\n",
              "    <tr>\n",
              "      <th>...</th>\n",
              "      <td>...</td>\n",
              "      <td>...</td>\n",
              "    </tr>\n",
              "    <tr>\n",
              "      <th>201</th>\n",
              "      <td>Kami bersama-sama membangun program mentorship...</td>\n",
              "      <td>Non-Violence</td>\n",
              "    </tr>\n",
              "    <tr>\n",
              "      <th>202</th>\n",
              "      <td>Dalam menjalani kehidupan sehari-hari, kami be...</td>\n",
              "      <td>Non-Violence</td>\n",
              "    </tr>\n",
              "    <tr>\n",
              "      <th>203</th>\n",
              "      <td>Melibatkan generasi muda dalam kegiatan positi...</td>\n",
              "      <td>Non-Violence</td>\n",
              "    </tr>\n",
              "    <tr>\n",
              "      <th>204</th>\n",
              "      <td>Kami aktif dalam kampanye keamanan jalan raya ...</td>\n",
              "      <td>Non-Violence</td>\n",
              "    </tr>\n",
              "    <tr>\n",
              "      <th>205</th>\n",
              "      <td>Sebagai bagian dari upaya mendukung kesehatan ...</td>\n",
              "      <td>Non-Violence</td>\n",
              "    </tr>\n",
              "  </tbody>\n",
              "</table>\n",
              "<p>206 rows × 2 columns</p>\n",
              "</div>\n",
              "    <div class=\"colab-df-buttons\">\n",
              "\n",
              "  <div class=\"colab-df-container\">\n",
              "    <button class=\"colab-df-convert\" onclick=\"convertToInteractive('df-e4772ca0-777e-4792-ae1b-2d257df9e4c2')\"\n",
              "            title=\"Convert this dataframe to an interactive table.\"\n",
              "            style=\"display:none;\">\n",
              "\n",
              "  <svg xmlns=\"http://www.w3.org/2000/svg\" height=\"24px\" viewBox=\"0 -960 960 960\">\n",
              "    <path d=\"M120-120v-720h720v720H120Zm60-500h600v-160H180v160Zm220 220h160v-160H400v160Zm0 220h160v-160H400v160ZM180-400h160v-160H180v160Zm440 0h160v-160H620v160ZM180-180h160v-160H180v160Zm440 0h160v-160H620v160Z\"/>\n",
              "  </svg>\n",
              "    </button>\n",
              "\n",
              "  <style>\n",
              "    .colab-df-container {\n",
              "      display:flex;\n",
              "      gap: 12px;\n",
              "    }\n",
              "\n",
              "    .colab-df-convert {\n",
              "      background-color: #E8F0FE;\n",
              "      border: none;\n",
              "      border-radius: 50%;\n",
              "      cursor: pointer;\n",
              "      display: none;\n",
              "      fill: #1967D2;\n",
              "      height: 32px;\n",
              "      padding: 0 0 0 0;\n",
              "      width: 32px;\n",
              "    }\n",
              "\n",
              "    .colab-df-convert:hover {\n",
              "      background-color: #E2EBFA;\n",
              "      box-shadow: 0px 1px 2px rgba(60, 64, 67, 0.3), 0px 1px 3px 1px rgba(60, 64, 67, 0.15);\n",
              "      fill: #174EA6;\n",
              "    }\n",
              "\n",
              "    .colab-df-buttons div {\n",
              "      margin-bottom: 4px;\n",
              "    }\n",
              "\n",
              "    [theme=dark] .colab-df-convert {\n",
              "      background-color: #3B4455;\n",
              "      fill: #D2E3FC;\n",
              "    }\n",
              "\n",
              "    [theme=dark] .colab-df-convert:hover {\n",
              "      background-color: #434B5C;\n",
              "      box-shadow: 0px 1px 3px 1px rgba(0, 0, 0, 0.15);\n",
              "      filter: drop-shadow(0px 1px 2px rgba(0, 0, 0, 0.3));\n",
              "      fill: #FFFFFF;\n",
              "    }\n",
              "  </style>\n",
              "\n",
              "    <script>\n",
              "      const buttonEl =\n",
              "        document.querySelector('#df-e4772ca0-777e-4792-ae1b-2d257df9e4c2 button.colab-df-convert');\n",
              "      buttonEl.style.display =\n",
              "        google.colab.kernel.accessAllowed ? 'block' : 'none';\n",
              "\n",
              "      async function convertToInteractive(key) {\n",
              "        const element = document.querySelector('#df-e4772ca0-777e-4792-ae1b-2d257df9e4c2');\n",
              "        const dataTable =\n",
              "          await google.colab.kernel.invokeFunction('convertToInteractive',\n",
              "                                                    [key], {});\n",
              "        if (!dataTable) return;\n",
              "\n",
              "        const docLinkHtml = 'Like what you see? Visit the ' +\n",
              "          '<a target=\"_blank\" href=https://colab.research.google.com/notebooks/data_table.ipynb>data table notebook</a>'\n",
              "          + ' to learn more about interactive tables.';\n",
              "        element.innerHTML = '';\n",
              "        dataTable['output_type'] = 'display_data';\n",
              "        await google.colab.output.renderOutput(dataTable, element);\n",
              "        const docLink = document.createElement('div');\n",
              "        docLink.innerHTML = docLinkHtml;\n",
              "        element.appendChild(docLink);\n",
              "      }\n",
              "    </script>\n",
              "  </div>\n",
              "\n",
              "\n",
              "<div id=\"df-fb17de24-aeac-4f01-9afc-3ae7cf649970\">\n",
              "  <button class=\"colab-df-quickchart\" onclick=\"quickchart('df-fb17de24-aeac-4f01-9afc-3ae7cf649970')\"\n",
              "            title=\"Suggest charts\"\n",
              "            style=\"display:none;\">\n",
              "\n",
              "<svg xmlns=\"http://www.w3.org/2000/svg\" height=\"24px\"viewBox=\"0 0 24 24\"\n",
              "     width=\"24px\">\n",
              "    <g>\n",
              "        <path d=\"M19 3H5c-1.1 0-2 .9-2 2v14c0 1.1.9 2 2 2h14c1.1 0 2-.9 2-2V5c0-1.1-.9-2-2-2zM9 17H7v-7h2v7zm4 0h-2V7h2v10zm4 0h-2v-4h2v4z\"/>\n",
              "    </g>\n",
              "</svg>\n",
              "  </button>\n",
              "\n",
              "<style>\n",
              "  .colab-df-quickchart {\n",
              "      --bg-color: #E8F0FE;\n",
              "      --fill-color: #1967D2;\n",
              "      --hover-bg-color: #E2EBFA;\n",
              "      --hover-fill-color: #174EA6;\n",
              "      --disabled-fill-color: #AAA;\n",
              "      --disabled-bg-color: #DDD;\n",
              "  }\n",
              "\n",
              "  [theme=dark] .colab-df-quickchart {\n",
              "      --bg-color: #3B4455;\n",
              "      --fill-color: #D2E3FC;\n",
              "      --hover-bg-color: #434B5C;\n",
              "      --hover-fill-color: #FFFFFF;\n",
              "      --disabled-bg-color: #3B4455;\n",
              "      --disabled-fill-color: #666;\n",
              "  }\n",
              "\n",
              "  .colab-df-quickchart {\n",
              "    background-color: var(--bg-color);\n",
              "    border: none;\n",
              "    border-radius: 50%;\n",
              "    cursor: pointer;\n",
              "    display: none;\n",
              "    fill: var(--fill-color);\n",
              "    height: 32px;\n",
              "    padding: 0;\n",
              "    width: 32px;\n",
              "  }\n",
              "\n",
              "  .colab-df-quickchart:hover {\n",
              "    background-color: var(--hover-bg-color);\n",
              "    box-shadow: 0 1px 2px rgba(60, 64, 67, 0.3), 0 1px 3px 1px rgba(60, 64, 67, 0.15);\n",
              "    fill: var(--button-hover-fill-color);\n",
              "  }\n",
              "\n",
              "  .colab-df-quickchart-complete:disabled,\n",
              "  .colab-df-quickchart-complete:disabled:hover {\n",
              "    background-color: var(--disabled-bg-color);\n",
              "    fill: var(--disabled-fill-color);\n",
              "    box-shadow: none;\n",
              "  }\n",
              "\n",
              "  .colab-df-spinner {\n",
              "    border: 2px solid var(--fill-color);\n",
              "    border-color: transparent;\n",
              "    border-bottom-color: var(--fill-color);\n",
              "    animation:\n",
              "      spin 1s steps(1) infinite;\n",
              "  }\n",
              "\n",
              "  @keyframes spin {\n",
              "    0% {\n",
              "      border-color: transparent;\n",
              "      border-bottom-color: var(--fill-color);\n",
              "      border-left-color: var(--fill-color);\n",
              "    }\n",
              "    20% {\n",
              "      border-color: transparent;\n",
              "      border-left-color: var(--fill-color);\n",
              "      border-top-color: var(--fill-color);\n",
              "    }\n",
              "    30% {\n",
              "      border-color: transparent;\n",
              "      border-left-color: var(--fill-color);\n",
              "      border-top-color: var(--fill-color);\n",
              "      border-right-color: var(--fill-color);\n",
              "    }\n",
              "    40% {\n",
              "      border-color: transparent;\n",
              "      border-right-color: var(--fill-color);\n",
              "      border-top-color: var(--fill-color);\n",
              "    }\n",
              "    60% {\n",
              "      border-color: transparent;\n",
              "      border-right-color: var(--fill-color);\n",
              "    }\n",
              "    80% {\n",
              "      border-color: transparent;\n",
              "      border-right-color: var(--fill-color);\n",
              "      border-bottom-color: var(--fill-color);\n",
              "    }\n",
              "    90% {\n",
              "      border-color: transparent;\n",
              "      border-bottom-color: var(--fill-color);\n",
              "    }\n",
              "  }\n",
              "</style>\n",
              "\n",
              "  <script>\n",
              "    async function quickchart(key) {\n",
              "      const quickchartButtonEl =\n",
              "        document.querySelector('#' + key + ' button');\n",
              "      quickchartButtonEl.disabled = true;  // To prevent multiple clicks.\n",
              "      quickchartButtonEl.classList.add('colab-df-spinner');\n",
              "      try {\n",
              "        const charts = await google.colab.kernel.invokeFunction(\n",
              "            'suggestCharts', [key], {});\n",
              "      } catch (error) {\n",
              "        console.error('Error during call to suggestCharts:', error);\n",
              "      }\n",
              "      quickchartButtonEl.classList.remove('colab-df-spinner');\n",
              "      quickchartButtonEl.classList.add('colab-df-quickchart-complete');\n",
              "    }\n",
              "    (() => {\n",
              "      let quickchartButtonEl =\n",
              "        document.querySelector('#df-fb17de24-aeac-4f01-9afc-3ae7cf649970 button');\n",
              "      quickchartButtonEl.style.display =\n",
              "        google.colab.kernel.accessAllowed ? 'block' : 'none';\n",
              "    })();\n",
              "  </script>\n",
              "</div>\n",
              "    </div>\n",
              "  </div>\n"
            ]
          },
          "metadata": {},
          "execution_count": 4
        }
      ]
    },
    {
      "cell_type": "code",
      "source": [
        "dv.info()"
      ],
      "metadata": {
        "colab": {
          "base_uri": "https://localhost:8080/"
        },
        "id": "9uAqXQlmZMlK",
        "outputId": "a7398027-fc5f-4069-ef12-39ea2ceab510"
      },
      "execution_count": null,
      "outputs": [
        {
          "output_type": "stream",
          "name": "stdout",
          "text": [
            "<class 'pandas.core.frame.DataFrame'>\n",
            "RangeIndex: 206 entries, 0 to 205\n",
            "Data columns (total 2 columns):\n",
            " #   Column  Non-Null Count  Dtype \n",
            "---  ------  --------------  ----- \n",
            " 0   Teks    206 non-null    object\n",
            " 1   Label   206 non-null    object\n",
            "dtypes: object(2)\n",
            "memory usage: 3.3+ KB\n"
          ]
        }
      ]
    },
    {
      "cell_type": "code",
      "source": [
        "# Checking for null values\n",
        "dv.isnull().values.any()"
      ],
      "metadata": {
        "colab": {
          "base_uri": "https://localhost:8080/"
        },
        "id": "fx5Iv2TuZQJj",
        "outputId": "578abd4c-569b-4292-f621-bc034ad1257a"
      },
      "execution_count": null,
      "outputs": [
        {
          "output_type": "execute_result",
          "data": {
            "text/plain": [
              "False"
            ]
          },
          "metadata": {},
          "execution_count": 6
        }
      ]
    },
    {
      "cell_type": "code",
      "source": [
        "# Melihat jumlah masing-masing tipe\n",
        "dv['Label'].value_counts()"
      ],
      "metadata": {
        "colab": {
          "base_uri": "https://localhost:8080/"
        },
        "id": "_ZIfkyAiZTWH",
        "outputId": "572831fe-ed37-4875-9058-ff20fe50277f"
      },
      "execution_count": null,
      "outputs": [
        {
          "output_type": "execute_result",
          "data": {
            "text/plain": [
              "Violence        103\n",
              "Non-Violence    103\n",
              "Name: Label, dtype: int64"
            ]
          },
          "metadata": {},
          "execution_count": 7
        }
      ]
    },
    {
      "cell_type": "code",
      "source": [
        "# Distribusi Target\n",
        "x = dv.Teks\n",
        "y = dv.Label\n",
        "\n",
        "from collections import Counter\n",
        "\n",
        "print(Counter(y))\n",
        "sns.countplot(x=y)"
      ],
      "metadata": {
        "colab": {
          "base_uri": "https://localhost:8080/",
          "height": 513
        },
        "id": "6whDhermZXRs",
        "outputId": "957a3d06-07f4-4802-d9f9-faa46c483aa1"
      },
      "execution_count": null,
      "outputs": [
        {
          "output_type": "stream",
          "name": "stdout",
          "text": [
            "Counter({'Violence': 103, 'Non-Violence': 103})\n"
          ]
        },
        {
          "output_type": "execute_result",
          "data": {
            "text/plain": [
              "<Axes: xlabel='Label', ylabel='count'>"
            ]
          },
          "metadata": {},
          "execution_count": 8
        },
        {
          "output_type": "display_data",
          "data": {
            "text/plain": [
              "<Figure size 640x480 with 1 Axes>"
            ],
            "image/png": "[encoded data removed]"
          },
          "metadata": {}
        }
      ]
    },
    {
      "cell_type": "code",
      "source": [
        "# Melihat statistical description serta histogram panjang teks Non-B\n",
        "dv[\"Length\"] = dv.Teks.str.split().apply(len)\n",
        "plt.figure(figsize=(5,5))\n",
        "sns.histplot(dv[dv[\"Label\"]==\"Non-Violence\"]['Length'],color=\"g\")\n",
        "plt.title(\"Distribution of text length for not_violence\")\n",
        "display(dv.Length[dv[\"Label\"]==\"Non-Violence\"].describe())"
      ],
      "metadata": {
        "colab": {
          "base_uri": "https://localhost:8080/",
          "height": 680
        },
        "id": "Vj8udZoDZZoJ",
        "outputId": "ca94dd62-5bdb-4d11-b67c-1b08cd067b9b"
      },
      "execution_count": null,
      "outputs": [
        {
          "output_type": "display_data",
          "data": {
            "text/plain": [
              "count    103.000000\n",
              "mean      22.126214\n",
              "std       11.981751\n",
              "min        6.000000\n",
              "25%       15.000000\n",
              "50%       21.000000\n",
              "75%       25.000000\n",
              "max       94.000000\n",
              "Name: Length, dtype: float64"
            ]
          },
          "metadata": {}
        },
        {
          "output_type": "display_data",
          "data": {
            "text/plain": [
              "<Figure size 500x500 with 1 Axes>"
            ],
            "image/png": "[encoded data removed]"
          },
          "metadata": {}
        }
      ]
    },
    {
      "cell_type": "code",
      "source": [
        "# Melihat statistical description serta histogram panjang teks B\n",
        "dv[\"Length\"] = dv.Teks.str.split().apply(len)\n",
        "plt.figure(figsize=(5,5))\n",
        "sns.histplot(dv[dv[\"Label\"]==\"violence\"]['Length'],color=\"r\")\n",
        "plt.title(\"Distribution of text length for violence\")\n",
        "display(dv.Length[dv[\"Label\"]==\"Violence\"].describe())"
      ],
      "metadata": {
        "colab": {
          "base_uri": "https://localhost:8080/",
          "height": 652
        },
        "id": "FZSa-KNnZw8b",
        "outputId": "ed8c9c5f-95ce-42be-e30f-434367dcc088"
      },
      "execution_count": null,
      "outputs": [
        {
          "output_type": "display_data",
          "data": {
            "text/plain": [
              "count    103.000000\n",
              "mean      17.631068\n",
              "std       13.782619\n",
              "min        4.000000\n",
              "25%        8.500000\n",
              "50%       14.000000\n",
              "75%       20.000000\n",
              "max       77.000000\n",
              "Name: Length, dtype: float64"
            ]
          },
          "metadata": {}
        },
        {
          "output_type": "display_data",
          "data": {
            "text/plain": [
              "<Figure size 500x500 with 1 Axes>"
            ],
            "image/png": "[encoded data removed]"
          },
          "metadata": {}
        }
      ]
    },
    {
      "cell_type": "code",
      "source": [
        "# variabel untuk kolom teks\n",
        "texts = dv.Teks\n",
        "print(texts.head())"
      ],
      "metadata": {
        "colab": {
          "base_uri": "https://localhost:8080/"
        },
        "id": "wzh3SJWAaBij",
        "outputId": "08a038b7-c8ac-44d6-b5fe-aabb416c2cfc"
      },
      "execution_count": null,
      "outputs": [
        {
          "output_type": "stream",
          "name": "stdout",
          "text": [
            "0    selamat sore saya adalah ibu dari satu anak sa...\n",
            "1    mohon bantu pak saya sedang hamil pak diluar n...\n",
            "2    saya seorang anak perempuan yang bersuami teta...\n",
            "3    jika anak perempuan tidak di beri nafkah orang...\n",
            "4    pak saya status pernikahan sudah setahun pisah...\n",
            "Name: Teks, dtype: object\n"
          ]
        }
      ]
    },
    {
      "cell_type": "code",
      "source": [
        "# Case Folding\n",
        "# gunakan fungsi series.str.lower() pada Pandas\n",
        "texts = texts.str.lower()\n",
        "\n",
        "print(texts.head())"
      ],
      "metadata": {
        "colab": {
          "base_uri": "https://localhost:8080/"
        },
        "id": "SfiJFGEfaG-Z",
        "outputId": "5243257a-077c-4cb4-951d-57f778735b8d"
      },
      "execution_count": null,
      "outputs": [
        {
          "output_type": "stream",
          "name": "stdout",
          "text": [
            "0    selamat sore saya adalah ibu dari satu anak sa...\n",
            "1    mohon bantu pak saya sedang hamil pak diluar n...\n",
            "2    saya seorang anak perempuan yang bersuami teta...\n",
            "3    jika anak perempuan tidak di beri nafkah orang...\n",
            "4    pak saya status pernikahan sudah setahun pisah...\n",
            "Name: Teks, dtype: object\n"
          ]
        }
      ]
    },
    {
      "cell_type": "code",
      "source": [
        "def remove_special_signs(text):\n",
        "    # remove tab, new line, ans back slice\n",
        "    text = text.replace('\\\\t',\" \").replace('\\\\n',\" \").replace('\\\\u',\" \").replace('\\\\',\"\")\n",
        "    # remove non ASCII (emoticon, chinese word, .etc)\n",
        "    text = text.encode('ascii', 'replace').decode('ascii')\n",
        "    # remove mention, link, hashtag\n",
        "    text = ' '.join(re.sub(\"([@#][A-Za-z0-9]+)|(\\w+:\\/\\/\\S+)\",\" \", text).split())\n",
        "    # remove incomplete URL\n",
        "    return text.replace(\"http://\", \" \").replace(\"https://\", \" \")\n",
        "\n",
        "texts = texts.apply(remove_special_signs)\n",
        "print(texts.head())"
      ],
      "metadata": {
        "colab": {
          "base_uri": "https://localhost:8080/"
        },
        "id": "x7RwzHskaJQe",
        "outputId": "ba465199-a894-4827-aa39-a751e5041114"
      },
      "execution_count": null,
      "outputs": [
        {
          "output_type": "stream",
          "name": "stdout",
          "text": [
            "0    selamat sore saya adalah ibu dari satu anak sa...\n",
            "1    mohon bantu pak saya sedang hamil pak diluar n...\n",
            "2    saya seorang anak perempuan yang bersuami teta...\n",
            "3    jika anak perempuan tidak di beri nafkah orang...\n",
            "4    pak saya status pernikahan sudah setahun pisah...\n",
            "Name: Teks, dtype: object\n"
          ]
        }
      ]
    },
    {
      "cell_type": "code",
      "source": [
        "#remove number\n",
        "def remove_number(text):\n",
        "    return  re.sub(r\"\\d+\", \"\", text)\n",
        "\n",
        "texts = texts.apply(remove_number)\n",
        "texts.head(5)"
      ],
      "metadata": {
        "colab": {
          "base_uri": "https://localhost:8080/"
        },
        "id": "PZktWBrIaL-E",
        "outputId": "af39f712-8e66-475c-87a7-9ec6878a7d17"
      },
      "execution_count": null,
      "outputs": [
        {
          "output_type": "execute_result",
          "data": {
            "text/plain": [
              "0    selamat sore saya adalah ibu dari satu anak sa...\n",
              "1    mohon bantu pak saya sedang hamil pak diluar n...\n",
              "2    saya seorang anak perempuan yang bersuami teta...\n",
              "3    jika anak perempuan tidak di beri nafkah orang...\n",
              "4    pak saya status pernikahan sudah setahun pisah...\n",
              "Name: Teks, dtype: object"
            ]
          },
          "metadata": {},
          "execution_count": 14
        }
      ]
    },
    {
      "cell_type": "code",
      "source": [
        "# remove punctuation\n",
        "def remove_punctuation(text):\n",
        "    return text.translate(str.maketrans(\"\",\"\",string.punctuation))\n",
        "\n",
        "texts = texts.apply(remove_punctuation)\n",
        "texts.head(5)"
      ],
      "metadata": {
        "colab": {
          "base_uri": "https://localhost:8080/"
        },
        "id": "RdvlH94gaOe5",
        "outputId": "c1fb5f23-b81c-4bd1-9ec6-f8b10452b853"
      },
      "execution_count": null,
      "outputs": [
        {
          "output_type": "execute_result",
          "data": {
            "text/plain": [
              "0    selamat sore saya adalah ibu dari satu anak sa...\n",
              "1    mohon bantu pak saya sedang hamil pak diluar n...\n",
              "2    saya seorang anak perempuan yang bersuami teta...\n",
              "3    jika anak perempuan tidak di beri nafkah orang...\n",
              "4    pak saya status pernikahan sudah setahun pisah...\n",
              "Name: Teks, dtype: object"
            ]
          },
          "metadata": {},
          "execution_count": 15
        }
      ]
    },
    {
      "cell_type": "code",
      "source": [
        "#remove whitespace leading & trailing\n",
        "def remove_whitespace_LT(text):\n",
        "    return text.strip()\n",
        "\n",
        "texts = texts.apply(remove_whitespace_LT)\n",
        "print(texts.head())"
      ],
      "metadata": {
        "colab": {
          "base_uri": "https://localhost:8080/"
        },
        "id": "SMdHuVq2aT0c",
        "outputId": "93ce7689-d7c1-46b0-8062-7cb4a7c2e56e"
      },
      "execution_count": null,
      "outputs": [
        {
          "output_type": "stream",
          "name": "stdout",
          "text": [
            "0    selamat sore saya adalah ibu dari satu anak sa...\n",
            "1    mohon bantu pak saya sedang hamil pak diluar n...\n",
            "2    saya seorang anak perempuan yang bersuami teta...\n",
            "3    jika anak perempuan tidak di beri nafkah orang...\n",
            "4    pak saya status pernikahan sudah setahun pisah...\n",
            "Name: Teks, dtype: object\n"
          ]
        }
      ]
    },
    {
      "cell_type": "code",
      "source": [
        "# remove multiple whitespace into single whitespace\n",
        "def remove_whitespace_multiple(text):\n",
        "    return re.sub('\\s+',' ',text)\n",
        "\n",
        "texts = texts.apply(remove_whitespace_multiple)\n",
        "print(texts.head())"
      ],
      "metadata": {
        "colab": {
          "base_uri": "https://localhost:8080/"
        },
        "id": "ummguDJAaVgO",
        "outputId": "8fb17277-eec6-4fa6-9aa7-2c07c87325fc"
      },
      "execution_count": null,
      "outputs": [
        {
          "output_type": "stream",
          "name": "stdout",
          "text": [
            "0    selamat sore saya adalah ibu dari satu anak sa...\n",
            "1    mohon bantu pak saya sedang hamil pak diluar n...\n",
            "2    saya seorang anak perempuan yang bersuami teta...\n",
            "3    jika anak perempuan tidak di beri nafkah orang...\n",
            "4    pak saya status pernikahan sudah setahun pisah...\n",
            "Name: Teks, dtype: object\n"
          ]
        }
      ]
    },
    {
      "cell_type": "code",
      "source": [
        "# remove single char\n",
        "def remove_singl_char(text):\n",
        "    return re.sub(r\"\\b[a-zA-Z]\\b\", \"\", text)\n",
        "\n",
        "texts = texts.apply(remove_singl_char)\n",
        "print(texts.head())"
      ],
      "metadata": {
        "colab": {
          "base_uri": "https://localhost:8080/"
        },
        "id": "KupqcUzcaYO4",
        "outputId": "e67103d6-03d0-4841-e6a6-4bedae72af88"
      },
      "execution_count": null,
      "outputs": [
        {
          "output_type": "stream",
          "name": "stdout",
          "text": [
            "0    selamat sore saya adalah ibu dari satu anak sa...\n",
            "1    mohon bantu pak saya sedang hamil pak diluar n...\n",
            "2    saya seorang anak perempuan yang bersuami teta...\n",
            "3    jika anak perempuan tidak di beri nafkah orang...\n",
            "4    pak saya status pernikahan sudah setahun pisah...\n",
            "Name: Teks, dtype: object\n"
          ]
        }
      ]
    },
    {
      "cell_type": "code",
      "source": [
        "# Filtering - Stopword Removal\n",
        "from nltk.corpus import stopwords\n",
        "# Get Indonesian stopwords\n",
        "list_stopwords = stopwords.words('indonesian')\n",
        "\n",
        "# append additional stopword\n",
        "list_stopwords.extend([\"yg\", \"dg\", \"rt\", \"dgn\", \"ny\", \"d\", 'klo',\n",
        "                       'kalo', 'amp', 'biar', 'bikin', 'bilang',\n",
        "                       'gak', 'ga', 'krn', 'nya', 'nih', 'sih',\n",
        "                       'si', 'tau', 'tdk', 'tuh', 'utk', 'ya',\n",
        "                       'jd', 'jgn', 'sdh', 'aja',\n",
        "                       'nyg', 'hehe', 'pen', 'nan', 'loh',\n",
        "                       '&amp', 'yah',])\n",
        "\n",
        "# read txt stopword using pandas\n",
        "csv_stopword = pd.read_csv(\"/content/gdrive/MyDrive/Colab Notebooks/Bangkit/stopwordsID.csv\")\n",
        "\n",
        "# convert stopword string to list & append additional stopword\n",
        "list_stopwords.extend(csv_stopword)\n",
        "\n",
        "# convert list to dictionary\n",
        "list_stopwords = set(list_stopwords)\n",
        "\n",
        "#remove stopword pada list token\n",
        "def stopwords_removal(words):\n",
        "    return [word for word in words if word not in list_stopwords]\n",
        "\n",
        "texts = texts.apply(stopwords_removal)\n",
        "\n",
        "\n",
        "print(texts.head())"
      ],
      "metadata": {
        "colab": {
          "base_uri": "https://localhost:8080/"
        },
        "id": "NuEA7euCafIq",
        "outputId": "3df6d81c-0066-4f50-afc9-0eb5f4a622dc"
      },
      "execution_count": null,
      "outputs": [
        {
          "output_type": "stream",
          "name": "stdout",
          "text": [
            "0    [s, e, l, a, m, a, t,  , s, o, r, e,  , s, a, ...\n",
            "1    [m, o, h, o, n,  , b, a, n, t, u,  , p, a, k, ...\n",
            "2    [s, a, y, a,  , s, e, o, r, a, n, g,  , a, n, ...\n",
            "3    [j, i, k, a,  , a, n, a, k,  , p, e, r, e, m, ...\n",
            "4    [p, a, k,  , s, a, y, a,  , s, t, a, t, u, s, ...\n",
            "Name: Teks, dtype: object\n"
          ]
        }
      ]
    },
    {
      "cell_type": "code",
      "source": [
        "def normalize_text(text):\n",
        "    text = text.lower()\n",
        "    text = re.sub(r'[^a-z\\s]', '', text)\n",
        "    stop_words = set(stopwords.words('indonesian'))\n",
        "    text = ' '.join([word for word in text.split() if word not in stop_words])\n",
        "    text = re.sub(r'\\s+', ' ', text)\n",
        "    return text.strip()\n",
        "\n",
        "dv['Teks'] = dv['Teks'].apply(normalize_text)"
      ],
      "metadata": {
        "id": "Yz4Z9c6_apsq"
      },
      "execution_count": null,
      "outputs": []
    },
    {
      "cell_type": "code",
      "source": [
        "# convert the categorical values to numeric using the factorize() method. This returns an array of numeric values and an Index of categories.\n",
        "# Inisialisasi variabel target\n",
        "y = dv[\"Label\"]\n",
        "#mengubah y menjadi integer\n",
        "label_encoder = LabelEncoder()\n",
        "y = label_encoder.fit_transform(y)\n",
        "y = to_categorical(y)\n",
        "print(y)"
      ],
      "metadata": {
        "colab": {
          "base_uri": "https://localhost:8080/"
        },
        "id": "xg1XA0BrbA_-",
        "outputId": "a619085d-7889-4f21-d32f-8d120ec80cf2"
      },
      "execution_count": null,
      "outputs": [
        {
          "output_type": "stream",
          "name": "stdout",
          "text": [
            "[[0. 1.]\n",
            " [1. 0.]\n",
            " [0. 1.]\n",
            " [1. 0.]\n",
            " [0. 1.]\n",
            " [1. 0.]\n",
            " [1. 0.]\n",
            " [0. 1.]\n",
            " [0. 1.]\n",
            " [0. 1.]\n",
            " [0. 1.]\n",
            " [1. 0.]\n",
            " [0. 1.]\n",
            " [0. 1.]\n",
            " [0. 1.]\n",
            " [0. 1.]\n",
            " [0. 1.]\n",
            " [0. 1.]\n",
            " [1. 0.]\n",
            " [0. 1.]\n",
            " [0. 1.]\n",
            " [0. 1.]\n",
            " [1. 0.]\n",
            " [0. 1.]\n",
            " [1. 0.]\n",
            " [1. 0.]\n",
            " [1. 0.]\n",
            " [0. 1.]\n",
            " [1. 0.]\n",
            " [1. 0.]\n",
            " [1. 0.]\n",
            " [1. 0.]\n",
            " [1. 0.]\n",
            " [0. 1.]\n",
            " [0. 1.]\n",
            " [1. 0.]\n",
            " [1. 0.]\n",
            " [1. 0.]\n",
            " [1. 0.]\n",
            " [1. 0.]\n",
            " [1. 0.]\n",
            " [1. 0.]\n",
            " [1. 0.]\n",
            " [0. 1.]\n",
            " [0. 1.]\n",
            " [0. 1.]\n",
            " [0. 1.]\n",
            " [0. 1.]\n",
            " [1. 0.]\n",
            " [1. 0.]\n",
            " [0. 1.]\n",
            " [0. 1.]\n",
            " [1. 0.]\n",
            " [0. 1.]\n",
            " [1. 0.]\n",
            " [0. 1.]\n",
            " [1. 0.]\n",
            " [0. 1.]\n",
            " [0. 1.]\n",
            " [0. 1.]\n",
            " [1. 0.]\n",
            " [0. 1.]\n",
            " [0. 1.]\n",
            " [0. 1.]\n",
            " [0. 1.]\n",
            " [0. 1.]\n",
            " [0. 1.]\n",
            " [1. 0.]\n",
            " [0. 1.]\n",
            " [0. 1.]\n",
            " [1. 0.]\n",
            " [1. 0.]\n",
            " [0. 1.]\n",
            " [1. 0.]\n",
            " [0. 1.]\n",
            " [1. 0.]\n",
            " [0. 1.]\n",
            " [1. 0.]\n",
            " [0. 1.]\n",
            " [0. 1.]\n",
            " [0. 1.]\n",
            " [1. 0.]\n",
            " [0. 1.]\n",
            " [0. 1.]\n",
            " [1. 0.]\n",
            " [0. 1.]\n",
            " [0. 1.]\n",
            " [0. 1.]\n",
            " [1. 0.]\n",
            " [1. 0.]\n",
            " [0. 1.]\n",
            " [1. 0.]\n",
            " [0. 1.]\n",
            " [1. 0.]\n",
            " [0. 1.]\n",
            " [1. 0.]\n",
            " [0. 1.]\n",
            " [0. 1.]\n",
            " [0. 1.]\n",
            " [1. 0.]\n",
            " [0. 1.]\n",
            " [0. 1.]\n",
            " [1. 0.]\n",
            " [0. 1.]\n",
            " [0. 1.]\n",
            " [0. 1.]\n",
            " [0. 1.]\n",
            " [0. 1.]\n",
            " [0. 1.]\n",
            " [0. 1.]\n",
            " [0. 1.]\n",
            " [0. 1.]\n",
            " [0. 1.]\n",
            " [0. 1.]\n",
            " [0. 1.]\n",
            " [0. 1.]\n",
            " [0. 1.]\n",
            " [0. 1.]\n",
            " [0. 1.]\n",
            " [0. 1.]\n",
            " [0. 1.]\n",
            " [0. 1.]\n",
            " [0. 1.]\n",
            " [0. 1.]\n",
            " [0. 1.]\n",
            " [0. 1.]\n",
            " [0. 1.]\n",
            " [0. 1.]\n",
            " [0. 1.]\n",
            " [0. 1.]\n",
            " [0. 1.]\n",
            " [0. 1.]\n",
            " [0. 1.]\n",
            " [0. 1.]\n",
            " [0. 1.]\n",
            " [0. 1.]\n",
            " [0. 1.]\n",
            " [0. 1.]\n",
            " [0. 1.]\n",
            " [0. 1.]\n",
            " [0. 1.]\n",
            " [0. 1.]\n",
            " [0. 1.]\n",
            " [0. 1.]\n",
            " [0. 1.]\n",
            " [0. 1.]\n",
            " [0. 1.]\n",
            " [1. 0.]\n",
            " [1. 0.]\n",
            " [1. 0.]\n",
            " [1. 0.]\n",
            " [1. 0.]\n",
            " [1. 0.]\n",
            " [1. 0.]\n",
            " [1. 0.]\n",
            " [1. 0.]\n",
            " [1. 0.]\n",
            " [1. 0.]\n",
            " [1. 0.]\n",
            " [1. 0.]\n",
            " [1. 0.]\n",
            " [1. 0.]\n",
            " [1. 0.]\n",
            " [1. 0.]\n",
            " [1. 0.]\n",
            " [1. 0.]\n",
            " [1. 0.]\n",
            " [1. 0.]\n",
            " [1. 0.]\n",
            " [1. 0.]\n",
            " [1. 0.]\n",
            " [1. 0.]\n",
            " [1. 0.]\n",
            " [1. 0.]\n",
            " [1. 0.]\n",
            " [1. 0.]\n",
            " [1. 0.]\n",
            " [1. 0.]\n",
            " [1. 0.]\n",
            " [1. 0.]\n",
            " [1. 0.]\n",
            " [1. 0.]\n",
            " [1. 0.]\n",
            " [1. 0.]\n",
            " [1. 0.]\n",
            " [1. 0.]\n",
            " [1. 0.]\n",
            " [1. 0.]\n",
            " [1. 0.]\n",
            " [1. 0.]\n",
            " [1. 0.]\n",
            " [1. 0.]\n",
            " [1. 0.]\n",
            " [1. 0.]\n",
            " [1. 0.]\n",
            " [1. 0.]\n",
            " [1. 0.]\n",
            " [1. 0.]\n",
            " [1. 0.]\n",
            " [1. 0.]\n",
            " [1. 0.]\n",
            " [1. 0.]\n",
            " [1. 0.]\n",
            " [1. 0.]\n",
            " [1. 0.]\n",
            " [1. 0.]]\n"
          ]
        }
      ]
    },
    {
      "cell_type": "code",
      "source": [
        "# Menghitung jumlah value integer sentimen\n",
        "dv[\"Label\"].value_counts()"
      ],
      "metadata": {
        "colab": {
          "base_uri": "https://localhost:8080/"
        },
        "id": "JedyuuRzbHdd",
        "outputId": "ca4480bf-d186-4726-e231-ae1bcad3afec"
      },
      "execution_count": null,
      "outputs": [
        {
          "output_type": "execute_result",
          "data": {
            "text/plain": [
              "Violence        103\n",
              "Non-Violence    103\n",
              "Name: Label, dtype: int64"
            ]
          },
          "metadata": {},
          "execution_count": 22
        }
      ]
    },
    {
      "cell_type": "code",
      "source": [
        "# replace label pada dataset\n",
        "dv.Label.replace(\"Violence\", 1 , inplace = True)\n",
        "dv.Label.replace(\"Non-Violence\", 0 , inplace = True)\n",
        "dv.head(10)"
      ],
      "metadata": {
        "colab": {
          "base_uri": "https://localhost:8080/",
          "height": 363
        },
        "id": "PQZXtEngfA_R",
        "outputId": "f6731bc1-688e-470a-965f-7e85fd524019"
      },
      "execution_count": null,
      "outputs": [
        {
          "output_type": "execute_result",
          "data": {
            "text/plain": [
              "                                                Teks  Label  Length\n",
              "0  selamat sore anak janda mantan suami menganiay...      1      27\n",
              "1  mohon bantu hamil diluar nikah anak kembar pac...      0      42\n",
              "2  anak perempuan bersuami orang tua campur ayah ...      1      27\n",
              "3  anak perempuan nafkah orang tua nya lakukan an...      0      24\n",
              "4  status pernikahan setahun pisah ranjang pernik...      1      77\n",
              "5  ayah melarang anak bertemu nya dilarang merawa...      0      21\n",
              "6     bercerai tujuh ngga nafkah anak kemana bantuan      0      17\n",
              "7  anak anak ditelantarkan perantauan suami bawa ...      1      62\n",
              "8  lakukan perlindungan perempuan suami menyiksa ...      1      14\n",
              "9  tolong perlindungan pencemaran nama anak ancam...      1      20"
            ],
            "text/html": [
              "\n",
              "  <div id=\"df-ea4c6632-29e5-4d81-8fdc-6dda860f069b\" class=\"colab-df-container\">\n",
              "    <div>\n",
              "<style scoped>\n",
              "    .dataframe tbody tr th:only-of-type {\n",
              "        vertical-align: middle;\n",
              "    }\n",
              "\n",
              "    .dataframe tbody tr th {\n",
              "        vertical-align: top;\n",
              "    }\n",
              "\n",
              "    .dataframe thead th {\n",
              "        text-align: right;\n",
              "    }\n",
              "</style>\n",
              "<table border=\"1\" class=\"dataframe\">\n",
              "  <thead>\n",
              "    <tr style=\"text-align: right;\">\n",
              "      <th></th>\n",
              "      <th>Teks</th>\n",
              "      <th>Label</th>\n",
              "      <th>Length</th>\n",
              "    </tr>\n",
              "  </thead>\n",
              "  <tbody>\n",
              "    <tr>\n",
              "      <th>0</th>\n",
              "      <td>selamat sore anak janda mantan suami menganiay...</td>\n",
              "      <td>1</td>\n",
              "      <td>27</td>\n",
              "    </tr>\n",
              "    <tr>\n",
              "      <th>1</th>\n",
              "      <td>mohon bantu hamil diluar nikah anak kembar pac...</td>\n",
              "      <td>0</td>\n",
              "      <td>42</td>\n",
              "    </tr>\n",
              "    <tr>\n",
              "      <th>2</th>\n",
              "      <td>anak perempuan bersuami orang tua campur ayah ...</td>\n",
              "      <td>1</td>\n",
              "      <td>27</td>\n",
              "    </tr>\n",
              "    <tr>\n",
              "      <th>3</th>\n",
              "      <td>anak perempuan nafkah orang tua nya lakukan an...</td>\n",
              "      <td>0</td>\n",
              "      <td>24</td>\n",
              "    </tr>\n",
              "    <tr>\n",
              "      <th>4</th>\n",
              "      <td>status pernikahan setahun pisah ranjang pernik...</td>\n",
              "      <td>1</td>\n",
              "      <td>77</td>\n",
              "    </tr>\n",
              "    <tr>\n",
              "      <th>5</th>\n",
              "      <td>ayah melarang anak bertemu nya dilarang merawa...</td>\n",
              "      <td>0</td>\n",
              "      <td>21</td>\n",
              "    </tr>\n",
              "    <tr>\n",
              "      <th>6</th>\n",
              "      <td>bercerai tujuh ngga nafkah anak kemana bantuan</td>\n",
              "      <td>0</td>\n",
              "      <td>17</td>\n",
              "    </tr>\n",
              "    <tr>\n",
              "      <th>7</th>\n",
              "      <td>anak anak ditelantarkan perantauan suami bawa ...</td>\n",
              "      <td>1</td>\n",
              "      <td>62</td>\n",
              "    </tr>\n",
              "    <tr>\n",
              "      <th>8</th>\n",
              "      <td>lakukan perlindungan perempuan suami menyiksa ...</td>\n",
              "      <td>1</td>\n",
              "      <td>14</td>\n",
              "    </tr>\n",
              "    <tr>\n",
              "      <th>9</th>\n",
              "      <td>tolong perlindungan pencemaran nama anak ancam...</td>\n",
              "      <td>1</td>\n",
              "      <td>20</td>\n",
              "    </tr>\n",
              "  </tbody>\n",
              "</table>\n",
              "</div>\n",
              "    <div class=\"colab-df-buttons\">\n",
              "\n",
              "  <div class=\"colab-df-container\">\n",
              "    <button class=\"colab-df-convert\" onclick=\"convertToInteractive('df-ea4c6632-29e5-4d81-8fdc-6dda860f069b')\"\n",
              "            title=\"Convert this dataframe to an interactive table.\"\n",
              "            style=\"display:none;\">\n",
              "\n",
              "  <svg xmlns=\"http://www.w3.org/2000/svg\" height=\"24px\" viewBox=\"0 -960 960 960\">\n",
              "    <path d=\"M120-120v-720h720v720H120Zm60-500h600v-160H180v160Zm220 220h160v-160H400v160Zm0 220h160v-160H400v160ZM180-400h160v-160H180v160Zm440 0h160v-160H620v160ZM180-180h160v-160H180v160Zm440 0h160v-160H620v160Z\"/>\n",
              "  </svg>\n",
              "    </button>\n",
              "\n",
              "  <style>\n",
              "    .colab-df-container {\n",
              "      display:flex;\n",
              "      gap: 12px;\n",
              "    }\n",
              "\n",
              "    .colab-df-convert {\n",
              "      background-color: #E8F0FE;\n",
              "      border: none;\n",
              "      border-radius: 50%;\n",
              "      cursor: pointer;\n",
              "      display: none;\n",
              "      fill: #1967D2;\n",
              "      height: 32px;\n",
              "      padding: 0 0 0 0;\n",
              "      width: 32px;\n",
              "    }\n",
              "\n",
              "    .colab-df-convert:hover {\n",
              "      background-color: #E2EBFA;\n",
              "      box-shadow: 0px 1px 2px rgba(60, 64, 67, 0.3), 0px 1px 3px 1px rgba(60, 64, 67, 0.15);\n",
              "      fill: #174EA6;\n",
              "    }\n",
              "\n",
              "    .colab-df-buttons div {\n",
              "      margin-bottom: 4px;\n",
              "    }\n",
              "\n",
              "    [theme=dark] .colab-df-convert {\n",
              "      background-color: #3B4455;\n",
              "      fill: #D2E3FC;\n",
              "    }\n",
              "\n",
              "    [theme=dark] .colab-df-convert:hover {\n",
              "      background-color: #434B5C;\n",
              "      box-shadow: 0px 1px 3px 1px rgba(0, 0, 0, 0.15);\n",
              "      filter: drop-shadow(0px 1px 2px rgba(0, 0, 0, 0.3));\n",
              "      fill: #FFFFFF;\n",
              "    }\n",
              "  </style>\n",
              "\n",
              "    <script>\n",
              "      const buttonEl =\n",
              "        document.querySelector('#df-ea4c6632-29e5-4d81-8fdc-6dda860f069b button.colab-df-convert');\n",
              "      buttonEl.style.display =\n",
              "        google.colab.kernel.accessAllowed ? 'block' : 'none';\n",
              "\n",
              "      async function convertToInteractive(key) {\n",
              "        const element = document.querySelector('#df-ea4c6632-29e5-4d81-8fdc-6dda860f069b');\n",
              "        const dataTable =\n",
              "          await google.colab.kernel.invokeFunction('convertToInteractive',\n",
              "                                                    [key], {});\n",
              "        if (!dataTable) return;\n",
              "\n",
              "        const docLinkHtml = 'Like what you see? Visit the ' +\n",
              "          '<a target=\"_blank\" href=https://colab.research.google.com/notebooks/data_table.ipynb>data table notebook</a>'\n",
              "          + ' to learn more about interactive tables.';\n",
              "        element.innerHTML = '';\n",
              "        dataTable['output_type'] = 'display_data';\n",
              "        await google.colab.output.renderOutput(dataTable, element);\n",
              "        const docLink = document.createElement('div');\n",
              "        docLink.innerHTML = docLinkHtml;\n",
              "        element.appendChild(docLink);\n",
              "      }\n",
              "    </script>\n",
              "  </div>\n",
              "\n",
              "\n",
              "<div id=\"df-ab46ee8a-58b0-4b43-bb90-cc5da59ec73c\">\n",
              "  <button class=\"colab-df-quickchart\" onclick=\"quickchart('df-ab46ee8a-58b0-4b43-bb90-cc5da59ec73c')\"\n",
              "            title=\"Suggest charts\"\n",
              "            style=\"display:none;\">\n",
              "\n",
              "<svg xmlns=\"http://www.w3.org/2000/svg\" height=\"24px\"viewBox=\"0 0 24 24\"\n",
              "     width=\"24px\">\n",
              "    <g>\n",
              "        <path d=\"M19 3H5c-1.1 0-2 .9-2 2v14c0 1.1.9 2 2 2h14c1.1 0 2-.9 2-2V5c0-1.1-.9-2-2-2zM9 17H7v-7h2v7zm4 0h-2V7h2v10zm4 0h-2v-4h2v4z\"/>\n",
              "    </g>\n",
              "</svg>\n",
              "  </button>\n",
              "\n",
              "<style>\n",
              "  .colab-df-quickchart {\n",
              "      --bg-color: #E8F0FE;\n",
              "      --fill-color: #1967D2;\n",
              "      --hover-bg-color: #E2EBFA;\n",
              "      --hover-fill-color: #174EA6;\n",
              "      --disabled-fill-color: #AAA;\n",
              "      --disabled-bg-color: #DDD;\n",
              "  }\n",
              "\n",
              "  [theme=dark] .colab-df-quickchart {\n",
              "      --bg-color: #3B4455;\n",
              "      --fill-color: #D2E3FC;\n",
              "      --hover-bg-color: #434B5C;\n",
              "      --hover-fill-color: #FFFFFF;\n",
              "      --disabled-bg-color: #3B4455;\n",
              "      --disabled-fill-color: #666;\n",
              "  }\n",
              "\n",
              "  .colab-df-quickchart {\n",
              "    background-color: var(--bg-color);\n",
              "    border: none;\n",
              "    border-radius: 50%;\n",
              "    cursor: pointer;\n",
              "    display: none;\n",
              "    fill: var(--fill-color);\n",
              "    height: 32px;\n",
              "    padding: 0;\n",
              "    width: 32px;\n",
              "  }\n",
              "\n",
              "  .colab-df-quickchart:hover {\n",
              "    background-color: var(--hover-bg-color);\n",
              "    box-shadow: 0 1px 2px rgba(60, 64, 67, 0.3), 0 1px 3px 1px rgba(60, 64, 67, 0.15);\n",
              "    fill: var(--button-hover-fill-color);\n",
              "  }\n",
              "\n",
              "  .colab-df-quickchart-complete:disabled,\n",
              "  .colab-df-quickchart-complete:disabled:hover {\n",
              "    background-color: var(--disabled-bg-color);\n",
              "    fill: var(--disabled-fill-color);\n",
              "    box-shadow: none;\n",
              "  }\n",
              "\n",
              "  .colab-df-spinner {\n",
              "    border: 2px solid var(--fill-color);\n",
              "    border-color: transparent;\n",
              "    border-bottom-color: var(--fill-color);\n",
              "    animation:\n",
              "      spin 1s steps(1) infinite;\n",
              "  }\n",
              "\n",
              "  @keyframes spin {\n",
              "    0% {\n",
              "      border-color: transparent;\n",
              "      border-bottom-color: var(--fill-color);\n",
              "      border-left-color: var(--fill-color);\n",
              "    }\n",
              "    20% {\n",
              "      border-color: transparent;\n",
              "      border-left-color: var(--fill-color);\n",
              "      border-top-color: var(--fill-color);\n",
              "    }\n",
              "    30% {\n",
              "      border-color: transparent;\n",
              "      border-left-color: var(--fill-color);\n",
              "      border-top-color: var(--fill-color);\n",
              "      border-right-color: var(--fill-color);\n",
              "    }\n",
              "    40% {\n",
              "      border-color: transparent;\n",
              "      border-right-color: var(--fill-color);\n",
              "      border-top-color: var(--fill-color);\n",
              "    }\n",
              "    60% {\n",
              "      border-color: transparent;\n",
              "      border-right-color: var(--fill-color);\n",
              "    }\n",
              "    80% {\n",
              "      border-color: transparent;\n",
              "      border-right-color: var(--fill-color);\n",
              "      border-bottom-color: var(--fill-color);\n",
              "    }\n",
              "    90% {\n",
              "      border-color: transparent;\n",
              "      border-bottom-color: var(--fill-color);\n",
              "    }\n",
              "  }\n",
              "</style>\n",
              "\n",
              "  <script>\n",
              "    async function quickchart(key) {\n",
              "      const quickchartButtonEl =\n",
              "        document.querySelector('#' + key + ' button');\n",
              "      quickchartButtonEl.disabled = true;  // To prevent multiple clicks.\n",
              "      quickchartButtonEl.classList.add('colab-df-spinner');\n",
              "      try {\n",
              "        const charts = await google.colab.kernel.invokeFunction(\n",
              "            'suggestCharts', [key], {});\n",
              "      } catch (error) {\n",
              "        console.error('Error during call to suggestCharts:', error);\n",
              "      }\n",
              "      quickchartButtonEl.classList.remove('colab-df-spinner');\n",
              "      quickchartButtonEl.classList.add('colab-df-quickchart-complete');\n",
              "    }\n",
              "    (() => {\n",
              "      let quickchartButtonEl =\n",
              "        document.querySelector('#df-ab46ee8a-58b0-4b43-bb90-cc5da59ec73c button');\n",
              "      quickchartButtonEl.style.display =\n",
              "        google.colab.kernel.accessAllowed ? 'block' : 'none';\n",
              "    })();\n",
              "  </script>\n",
              "</div>\n",
              "    </div>\n",
              "  </div>\n"
            ]
          },
          "metadata": {},
          "execution_count": 23
        }
      ]
    },
    {
      "cell_type": "code",
      "source": [
        "from sklearn.model_selection import train_test_split\n",
        "from sklearn.feature_extraction.text import CountVectorizer\n",
        "from sklearn.feature_extraction.text import TfidfTransformer\n",
        "from sklearn.preprocessing import LabelEncoder\n",
        "from nltk.stem import PorterStemmer\n",
        "from nltk.corpus import stopwords\n",
        "nltk.download('punkt')\n",
        "from sklearn.metrics import accuracy_score"
      ],
      "metadata": {
        "colab": {
          "base_uri": "https://localhost:8080/"
        },
        "id": "e1BUhiqDbMso",
        "outputId": "62da3550-d47c-4844-92cd-49e5299cb97b"
      },
      "execution_count": null,
      "outputs": [
        {
          "output_type": "stream",
          "name": "stderr",
          "text": [
            "[nltk_data] Downloading package punkt to /root/nltk_data...\n",
            "[nltk_data]   Unzipping tokenizers/punkt.zip.\n"
          ]
        }
      ]
    },
    {
      "cell_type": "code",
      "source": [
        "def normalize_text(text):\n",
        "    text = text.lower()\n",
        "    text = re.sub(r'[^a-z\\s]', '', text)\n",
        "    stop_words = set(stopwords.words('english'))\n",
        "    text = ' '.join([word for word in text.split() if word not in stop_words])\n",
        "    text = re.sub(r'\\s+', ' ', text)\n",
        "    return text.strip()\n",
        "\n",
        "dv['Teks'] = dv['Teks'].apply(normalize_text)"
      ],
      "metadata": {
        "id": "HgRBUhKEbPPk"
      },
      "execution_count": null,
      "outputs": []
    },
    {
      "cell_type": "markdown",
      "source": [
        "INI KODE ASLI ANJAY ASLI"
      ],
      "metadata": {
        "id": "R43xpGbCDIjH"
      }
    },
    {
      "cell_type": "code",
      "source": [
        "# Tokenisasi dan stemming\n",
        "def tokenize_and_stem(text):\n",
        "    tokens = [word for sent in nltk.sent_tokenize(text) for word in nltk.word_tokenize(sent)]\n",
        "    stemmer = PorterStemmer()\n",
        "    stems = [stemmer.stem(t) for t in tokens]\n",
        "    return stems\n",
        "\n",
        "# Contoh pemisahan dataset menjadi data latih dan data uji\n",
        "X_train, X_test, y_train, y_test = train_test_split(dv['Teks'], dv['Label'], test_size=0.2, random_state=42)\n",
        "\n",
        "max_words = 100  # Jumlah kata unik yang akan diambil\n",
        "tokenizer = Tokenizer(num_words=max_words, oov_token='<OOV>')\n",
        "tokenizer.fit_on_texts(X_train)\n",
        "\n",
        "stemmer = PorterStemmer()\n",
        "X_train_stemmed = [' '.join([stemmer.stem(word) for word in text.split()]) for text in X_train]\n",
        "X_test_stemmed = [' '.join([stemmer.stem(word) for word in text.split()]) for text in X_test]\n",
        "\n",
        "X_train_sequences = tokenizer.texts_to_sequences(X_train_stemmed)\n",
        "X_test_sequences = tokenizer.texts_to_sequences(X_test_stemmed)\n",
        "\n",
        "max_sequence_length = max(len(seq) for seq in X_train_sequences)\n",
        "X_train_padded = pad_sequences(X_train_sequences, maxlen=max_sequence_length, padding='post', truncating='post')\n",
        "X_test_padded = pad_sequences(X_test_sequences, maxlen=max_sequence_length, padding='post', truncating='post')\n"
      ],
      "metadata": {
        "id": "n3EIPnazcQ7H"
      },
      "execution_count": null,
      "outputs": []
    },
    {
      "cell_type": "code",
      "source": [
        "model = tf.keras.models.Sequential([\n",
        "    tf.keras.layers.Embedding(input_dim=max_words, output_dim=16, input_length=max_sequence_length),\n",
        "    tf.keras.layers.Flatten(),\n",
        "    tf.keras.layers.Dense(64, activation='relu'),\n",
        "    tf.keras.layers.Dense(1, activation='sigmoid')\n",
        "\n",
        "])\n",
        "model.summary()"
      ],
      "metadata": {
        "colab": {
          "base_uri": "https://localhost:8080/"
        },
        "id": "sEdcilMNcUZO",
        "outputId": "b0a1cb4b-9e7f-44cb-c44b-31847977fe30"
      },
      "execution_count": null,
      "outputs": [
        {
          "output_type": "stream",
          "name": "stdout",
          "text": [
            "Model: \"sequential\"\n",
            "_________________________________________________________________\n",
            " Layer (type)                Output Shape              Param #   \n",
            "=================================================================\n",
            " embedding (Embedding)       (None, 45, 16)            1600      \n",
            "                                                                 \n",
            " flatten (Flatten)           (None, 720)               0         \n",
            "                                                                 \n",
            " dense (Dense)               (None, 64)                46144     \n",
            "                                                                 \n",
            " dense_1 (Dense)             (None, 1)                 65        \n",
            "                                                                 \n",
            "=================================================================\n",
            "Total params: 47809 (186.75 KB)\n",
            "Trainable params: 47809 (186.75 KB)\n",
            "Non-trainable params: 0 (0.00 Byte)\n",
            "_________________________________________________________________\n"
          ]
        }
      ]
    },
    {
      "cell_type": "code",
      "source": [
        "model.compile(optimizer='adam', loss='binary_crossentropy', metrics=['accuracy'])"
      ],
      "metadata": {
        "id": "4l21v5-Sconh"
      },
      "execution_count": null,
      "outputs": []
    },
    {
      "cell_type": "code",
      "source": [],
      "metadata": {
        "id": "i0TZLIKFjq8l"
      },
      "execution_count": null,
      "outputs": []
    },
    {
      "cell_type": "code",
      "source": [
        "model.fit(X_train_padded, y_train, epochs=10, validation_data=(X_test_padded, y_test))"
      ],
      "metadata": {
        "colab": {
          "base_uri": "https://localhost:8080/"
        },
        "id": "GFz7k7DYcuTS",
        "outputId": "00c6276e-fa86-4e1d-b7ba-4aff69d1a5f6"
      },
      "execution_count": null,
      "outputs": [
        {
          "output_type": "stream",
          "name": "stdout",
          "text": [
            "Epoch 1/10\n",
            "6/6 [==============================] - 1s 51ms/step - loss: 0.6926 - accuracy: 0.5183 - val_loss: 0.6969 - val_accuracy: 0.4286\n",
            "Epoch 2/10\n",
            "6/6 [==============================] - 0s 9ms/step - loss: 0.6769 - accuracy: 0.5183 - val_loss: 0.6877 - val_accuracy: 0.5000\n",
            "Epoch 3/10\n",
            "6/6 [==============================] - 0s 12ms/step - loss: 0.6634 - accuracy: 0.7256 - val_loss: 0.6722 - val_accuracy: 0.6429\n",
            "Epoch 4/10\n",
            "6/6 [==============================] - 0s 11ms/step - loss: 0.6481 - accuracy: 0.7317 - val_loss: 0.6614 - val_accuracy: 0.7143\n",
            "Epoch 5/10\n",
            "6/6 [==============================] - 0s 10ms/step - loss: 0.6266 - accuracy: 0.7256 - val_loss: 0.6525 - val_accuracy: 0.7381\n",
            "Epoch 6/10\n",
            "6/6 [==============================] - 0s 13ms/step - loss: 0.6036 - accuracy: 0.7256 - val_loss: 0.6512 - val_accuracy: 0.6667\n",
            "Epoch 7/10\n",
            "6/6 [==============================] - 0s 10ms/step - loss: 0.5773 - accuracy: 0.7378 - val_loss: 0.6172 - val_accuracy: 0.6905\n",
            "Epoch 8/10\n",
            "6/6 [==============================] - 0s 9ms/step - loss: 0.5457 - accuracy: 0.7378 - val_loss: 0.5976 - val_accuracy: 0.6429\n",
            "Epoch 9/10\n",
            "6/6 [==============================] - 0s 13ms/step - loss: 0.5188 - accuracy: 0.7378 - val_loss: 0.5829 - val_accuracy: 0.6905\n",
            "Epoch 10/10\n",
            "6/6 [==============================] - 0s 13ms/step - loss: 0.4947 - accuracy: 0.7500 - val_loss: 0.5681 - val_accuracy: 0.7143\n"
          ]
        },
        {
          "output_type": "execute_result",
          "data": {
            "text/plain": [
              "<keras.src.callbacks.History at 0x7cebe54c2260>"
            ]
          },
          "metadata": {},
          "execution_count": 29
        }
      ]
    },
    {
      "cell_type": "code",
      "source": [
        "model.fit(X_train_padded, y_train, epochs=20, validation_data=(X_test_padded, y_test))"
      ],
      "metadata": {
        "colab": {
          "base_uri": "https://localhost:8080/"
        },
        "id": "1OXw0Z_afSKC",
        "outputId": "6a9a25ca-2bd8-46d7-bae7-2af2b8f3f1c3"
      },
      "execution_count": null,
      "outputs": [
        {
          "output_type": "stream",
          "name": "stdout",
          "text": [
            "Epoch 1/20\n",
            "6/6 [==============================] - 0s 32ms/step - loss: 0.4674 - accuracy: 0.7683 - val_loss: 0.5576 - val_accuracy: 0.7143\n",
            "Epoch 2/20\n",
            "6/6 [==============================] - 0s 13ms/step - loss: 0.4332 - accuracy: 0.7744 - val_loss: 0.5476 - val_accuracy: 0.7381\n",
            "Epoch 3/20\n",
            "6/6 [==============================] - 0s 12ms/step - loss: 0.4083 - accuracy: 0.8110 - val_loss: 0.5328 - val_accuracy: 0.7143\n",
            "Epoch 4/20\n",
            "6/6 [==============================] - 0s 13ms/step - loss: 0.3767 - accuracy: 0.8354 - val_loss: 0.5285 - val_accuracy: 0.7619\n",
            "Epoch 5/20\n",
            "6/6 [==============================] - 0s 14ms/step - loss: 0.3539 - accuracy: 0.8415 - val_loss: 0.5203 - val_accuracy: 0.7619\n",
            "Epoch 6/20\n",
            "6/6 [==============================] - 0s 16ms/step - loss: 0.3232 - accuracy: 0.8537 - val_loss: 0.5097 - val_accuracy: 0.7619\n",
            "Epoch 7/20\n",
            "6/6 [==============================] - 0s 16ms/step - loss: 0.2941 - accuracy: 0.8598 - val_loss: 0.4987 - val_accuracy: 0.7619\n",
            "Epoch 8/20\n",
            "6/6 [==============================] - 0s 17ms/step - loss: 0.2650 - accuracy: 0.9085 - val_loss: 0.4908 - val_accuracy: 0.7857\n",
            "Epoch 9/20\n",
            "6/6 [==============================] - 0s 12ms/step - loss: 0.2423 - accuracy: 0.9207 - val_loss: 0.5004 - val_accuracy: 0.7619\n",
            "Epoch 10/20\n",
            "6/6 [==============================] - 0s 17ms/step - loss: 0.2215 - accuracy: 0.9512 - val_loss: 0.4857 - val_accuracy: 0.7619\n",
            "Epoch 11/20\n",
            "6/6 [==============================] - 0s 16ms/step - loss: 0.1973 - accuracy: 0.9634 - val_loss: 0.4796 - val_accuracy: 0.7619\n",
            "Epoch 12/20\n",
            "6/6 [==============================] - 0s 15ms/step - loss: 0.1831 - accuracy: 0.9573 - val_loss: 0.4832 - val_accuracy: 0.7619\n",
            "Epoch 13/20\n",
            "6/6 [==============================] - 0s 15ms/step - loss: 0.1634 - accuracy: 0.9695 - val_loss: 0.4596 - val_accuracy: 0.8571\n",
            "Epoch 14/20\n",
            "6/6 [==============================] - 0s 15ms/step - loss: 0.1449 - accuracy: 0.9817 - val_loss: 0.4597 - val_accuracy: 0.8333\n",
            "Epoch 15/20\n",
            "6/6 [==============================] - 0s 15ms/step - loss: 0.1313 - accuracy: 0.9817 - val_loss: 0.4641 - val_accuracy: 0.8333\n",
            "Epoch 16/20\n",
            "6/6 [==============================] - 0s 16ms/step - loss: 0.1178 - accuracy: 0.9817 - val_loss: 0.4494 - val_accuracy: 0.8810\n",
            "Epoch 17/20\n",
            "6/6 [==============================] - 0s 13ms/step - loss: 0.1090 - accuracy: 0.9817 - val_loss: 0.4452 - val_accuracy: 0.8810\n",
            "Epoch 18/20\n",
            "6/6 [==============================] - 0s 16ms/step - loss: 0.1001 - accuracy: 0.9878 - val_loss: 0.4393 - val_accuracy: 0.8810\n",
            "Epoch 19/20\n",
            "6/6 [==============================] - 0s 12ms/step - loss: 0.0908 - accuracy: 0.9817 - val_loss: 0.4479 - val_accuracy: 0.8333\n",
            "Epoch 20/20\n",
            "6/6 [==============================] - 0s 20ms/step - loss: 0.0852 - accuracy: 0.9878 - val_loss: 0.4434 - val_accuracy: 0.8333\n"
          ]
        },
        {
          "output_type": "execute_result",
          "data": {
            "text/plain": [
              "<keras.src.callbacks.History at 0x7cebdd6574f0>"
            ]
          },
          "metadata": {},
          "execution_count": 30
        }
      ]
    },
    {
      "cell_type": "code",
      "source": [
        "from sklearn.metrics import accuracy_score"
      ],
      "metadata": {
        "id": "ax8j64QSnHRk"
      },
      "execution_count": null,
      "outputs": []
    },
    {
      "cell_type": "code",
      "source": [
        "# Melakukan prediksi pada data uji\n",
        "predictions = model.predict(X_test_padded)\n",
        "\n",
        "# Thresholding untuk mengubah nilai probabilitas menjadi label biner (0 atau 1)\n",
        "threshold = 0.5\n",
        "predicted_labels = (predictions > threshold).astype(int)\n",
        "\n",
        "# Evaluasi model\n",
        "accuracy = accuracy_score(y_test, predicted_labels)\n",
        "print(f'Accuracy: {accuracy}')\n"
      ],
      "metadata": {
        "colab": {
          "base_uri": "https://localhost:8080/"
        },
        "id": "kgDuZPZ6j0xj",
        "outputId": "637ab037-074b-494f-cc93-02d704efbd13"
      },
      "execution_count": null,
      "outputs": [
        {
          "output_type": "stream",
          "name": "stdout",
          "text": [
            "2/2 [==============================] - 0s 7ms/step\n",
            "Accuracy: 0.8333333333333334\n"
          ]
        }
      ]
    },
    {
      "cell_type": "code",
      "source": [
        "import matplotlib.pyplot as plt\n",
        "\n",
        "history = model.fit(X_train_padded, y_train, epochs=10, validation_data=(X_test_padded, y_test))\n",
        "\n",
        "# Plot loss\n",
        "plt.plot(history.history['loss'], label='Training Loss')\n",
        "plt.plot(history.history['val_loss'], label='Validation Loss')\n",
        "plt.legend()\n",
        "plt.show()\n",
        "\n",
        "# Plot accuracy\n",
        "plt.plot(history.history['accuracy'], label='Training Accuracy')\n",
        "plt.plot(history.history['val_accuracy'], label='Validation Accuracy')\n",
        "plt.legend()\n",
        "plt.show()\n"
      ],
      "metadata": {
        "colab": {
          "base_uri": "https://localhost:8080/",
          "height": 1000
        },
        "id": "4p3i8lKDvwVC",
        "outputId": "e2ac5448-c954-47f1-821f-3410aaf42ef9"
      },
      "execution_count": null,
      "outputs": [
        {
          "output_type": "stream",
          "name": "stdout",
          "text": [
            "Epoch 1/10\n",
            "6/6 [==============================] - 0s 20ms/step - loss: 0.0762 - accuracy: 0.9939 - val_loss: 0.4326 - val_accuracy: 0.8810\n",
            "Epoch 2/10\n",
            "6/6 [==============================] - 0s 14ms/step - loss: 0.0739 - accuracy: 0.9878 - val_loss: 0.4355 - val_accuracy: 0.9048\n",
            "Epoch 3/10\n",
            "6/6 [==============================] - 0s 16ms/step - loss: 0.0666 - accuracy: 0.9878 - val_loss: 0.4268 - val_accuracy: 0.8810\n",
            "Epoch 4/10\n",
            "6/6 [==============================] - 0s 16ms/step - loss: 0.0592 - accuracy: 0.9939 - val_loss: 0.4409 - val_accuracy: 0.8333\n",
            "Epoch 5/10\n",
            "6/6 [==============================] - 0s 17ms/step - loss: 0.0598 - accuracy: 0.9939 - val_loss: 0.4359 - val_accuracy: 0.8333\n",
            "Epoch 6/10\n",
            "6/6 [==============================] - 0s 17ms/step - loss: 0.0526 - accuracy: 0.9939 - val_loss: 0.4209 - val_accuracy: 0.8810\n",
            "Epoch 7/10\n",
            "6/6 [==============================] - 0s 16ms/step - loss: 0.0476 - accuracy: 0.9939 - val_loss: 0.4198 - val_accuracy: 0.8810\n",
            "Epoch 8/10\n",
            "6/6 [==============================] - 0s 14ms/step - loss: 0.0447 - accuracy: 0.9939 - val_loss: 0.4194 - val_accuracy: 0.8810\n",
            "Epoch 9/10\n",
            "6/6 [==============================] - 0s 13ms/step - loss: 0.0423 - accuracy: 0.9939 - val_loss: 0.4234 - val_accuracy: 0.8810\n",
            "Epoch 10/10\n",
            "6/6 [==============================] - 0s 16ms/step - loss: 0.0393 - accuracy: 0.9939 - val_loss: 0.4233 - val_accuracy: 0.8810\n"
          ]
        },
        {
          "output_type": "display_data",
          "data": {
            "text/plain": [
              "<Figure size 640x480 with 1 Axes>"
            ],
            "image/png": "[encoded data removed]"
          },
          "metadata": {}
        },
        {
          "output_type": "display_data",
          "data": {
            "text/plain": [
              "<Figure size 640x480 with 1 Axes>"
            ],
            "image/png": "[encoded data removed]"
          },
          "metadata": {}
        }
      ]
    },
    {
      "cell_type": "code",
      "source": [
        "from sklearn.metrics import accuracy_score, classification_report\n",
        "\n",
        "# Melakukan prediksi pada data uji\n",
        "predictions = model.predict(X_test_padded)\n",
        "\n",
        "# Menggunakan threshold untuk mengubah nilai probabilitas menjadi label biner (0 atau 1)\n",
        "threshold = 0.5\n",
        "predicted_labels = (predictions > threshold).astype(int)\n",
        "\n",
        "# Evaluasi model\n",
        "accuracy = accuracy_score(y_test, predicted_labels)\n",
        "print(f'Accuracy: {accuracy}')\n",
        "\n",
        "# Classification Report\n",
        "print(classification_report(y_test, predicted_labels))\n"
      ],
      "metadata": {
        "colab": {
          "base_uri": "https://localhost:8080/"
        },
        "id": "WRsBhyGgxlwy",
        "outputId": "4153eee9-1a7c-4e09-8ec0-1a28afa1399c"
      },
      "execution_count": null,
      "outputs": [
        {
          "output_type": "stream",
          "name": "stdout",
          "text": [
            "2/2 [==============================] - 0s 5ms/step\n",
            "Accuracy: 0.8809523809523809\n",
            "              precision    recall  f1-score   support\n",
            "\n",
            "           0       0.88      0.92      0.90        24\n",
            "           1       0.88      0.83      0.86        18\n",
            "\n",
            "    accuracy                           0.88        42\n",
            "   macro avg       0.88      0.88      0.88        42\n",
            "weighted avg       0.88      0.88      0.88        42\n",
            "\n"
          ]
        }
      ]
    },
    {
      "cell_type": "code",
      "source": [
        "from sklearn.model_selection import cross_val_score\n",
        "\n",
        "# Contoh penggunaan cross-validation\n",
        "scores = cross_val_score(model,X_train_padded, y_train, cv=5, scoring='accuracy')\n",
        "print(f'Cross-Validation Scores: {scores}')\n",
        "print(f'Mean Accuracy: {scores.mean()}')\n"
      ],
      "metadata": {
        "colab": {
          "base_uri": "https://localhost:8080/",
          "height": 407
        },
        "id": "fnN65SG70RlS",
        "outputId": "16ec516f-5c3f-45ea-90ad-d67530cde718"
      },
      "execution_count": null,
      "outputs": [
        {
          "output_type": "error",
          "ename": "TypeError",
          "evalue": "ignored",
          "traceback": [
            "\u001b[0;31m---------------------------------------------------------------------------\u001b[0m",
            "\u001b[0;31mTypeError\u001b[0m                                 Traceback (most recent call last)",
            "\u001b[0;32m<ipython-input-42-fa8848f6aed7>\u001b[0m in \u001b[0;36m<cell line: 4>\u001b[0;34m()\u001b[0m\n\u001b[1;32m      2\u001b[0m \u001b[0;34m\u001b[0m\u001b[0m\n\u001b[1;32m      3\u001b[0m \u001b[0;31m# Contoh penggunaan cross-validation\u001b[0m\u001b[0;34m\u001b[0m\u001b[0;34m\u001b[0m\u001b[0m\n\u001b[0;32m----> 4\u001b[0;31m \u001b[0mscores\u001b[0m \u001b[0;34m=\u001b[0m \u001b[0mcross_val_score\u001b[0m\u001b[0;34m(\u001b[0m\u001b[0mmodel\u001b[0m\u001b[0;34m,\u001b[0m\u001b[0mX_train_padded\u001b[0m\u001b[0;34m,\u001b[0m \u001b[0my_train\u001b[0m\u001b[0;34m,\u001b[0m \u001b[0mcv\u001b[0m\u001b[0;34m=\u001b[0m\u001b[0;36m5\u001b[0m\u001b[0;34m,\u001b[0m \u001b[0mscoring\u001b[0m\u001b[0;34m=\u001b[0m\u001b[0;34m'accuracy'\u001b[0m\u001b[0;34m)\u001b[0m\u001b[0;34m\u001b[0m\u001b[0;34m\u001b[0m\u001b[0m\n\u001b[0m\u001b[1;32m      5\u001b[0m \u001b[0mprint\u001b[0m\u001b[0;34m(\u001b[0m\u001b[0;34mf'Cross-Validation Scores: {scores}'\u001b[0m\u001b[0;34m)\u001b[0m\u001b[0;34m\u001b[0m\u001b[0;34m\u001b[0m\u001b[0m\n\u001b[1;32m      6\u001b[0m \u001b[0mprint\u001b[0m\u001b[0;34m(\u001b[0m\u001b[0;34mf'Mean Accuracy: {scores.mean()}'\u001b[0m\u001b[0;34m)\u001b[0m\u001b[0;34m\u001b[0m\u001b[0;34m\u001b[0m\u001b[0m\n",
            "\u001b[0;32m/usr/local/lib/python3.10/dist-packages/sklearn/model_selection/_validation.py\u001b[0m in \u001b[0;36mcross_val_score\u001b[0;34m(estimator, X, y, groups, scoring, cv, n_jobs, verbose, fit_params, pre_dispatch, error_score)\u001b[0m\n\u001b[1;32m    513\u001b[0m     \u001b[0mscorer\u001b[0m \u001b[0;34m=\u001b[0m \u001b[0mcheck_scoring\u001b[0m\u001b[0;34m(\u001b[0m\u001b[0mestimator\u001b[0m\u001b[0;34m,\u001b[0m \u001b[0mscoring\u001b[0m\u001b[0;34m=\u001b[0m\u001b[0mscoring\u001b[0m\u001b[0;34m)\u001b[0m\u001b[0;34m\u001b[0m\u001b[0;34m\u001b[0m\u001b[0m\n\u001b[1;32m    514\u001b[0m \u001b[0;34m\u001b[0m\u001b[0m\n\u001b[0;32m--> 515\u001b[0;31m     cv_results = cross_validate(\n\u001b[0m\u001b[1;32m    516\u001b[0m         \u001b[0mestimator\u001b[0m\u001b[0;34m=\u001b[0m\u001b[0mestimator\u001b[0m\u001b[0;34m,\u001b[0m\u001b[0;34m\u001b[0m\u001b[0;34m\u001b[0m\u001b[0m\n\u001b[1;32m    517\u001b[0m         \u001b[0mX\u001b[0m\u001b[0;34m=\u001b[0m\u001b[0mX\u001b[0m\u001b[0;34m,\u001b[0m\u001b[0;34m\u001b[0m\u001b[0;34m\u001b[0m\u001b[0m\n",
            "\u001b[0;32m/usr/local/lib/python3.10/dist-packages/sklearn/model_selection/_validation.py\u001b[0m in \u001b[0;36mcross_validate\u001b[0;34m(estimator, X, y, groups, scoring, cv, n_jobs, verbose, fit_params, pre_dispatch, return_train_score, return_estimator, error_score)\u001b[0m\n\u001b[1;32m    264\u001b[0m     \u001b[0;31m# independent, and that it is pickle-able.\u001b[0m\u001b[0;34m\u001b[0m\u001b[0;34m\u001b[0m\u001b[0m\n\u001b[1;32m    265\u001b[0m     \u001b[0mparallel\u001b[0m \u001b[0;34m=\u001b[0m \u001b[0mParallel\u001b[0m\u001b[0;34m(\u001b[0m\u001b[0mn_jobs\u001b[0m\u001b[0;34m=\u001b[0m\u001b[0mn_jobs\u001b[0m\u001b[0;34m,\u001b[0m \u001b[0mverbose\u001b[0m\u001b[0;34m=\u001b[0m\u001b[0mverbose\u001b[0m\u001b[0;34m,\u001b[0m \u001b[0mpre_dispatch\u001b[0m\u001b[0;34m=\u001b[0m\u001b[0mpre_dispatch\u001b[0m\u001b[0;34m)\u001b[0m\u001b[0;34m\u001b[0m\u001b[0;34m\u001b[0m\u001b[0m\n\u001b[0;32m--> 266\u001b[0;31m     results = parallel(\n\u001b[0m\u001b[1;32m    267\u001b[0m         delayed(_fit_and_score)(\n\u001b[1;32m    268\u001b[0m             \u001b[0mclone\u001b[0m\u001b[0;34m(\u001b[0m\u001b[0mestimator\u001b[0m\u001b[0;34m)\u001b[0m\u001b[0;34m,\u001b[0m\u001b[0;34m\u001b[0m\u001b[0;34m\u001b[0m\u001b[0m\n",
            "\u001b[0;32m/usr/local/lib/python3.10/dist-packages/sklearn/utils/parallel.py\u001b[0m in \u001b[0;36m__call__\u001b[0;34m(self, iterable)\u001b[0m\n\u001b[1;32m     61\u001b[0m             \u001b[0;32mfor\u001b[0m \u001b[0mdelayed_func\u001b[0m\u001b[0;34m,\u001b[0m \u001b[0margs\u001b[0m\u001b[0;34m,\u001b[0m \u001b[0mkwargs\u001b[0m \u001b[0;32min\u001b[0m \u001b[0miterable\u001b[0m\u001b[0;34m\u001b[0m\u001b[0;34m\u001b[0m\u001b[0m\n\u001b[1;32m     62\u001b[0m         )\n\u001b[0;32m---> 63\u001b[0;31m         \u001b[0;32mreturn\u001b[0m \u001b[0msuper\u001b[0m\u001b[0;34m(\u001b[0m\u001b[0;34m)\u001b[0m\u001b[0;34m.\u001b[0m\u001b[0m__call__\u001b[0m\u001b[0;34m(\u001b[0m\u001b[0miterable_with_config\u001b[0m\u001b[0;34m)\u001b[0m\u001b[0;34m\u001b[0m\u001b[0;34m\u001b[0m\u001b[0m\n\u001b[0m\u001b[1;32m     64\u001b[0m \u001b[0;34m\u001b[0m\u001b[0m\n\u001b[1;32m     65\u001b[0m \u001b[0;34m\u001b[0m\u001b[0m\n",
            "\u001b[0;32m/usr/local/lib/python3.10/dist-packages/joblib/parallel.py\u001b[0m in \u001b[0;36m__call__\u001b[0;34m(self, iterable)\u001b[0m\n\u001b[1;32m   1861\u001b[0m             \u001b[0moutput\u001b[0m \u001b[0;34m=\u001b[0m \u001b[0mself\u001b[0m\u001b[0;34m.\u001b[0m\u001b[0m_get_sequential_output\u001b[0m\u001b[0;34m(\u001b[0m\u001b[0miterable\u001b[0m\u001b[0;34m)\u001b[0m\u001b[0;34m\u001b[0m\u001b[0;34m\u001b[0m\u001b[0m\n\u001b[1;32m   1862\u001b[0m             \u001b[0mnext\u001b[0m\u001b[0;34m(\u001b[0m\u001b[0moutput\u001b[0m\u001b[0;34m)\u001b[0m\u001b[0;34m\u001b[0m\u001b[0;34m\u001b[0m\u001b[0m\n\u001b[0;32m-> 1863\u001b[0;31m             \u001b[0;32mreturn\u001b[0m \u001b[0moutput\u001b[0m \u001b[0;32mif\u001b[0m \u001b[0mself\u001b[0m\u001b[0;34m.\u001b[0m\u001b[0mreturn_generator\u001b[0m \u001b[0;32melse\u001b[0m \u001b[0mlist\u001b[0m\u001b[0;34m(\u001b[0m\u001b[0moutput\u001b[0m\u001b[0;34m)\u001b[0m\u001b[0;34m\u001b[0m\u001b[0;34m\u001b[0m\u001b[0m\n\u001b[0m\u001b[1;32m   1864\u001b[0m \u001b[0;34m\u001b[0m\u001b[0m\n\u001b[1;32m   1865\u001b[0m         \u001b[0;31m# Let's create an ID that uniquely identifies the current call. If the\u001b[0m\u001b[0;34m\u001b[0m\u001b[0;34m\u001b[0m\u001b[0m\n",
            "\u001b[0;32m/usr/local/lib/python3.10/dist-packages/joblib/parallel.py\u001b[0m in \u001b[0;36m_get_sequential_output\u001b[0;34m(self, iterable)\u001b[0m\n\u001b[1;32m   1787\u001b[0m \u001b[0;34m\u001b[0m\u001b[0m\n\u001b[1;32m   1788\u001b[0m             \u001b[0;31m# Sequentially call the tasks and yield the results.\u001b[0m\u001b[0;34m\u001b[0m\u001b[0;34m\u001b[0m\u001b[0m\n\u001b[0;32m-> 1789\u001b[0;31m             \u001b[0;32mfor\u001b[0m \u001b[0mfunc\u001b[0m\u001b[0;34m,\u001b[0m \u001b[0margs\u001b[0m\u001b[0;34m,\u001b[0m \u001b[0mkwargs\u001b[0m \u001b[0;32min\u001b[0m \u001b[0miterable\u001b[0m\u001b[0;34m:\u001b[0m\u001b[0;34m\u001b[0m\u001b[0;34m\u001b[0m\u001b[0m\n\u001b[0m\u001b[1;32m   1790\u001b[0m                 \u001b[0mself\u001b[0m\u001b[0;34m.\u001b[0m\u001b[0mn_dispatched_batches\u001b[0m \u001b[0;34m+=\u001b[0m \u001b[0;36m1\u001b[0m\u001b[0;34m\u001b[0m\u001b[0;34m\u001b[0m\u001b[0m\n\u001b[1;32m   1791\u001b[0m                 \u001b[0mself\u001b[0m\u001b[0;34m.\u001b[0m\u001b[0mn_dispatched_tasks\u001b[0m \u001b[0;34m+=\u001b[0m \u001b[0;36m1\u001b[0m\u001b[0;34m\u001b[0m\u001b[0;34m\u001b[0m\u001b[0m\n",
            "\u001b[0;32m/usr/local/lib/python3.10/dist-packages/sklearn/utils/parallel.py\u001b[0m in \u001b[0;36m<genexpr>\u001b[0;34m(.0)\u001b[0m\n\u001b[1;32m     57\u001b[0m         \u001b[0;31m# pre_dispatch and n_jobs.\u001b[0m\u001b[0;34m\u001b[0m\u001b[0;34m\u001b[0m\u001b[0m\n\u001b[1;32m     58\u001b[0m         \u001b[0mconfig\u001b[0m \u001b[0;34m=\u001b[0m \u001b[0mget_config\u001b[0m\u001b[0;34m(\u001b[0m\u001b[0;34m)\u001b[0m\u001b[0;34m\u001b[0m\u001b[0;34m\u001b[0m\u001b[0m\n\u001b[0;32m---> 59\u001b[0;31m         iterable_with_config = (\n\u001b[0m\u001b[1;32m     60\u001b[0m             \u001b[0;34m(\u001b[0m\u001b[0m_with_config\u001b[0m\u001b[0;34m(\u001b[0m\u001b[0mdelayed_func\u001b[0m\u001b[0;34m,\u001b[0m \u001b[0mconfig\u001b[0m\u001b[0;34m)\u001b[0m\u001b[0;34m,\u001b[0m \u001b[0margs\u001b[0m\u001b[0;34m,\u001b[0m \u001b[0mkwargs\u001b[0m\u001b[0;34m)\u001b[0m\u001b[0;34m\u001b[0m\u001b[0;34m\u001b[0m\u001b[0m\n\u001b[1;32m     61\u001b[0m             \u001b[0;32mfor\u001b[0m \u001b[0mdelayed_func\u001b[0m\u001b[0;34m,\u001b[0m \u001b[0margs\u001b[0m\u001b[0;34m,\u001b[0m \u001b[0mkwargs\u001b[0m \u001b[0;32min\u001b[0m \u001b[0miterable\u001b[0m\u001b[0;34m\u001b[0m\u001b[0;34m\u001b[0m\u001b[0m\n",
            "\u001b[0;32m/usr/local/lib/python3.10/dist-packages/sklearn/model_selection/_validation.py\u001b[0m in \u001b[0;36m<genexpr>\u001b[0;34m(.0)\u001b[0m\n\u001b[1;32m    266\u001b[0m     results = parallel(\n\u001b[1;32m    267\u001b[0m         delayed(_fit_and_score)(\n\u001b[0;32m--> 268\u001b[0;31m             \u001b[0mclone\u001b[0m\u001b[0;34m(\u001b[0m\u001b[0mestimator\u001b[0m\u001b[0;34m)\u001b[0m\u001b[0;34m,\u001b[0m\u001b[0;34m\u001b[0m\u001b[0;34m\u001b[0m\u001b[0m\n\u001b[0m\u001b[1;32m    269\u001b[0m             \u001b[0mX\u001b[0m\u001b[0;34m,\u001b[0m\u001b[0;34m\u001b[0m\u001b[0;34m\u001b[0m\u001b[0m\n\u001b[1;32m    270\u001b[0m             \u001b[0my\u001b[0m\u001b[0;34m,\u001b[0m\u001b[0;34m\u001b[0m\u001b[0;34m\u001b[0m\u001b[0m\n",
            "\u001b[0;32m/usr/local/lib/python3.10/dist-packages/sklearn/base.py\u001b[0m in \u001b[0;36mclone\u001b[0;34m(estimator, safe)\u001b[0m\n\u001b[1;32m     77\u001b[0m                 )\n\u001b[1;32m     78\u001b[0m             \u001b[0;32melse\u001b[0m\u001b[0;34m:\u001b[0m\u001b[0;34m\u001b[0m\u001b[0;34m\u001b[0m\u001b[0m\n\u001b[0;32m---> 79\u001b[0;31m                 raise TypeError(\n\u001b[0m\u001b[1;32m     80\u001b[0m                     \u001b[0;34m\"Cannot clone object '%s' (type %s): \"\u001b[0m\u001b[0;34m\u001b[0m\u001b[0;34m\u001b[0m\u001b[0m\n\u001b[1;32m     81\u001b[0m                     \u001b[0;34m\"it does not seem to be a scikit-learn \"\u001b[0m\u001b[0;34m\u001b[0m\u001b[0;34m\u001b[0m\u001b[0m\n",
            "\u001b[0;31mTypeError\u001b[0m: Cannot clone object '<keras.src.engine.sequential.Sequential object at 0x7a6e3c183820>' (type <class 'keras.src.engine.sequential.Sequential'>): it does not seem to be a scikit-learn estimator as it does not implement a 'get_params' method."
          ]
        }
      ]
    },
    {
      "cell_type": "code",
      "source": [
        "from sklearn.feature_extraction.text import CountVectorizer\n",
        "from sklearn.metrics import accuracy_score, classification_report, confusion_matrix\n",
        "from tensorflow.keras.models import load_model"
      ],
      "metadata": {
        "id": "uzv557pY34QL"
      },
      "execution_count": null,
      "outputs": []
    },
    {
      "cell_type": "code",
      "source": [
        "# Menyimpan model\n",
        "model.save('model_violence.h5')"
      ],
      "metadata": {
        "id": "M5SSvZo-3Jk7",
        "colab": {
          "base_uri": "https://localhost:8080/"
        },
        "outputId": "52b00f3e-0d36-4233-ea01-d83deb32af37"
      },
      "execution_count": null,
      "outputs": [
        {
          "output_type": "stream",
          "name": "stderr",
          "text": [
            "/usr/local/lib/python3.10/dist-packages/keras/src/engine/training.py:3103: UserWarning: You are saving your model as an HDF5 file via `model.save()`. This file format is considered legacy. We recommend using instead the native Keras format, e.g. `model.save('my_model.keras')`.\n",
            "  saving_api.save_model(\n"
          ]
        }
      ]
    },
    {
      "cell_type": "code",
      "source": [
        "model = load_model('model_violence.h5')"
      ],
      "metadata": {
        "id": "vwp4PXg67DUy"
      },
      "execution_count": null,
      "outputs": []
    },
    {
      "cell_type": "code",
      "source": [
        "# Fungsi untuk memprediksi label dan probabilitas dari teks\n",
        "def predict_label_and_prob(text, model, vectorizer):\n",
        "    # Preprocessing dan stemming teks\n",
        "    processed_text = preprocess_and_stem(text)\n",
        "\n",
        "    # Vectorization menggunakan CountVectorizer\n",
        "    text_vectorized = vectorizer.transform([processed_text])\n",
        "\n",
        "    # Melakukan prediksi probabilitas menggunakan model\n",
        "    prediction_prob = model.predict(text_vectorized.toarray())\n",
        "\n",
        "    # Mengekstrak label dengan probabilitas tertinggi\n",
        "    predicted_label = np.argmax(prediction_prob)\n",
        "\n",
        "    return predicted_label, prediction_prob[0][predicted_label]"
      ],
      "metadata": {
        "id": "i67Mx2Gu3jFw"
      },
      "execution_count": null,
      "outputs": []
    },
    {
      "cell_type": "code",
      "source": [
        "path_model = 'path_model_violence'\n",
        "model = tf.keras.models.load_model(path_model)"
      ],
      "metadata": {
        "id": "UQthUvJl3kku",
        "colab": {
          "base_uri": "https://localhost:8080/",
          "height": 338
        },
        "outputId": "ba192f6e-f869-4861-d155-76e5c48c4ca6"
      },
      "execution_count": null,
      "outputs": [
        {
          "output_type": "error",
          "ename": "OSError",
          "evalue": "ignored",
          "traceback": [
            "\u001b[0;31m---------------------------------------------------------------------------\u001b[0m",
            "\u001b[0;31mOSError\u001b[0m                                   Traceback (most recent call last)",
            "\u001b[0;32m<ipython-input-47-207a66387490>\u001b[0m in \u001b[0;36m<cell line: 2>\u001b[0;34m()\u001b[0m\n\u001b[1;32m      1\u001b[0m \u001b[0mpath_model\u001b[0m \u001b[0;34m=\u001b[0m \u001b[0;34m'path_model_violence'\u001b[0m\u001b[0;34m\u001b[0m\u001b[0;34m\u001b[0m\u001b[0m\n\u001b[0;32m----> 2\u001b[0;31m \u001b[0mmodel\u001b[0m \u001b[0;34m=\u001b[0m \u001b[0mtf\u001b[0m\u001b[0;34m.\u001b[0m\u001b[0mkeras\u001b[0m\u001b[0;34m.\u001b[0m\u001b[0mmodels\u001b[0m\u001b[0;34m.\u001b[0m\u001b[0mload_model\u001b[0m\u001b[0;34m(\u001b[0m\u001b[0mpath_model\u001b[0m\u001b[0;34m)\u001b[0m\u001b[0;34m\u001b[0m\u001b[0;34m\u001b[0m\u001b[0m\n\u001b[0m",
            "\u001b[0;32m/usr/local/lib/python3.10/dist-packages/keras/src/saving/saving_api.py\u001b[0m in \u001b[0;36mload_model\u001b[0;34m(filepath, custom_objects, compile, safe_mode, **kwargs)\u001b[0m\n\u001b[1;32m    260\u001b[0m \u001b[0;34m\u001b[0m\u001b[0m\n\u001b[1;32m    261\u001b[0m     \u001b[0;31m# Legacy case.\u001b[0m\u001b[0;34m\u001b[0m\u001b[0;34m\u001b[0m\u001b[0m\n\u001b[0;32m--> 262\u001b[0;31m     return legacy_sm_saving_lib.load_model(\n\u001b[0m\u001b[1;32m    263\u001b[0m         \u001b[0mfilepath\u001b[0m\u001b[0;34m,\u001b[0m \u001b[0mcustom_objects\u001b[0m\u001b[0;34m=\u001b[0m\u001b[0mcustom_objects\u001b[0m\u001b[0;34m,\u001b[0m \u001b[0mcompile\u001b[0m\u001b[0;34m=\u001b[0m\u001b[0mcompile\u001b[0m\u001b[0;34m,\u001b[0m \u001b[0;34m**\u001b[0m\u001b[0mkwargs\u001b[0m\u001b[0;34m\u001b[0m\u001b[0;34m\u001b[0m\u001b[0m\n\u001b[1;32m    264\u001b[0m     )\n",
            "\u001b[0;32m/usr/local/lib/python3.10/dist-packages/keras/src/utils/traceback_utils.py\u001b[0m in \u001b[0;36merror_handler\u001b[0;34m(*args, **kwargs)\u001b[0m\n\u001b[1;32m     68\u001b[0m             \u001b[0;31m# To get the full stack trace, call:\u001b[0m\u001b[0;34m\u001b[0m\u001b[0;34m\u001b[0m\u001b[0m\n\u001b[1;32m     69\u001b[0m             \u001b[0;31m# `tf.debugging.disable_traceback_filtering()`\u001b[0m\u001b[0;34m\u001b[0m\u001b[0;34m\u001b[0m\u001b[0m\n\u001b[0;32m---> 70\u001b[0;31m             \u001b[0;32mraise\u001b[0m \u001b[0me\u001b[0m\u001b[0;34m.\u001b[0m\u001b[0mwith_traceback\u001b[0m\u001b[0;34m(\u001b[0m\u001b[0mfiltered_tb\u001b[0m\u001b[0;34m)\u001b[0m \u001b[0;32mfrom\u001b[0m \u001b[0;32mNone\u001b[0m\u001b[0;34m\u001b[0m\u001b[0;34m\u001b[0m\u001b[0m\n\u001b[0m\u001b[1;32m     71\u001b[0m         \u001b[0;32mfinally\u001b[0m\u001b[0;34m:\u001b[0m\u001b[0;34m\u001b[0m\u001b[0;34m\u001b[0m\u001b[0m\n\u001b[1;32m     72\u001b[0m             \u001b[0;32mdel\u001b[0m \u001b[0mfiltered_tb\u001b[0m\u001b[0;34m\u001b[0m\u001b[0;34m\u001b[0m\u001b[0m\n",
            "\u001b[0;32m/usr/local/lib/python3.10/dist-packages/keras/src/saving/legacy/save.py\u001b[0m in \u001b[0;36mload_model\u001b[0;34m(filepath, custom_objects, compile, options)\u001b[0m\n\u001b[1;32m    232\u001b[0m                     \u001b[0;32mif\u001b[0m \u001b[0misinstance\u001b[0m\u001b[0;34m(\u001b[0m\u001b[0mfilepath_str\u001b[0m\u001b[0;34m,\u001b[0m \u001b[0mstr\u001b[0m\u001b[0;34m)\u001b[0m\u001b[0;34m:\u001b[0m\u001b[0;34m\u001b[0m\u001b[0;34m\u001b[0m\u001b[0m\n\u001b[1;32m    233\u001b[0m                         \u001b[0;32mif\u001b[0m \u001b[0;32mnot\u001b[0m \u001b[0mtf\u001b[0m\u001b[0;34m.\u001b[0m\u001b[0mio\u001b[0m\u001b[0;34m.\u001b[0m\u001b[0mgfile\u001b[0m\u001b[0;34m.\u001b[0m\u001b[0mexists\u001b[0m\u001b[0;34m(\u001b[0m\u001b[0mfilepath_str\u001b[0m\u001b[0;34m)\u001b[0m\u001b[0;34m:\u001b[0m\u001b[0;34m\u001b[0m\u001b[0;34m\u001b[0m\u001b[0m\n\u001b[0;32m--> 234\u001b[0;31m                             raise IOError(\n\u001b[0m\u001b[1;32m    235\u001b[0m                                 \u001b[0;34mf\"No file or directory found at {filepath_str}\"\u001b[0m\u001b[0;34m\u001b[0m\u001b[0;34m\u001b[0m\u001b[0m\n\u001b[1;32m    236\u001b[0m                             )\n",
            "\u001b[0;31mOSError\u001b[0m: No file or directory found at path_model_violence"
          ]
        }
      ]
    },
    {
      "cell_type": "code",
      "source": [
        "# Gantilah path_vectorizer dengan path tempat menyimpan objek CountVectorizer\n",
        "path_vectorizer = 'path_vectorizer'\n",
        "with open(path_vectorizer, 'rb') as f:\n",
        "    vectorizer = pickle.load(f)"
      ],
      "metadata": {
        "colab": {
          "base_uri": "https://localhost:8080/",
          "height": 227
        },
        "id": "bDsNU66_3puV",
        "outputId": "632e2435-9672-4954-fdf1-aa7dca4127fa"
      },
      "execution_count": null,
      "outputs": [
        {
          "output_type": "error",
          "ename": "FileNotFoundError",
          "evalue": "ignored",
          "traceback": [
            "\u001b[0;31m---------------------------------------------------------------------------\u001b[0m",
            "\u001b[0;31mFileNotFoundError\u001b[0m                         Traceback (most recent call last)",
            "\u001b[0;32m<ipython-input-39-77de246e375d>\u001b[0m in \u001b[0;36m<cell line: 3>\u001b[0;34m()\u001b[0m\n\u001b[1;32m      1\u001b[0m \u001b[0;31m# Gantilah path_vectorizer dengan path tempat menyimpan objek CountVectorizer\u001b[0m\u001b[0;34m\u001b[0m\u001b[0;34m\u001b[0m\u001b[0m\n\u001b[1;32m      2\u001b[0m \u001b[0mpath_vectorizer\u001b[0m \u001b[0;34m=\u001b[0m \u001b[0;34m'path_vectorizer'\u001b[0m\u001b[0;34m\u001b[0m\u001b[0;34m\u001b[0m\u001b[0m\n\u001b[0;32m----> 3\u001b[0;31m \u001b[0;32mwith\u001b[0m \u001b[0mopen\u001b[0m\u001b[0;34m(\u001b[0m\u001b[0mpath_vectorizer\u001b[0m\u001b[0;34m,\u001b[0m \u001b[0;34m'rb'\u001b[0m\u001b[0;34m)\u001b[0m \u001b[0;32mas\u001b[0m \u001b[0mf\u001b[0m\u001b[0;34m:\u001b[0m\u001b[0;34m\u001b[0m\u001b[0;34m\u001b[0m\u001b[0m\n\u001b[0m\u001b[1;32m      4\u001b[0m     \u001b[0mvectorizer\u001b[0m \u001b[0;34m=\u001b[0m \u001b[0mpickle\u001b[0m\u001b[0;34m.\u001b[0m\u001b[0mload\u001b[0m\u001b[0;34m(\u001b[0m\u001b[0mf\u001b[0m\u001b[0;34m)\u001b[0m\u001b[0;34m\u001b[0m\u001b[0;34m\u001b[0m\u001b[0m\n",
            "\u001b[0;31mFileNotFoundError\u001b[0m: [Errno 2] No such file or directory: 'path_vectorizer'"
          ]
        }
      ]
    },
    {
      "cell_type": "code",
      "source": [
        "# Prediksi menggunakan model\n",
        "y_pred = model.predict(X_test_padded)"
      ],
      "metadata": {
        "colab": {
          "base_uri": "https://localhost:8080/"
        },
        "id": "MeZi2yEW55lM",
        "outputId": "1fd932b0-7c38-461d-e4fd-78ce52fcf018"
      },
      "execution_count": null,
      "outputs": [
        {
          "output_type": "stream",
          "name": "stdout",
          "text": [
            "2/2 [==============================] - 0s 6ms/step\n"
          ]
        }
      ]
    },
    {
      "cell_type": "code",
      "source": [
        "# Konversi probabilitas menjadi label\n",
        "y_pred_labels = [1 if pred > 0.5 else 0 for pred in y_pred]"
      ],
      "metadata": {
        "id": "WmXyGtds5_Am"
      },
      "execution_count": null,
      "outputs": []
    },
    {
      "cell_type": "code",
      "source": [
        "# Evaluasi model\n",
        "accuracy = accuracy_score(y_test, y_pred_labels)\n",
        "conf_matrix = confusion_matrix(y_test, y_pred_labels)\n",
        "class_report = classification_report(y_test, y_pred_labels)"
      ],
      "metadata": {
        "id": "8VL0LHgi6DNH"
      },
      "execution_count": null,
      "outputs": []
    },
    {
      "cell_type": "code",
      "source": [
        "# Tampilkan hasil evaluasi\n",
        "print(f'Accuracy: {accuracy}')\n",
        "print('\\nConfusion Matrix:')\n",
        "print(conf_matrix)\n",
        "print('\\nClassification Report:')\n",
        "print(class_report)"
      ],
      "metadata": {
        "colab": {
          "base_uri": "https://localhost:8080/"
        },
        "id": "uRdjKtv96TuV",
        "outputId": "b2a741f7-d5f5-40c7-9fd3-34632f7c5b3e"
      },
      "execution_count": null,
      "outputs": [
        {
          "output_type": "stream",
          "name": "stdout",
          "text": [
            "Accuracy: 0.8571428571428571\n",
            "\n",
            "Confusion Matrix:\n",
            "[[20  4]\n",
            " [ 4 14]]\n",
            "\n",
            "Classification Report:\n",
            "              precision    recall  f1-score   support\n",
            "\n",
            "           0       0.83      0.83      0.83        24\n",
            "           1       0.78      0.78      0.78        18\n",
            "\n",
            "    accuracy                           0.81        42\n",
            "   macro avg       0.81      0.81      0.81        42\n",
            "weighted avg       0.81      0.81      0.81        42\n",
            "\n"
          ]
        }
      ]
    },
    {
      "cell_type": "code",
      "source": [
        "import joblib\n",
        "\n",
        "# Fungsi untuk membuat prediksi dan menampilkan hasilnya\n",
        "def predict_and_display(model, text):\n",
        "    # Tokenisasi dan stemming pada teks\n",
        "    text_stemmed = ' '.join([stemmer.stem(word) for word in text.split()])\n",
        "    text_sequence = tokenizer.texts_to_sequences([text_stemmed])\n",
        "    text_padded = pad_sequences(text_sequence, maxlen=max_sequence_length, padding='post', truncating='post')\n",
        "\n",
        "    # Prediksi menggunakan model\n",
        "    prediction = model.predict(text_padded)[0][0]\n",
        "\n",
        "    # Menampilkan hasil prediksi\n",
        "    if prediction > 0.5:\n",
        "        result = 'Non Vio'\n",
        "    else:\n",
        "        result = 'Vio'\n",
        "\n",
        "    confidence_percentage = round(abs(prediction - 0.5) * 200, 2)\n",
        "\n",
        "    print(f'Teks: {text}')\n",
        "    print(f'Prediksi: {result}')\n",
        "    print(f'Keyakinan: {confidence_percentage}%\\n')\n",
        "\n",
        "\n",
        "\n",
        "# Contoh pengujian\n",
        "texts_to_test = [\n",
        "    \"Teks ini mengandung kata-kata yang positif dan mendukung.\",\n",
        "    \"Saya sangat kecewa dengan produk yang saya beli, kualitasnya sangat buruk.\",\n",
        "    \"Film ini benar-benar luar biasa, saya sangat menikmati setiap momennya.\",\n",
        "    \"Pelayanan pelanggan sangat ramah dan membantu.\",\n",
        "    \"saya melihat orang tua saya sedang memukul adik hingga berdarah dan badanya hingga memar dan menangis\",\n",
        "    \"Sangat kecewa dengan produk ini.\",\n",
        "    \"Teks positif yang sangat bagus.\",\n",
        "    \"saya melihat sebuah kekerasan yang dilakukan suami kepada istri\"\n",
        "]\n",
        "\n",
        "# Lakukan prediksi untuk setiap teks\n",
        "for text_to_test in texts_to_test:\n",
        "    predict_and_display(model, text_to_test)\n",
        "\n",
        "# Menyimpan model dan tokenizer (vectorizer)\n",
        "#model.save('text_classification_model.h5')\n",
        "#joblib.dump(tokenizer, 'tokenizer.joblib')\n"
      ],
      "metadata": {
        "colab": {
          "base_uri": "https://localhost:8080/"
        },
        "id": "SIgNOYUv6XAJ",
        "outputId": "04c37f9d-88bc-4eaf-9c3c-8db7e6f92222"
      },
      "execution_count": null,
      "outputs": [
        {
          "output_type": "stream",
          "name": "stdout",
          "text": [
            "1/1 [==============================] - 0s 116ms/step\n",
            "Teks: Teks ini mengandung kata-kata yang positif dan mendukung.\n",
            "Prediksi: Vio\n",
            "Keyakinan: 96.15%\n",
            "\n",
            "1/1 [==============================] - 0s 94ms/step\n",
            "Teks: Saya sangat kecewa dengan produk yang saya beli, kualitasnya sangat buruk.\n",
            "Prediksi: Vio\n",
            "Keyakinan: 84.07%\n",
            "\n",
            "1/1 [==============================] - 0s 70ms/step\n",
            "Teks: Film ini benar-benar luar biasa, saya sangat menikmati setiap momennya.\n",
            "Prediksi: Vio\n",
            "Keyakinan: 84.07%\n",
            "\n",
            "1/1 [==============================] - 0s 67ms/step\n",
            "Teks: Pelayanan pelanggan sangat ramah dan membantu.\n",
            "Prediksi: Vio\n",
            "Keyakinan: 49.26%\n",
            "\n",
            "1/1 [==============================] - 0s 39ms/step\n",
            "Teks: saya melihat orang tua saya sedang memukul adik hingga berdarah dan badanya hingga memar dan menangis\n",
            "Prediksi: Vio\n",
            "Keyakinan: 55.85%\n",
            "\n",
            "1/1 [==============================] - 0s 30ms/step\n",
            "Teks: Sangat kecewa dengan produk ini.\n",
            "Prediksi: Vio\n",
            "Keyakinan: 36.02%\n",
            "\n",
            "1/1 [==============================] - 0s 36ms/step\n",
            "Teks: Teks positif yang sangat bagus.\n",
            "Prediksi: Vio\n",
            "Keyakinan: 81.92%\n",
            "\n",
            "1/1 [==============================] - 0s 22ms/step\n",
            "Teks: saya melihat sebuah kekerasan yang dilakukan suami kepada istri\n",
            "Prediksi: Non Vio\n",
            "Keyakinan: 10.85%\n",
            "\n"
          ]
        }
      ]
    },
    {
      "cell_type": "code",
      "source": [
        "def predict_text_sentiment(text, model, tokenizer, max_sequence_length):\n",
        "    # Tokenisasi dan stemming pada teks input\n",
        "    stemmed_text = ' '.join([stemmer.stem(word) for word in text.split()])\n",
        "    text_sequences = tokenizer.texts_to_sequences([stemmed_text])\n",
        "    text_padded = pad_sequences(text_sequences, maxlen=max_sequence_length, padding='post', truncating='post')\n",
        "\n",
        "    # Prediksi menggunakan model\n",
        "    prediction = model.predict(text_padded)[0][0]\n",
        "\n",
        "    # Konversi probabilitas menjadi label\n",
        "    predicted_label = 1 if prediction > 0.5 else 0\n",
        "\n",
        "    # Tampilkan hasil prediksi dan persentase\n",
        "    if predicted_label > 0.5:\n",
        "        sentiment = 'Positif'\n",
        "        confidence = prediction * 100\n",
        "    else:\n",
        "        sentiment = 'Negatif'\n",
        "        confidence = (1 - prediction) * 100\n",
        "\n",
        "    print(f'Teks: {text}')\n",
        "    print(f'Prediksi Sentimen: {sentiment}')\n",
        "    print(f'Kepercayaan: {confidence:.2f}%\\n')\n",
        "\n",
        "# Contoh penggunaan\n",
        "sample_text_1 = [\"Teks positif yang sangat bagus.\",\n",
        "                 \"Sangat kecewa dengan produk ini.\",\n",
        "                     \"Pelayanan pelanggan sangat ramah dan membantu.\",\n",
        "    \"saya melihat orang tua saya sedang memukul adik hingga berdarah dan badanya hingga memar dan menangis\",\n",
        "    \"Sangat kecewa dengan produk ini.\",\n",
        "    \"Teks positif yang sangat bagus.\",\n",
        "    \"saya melihat sebuah kekerasan yang dilakukan suami kepada istri\"\n",
        "\n",
        "]\n",
        "\n",
        "#predict_text_sentiment(sample_text_1, model, tokenizer, max_sequence_length)\n",
        "#predict_text_sentiment(sample_text_2, model, tokenizer, max_sequence_length)\n",
        "# Lakukan prediksi untuk setiap teks\n",
        "for sample_text_1 in sample_text_1:\n",
        "    predict_text_sentiment(model, tokenizer, max_sequence_length)"
      ],
      "metadata": {
        "colab": {
          "base_uri": "https://localhost:8080/",
          "height": 210
        },
        "id": "160fp4Nb6XGW",
        "outputId": "29002198-b644-4bb8-ec49-bf7d09b57b80"
      },
      "execution_count": null,
      "outputs": [
        {
          "output_type": "error",
          "ename": "TypeError",
          "evalue": "ignored",
          "traceback": [
            "\u001b[0;31m---------------------------------------------------------------------------\u001b[0m",
            "\u001b[0;31mTypeError\u001b[0m                                 Traceback (most recent call last)",
            "\u001b[0;32m<ipython-input-76-de773946d507>\u001b[0m in \u001b[0;36m<cell line: 39>\u001b[0;34m()\u001b[0m\n\u001b[1;32m     38\u001b[0m \u001b[0;31m# Lakukan prediksi untuk setiap teks\u001b[0m\u001b[0;34m\u001b[0m\u001b[0;34m\u001b[0m\u001b[0m\n\u001b[1;32m     39\u001b[0m \u001b[0;32mfor\u001b[0m \u001b[0msample_text_1\u001b[0m \u001b[0;32min\u001b[0m \u001b[0msample_text_1\u001b[0m\u001b[0;34m:\u001b[0m\u001b[0;34m\u001b[0m\u001b[0;34m\u001b[0m\u001b[0m\n\u001b[0;32m---> 40\u001b[0;31m     \u001b[0mpredict_text_sentiment\u001b[0m\u001b[0;34m(\u001b[0m \u001b[0mmodel\u001b[0m\u001b[0;34m,\u001b[0m \u001b[0mtokenizer\u001b[0m\u001b[0;34m,\u001b[0m \u001b[0mmax_sequence_length\u001b[0m\u001b[0;34m)\u001b[0m\u001b[0;34m\u001b[0m\u001b[0;34m\u001b[0m\u001b[0m\n\u001b[0m",
            "\u001b[0;31mTypeError\u001b[0m: predict_text_sentiment() missing 1 required positional argument: 'max_sequence_length'"
          ]
        }
      ]
    },
    {
      "cell_type": "code",
      "source": [
        "# Fungsi untuk melakukan prediksi pada teks baru\n",
        "def predict_text(text, model, tokenizer, max_sequence_length):\n",
        "    # Tokenisasi dan stemming pada teks baru\n",
        "    text_stemmed = ' '.join([stemmer.stem(word) for word in text.split()])\n",
        "    text_sequence = tokenizer.texts_to_sequences([text_stemmed])\n",
        "    text_padded = pad_sequences(text_sequence, maxlen=max_sequence_length, padding='post', truncating='post')\n",
        "\n",
        "    # Prediksi menggunakan model\n",
        "    prediction = model.predict(text_padded)[0]\n",
        "\n",
        "    # Konversi probabilitas menjadi label\n",
        "    predicted_label = 1 if prediction > 0.5 else 0\n",
        "\n",
        "    # Persentase prediksi\n",
        "    confidence_percentage = prediction * 100 if predicted_label == 1 else (1 - prediction) * 100\n",
        "\n",
        "    return predicted_label, confidence_percentage\n",
        "\n",
        "# Contoh penggunaan fungsi untuk memprediksi teks baru\n",
        "new_text = \"saya melihat orang tua saya sedang memukul adik hingga berdarah dan badanya hingga memar dan menangis\"\n",
        "predicted_label, confidence_percentage = predict_text(new_text, model, tokenizer, max_sequence_length)\n",
        "\n",
        "# Tampilkan hasil prediksi dan persentasenya\n",
        "print(f'Teks: \"{new_text}\"')\n",
        "print(f'Prediksi: {predicted_label} dengan kepercayaan {confidence_percentage:.2f}%/n')\n"
      ],
      "metadata": {
        "colab": {
          "base_uri": "https://localhost:8080/",
          "height": 245
        },
        "id": "CVlg3cSH4iEH",
        "outputId": "1cbb1298-6ae0-4789-d55b-87e51dbbf131"
      },
      "execution_count": null,
      "outputs": [
        {
          "output_type": "error",
          "ename": "NameError",
          "evalue": "ignored",
          "traceback": [
            "\u001b[0;31m---------------------------------------------------------------------------\u001b[0m",
            "\u001b[0;31mNameError\u001b[0m                                 Traceback (most recent call last)",
            "\u001b[0;32m<ipython-input-1-ca2a9df1ecdf>\u001b[0m in \u001b[0;36m<cell line: 21>\u001b[0;34m()\u001b[0m\n\u001b[1;32m     19\u001b[0m \u001b[0;31m# Contoh penggunaan fungsi untuk memprediksi teks baru\u001b[0m\u001b[0;34m\u001b[0m\u001b[0;34m\u001b[0m\u001b[0m\n\u001b[1;32m     20\u001b[0m \u001b[0mnew_text\u001b[0m \u001b[0;34m=\u001b[0m \u001b[0;34m\"saya melihat orang tua saya sedang memukul adik hingga berdarah dan badanya hingga memar dan menangis\"\u001b[0m\u001b[0;34m\u001b[0m\u001b[0;34m\u001b[0m\u001b[0m\n\u001b[0;32m---> 21\u001b[0;31m \u001b[0mpredicted_label\u001b[0m\u001b[0;34m,\u001b[0m \u001b[0mconfidence_percentage\u001b[0m \u001b[0;34m=\u001b[0m \u001b[0mpredict_text\u001b[0m\u001b[0;34m(\u001b[0m\u001b[0mnew_text\u001b[0m\u001b[0;34m,\u001b[0m \u001b[0mmodel\u001b[0m\u001b[0;34m,\u001b[0m \u001b[0mtokenizer\u001b[0m\u001b[0;34m,\u001b[0m \u001b[0mmax_sequence_length\u001b[0m\u001b[0;34m)\u001b[0m\u001b[0;34m\u001b[0m\u001b[0;34m\u001b[0m\u001b[0m\n\u001b[0m\u001b[1;32m     22\u001b[0m \u001b[0;34m\u001b[0m\u001b[0m\n\u001b[1;32m     23\u001b[0m \u001b[0;31m# Tampilkan hasil prediksi dan persentasenya\u001b[0m\u001b[0;34m\u001b[0m\u001b[0;34m\u001b[0m\u001b[0m\n",
            "\u001b[0;31mNameError\u001b[0m: name 'model' is not defined"
          ]
        }
      ]
    },
    {
      "cell_type": "code",
      "source": [
        "from sklearn.feature_extraction.text import CountVectorizer, TfidfTransformer\n",
        "from nltk.corpus import stopwords\n",
        "from tensorflow.keras.models import load_model\n",
        "import re\n",
        "import nltk\n",
        "nltk.download('stopwords')"
      ],
      "metadata": {
        "colab": {
          "base_uri": "https://localhost:8080/"
        },
        "id": "XaAJ6_Qjh-yC",
        "outputId": "24db3865-d2c2-4603-fb07-b9ad1b6b0e04"
      },
      "execution_count": null,
      "outputs": [
        {
          "output_type": "stream",
          "name": "stderr",
          "text": [
            "[nltk_data] Downloading package stopwords to /root/nltk_data...\n",
            "[nltk_data]   Unzipping corpora/stopwords.zip.\n"
          ]
        },
        {
          "output_type": "execute_result",
          "data": {
            "text/plain": [
              "True"
            ]
          },
          "metadata": {},
          "execution_count": 8
        }
      ]
    },
    {
      "cell_type": "code",
      "source": [
        "model = load_model('model_violence (1).h5')"
      ],
      "metadata": {
        "id": "cfvBmsVxtwT_"
      },
      "execution_count": null,
      "outputs": []
    },
    {
      "cell_type": "code",
      "source": [
        "import numpy as np\n",
        "\n",
        "def normalize_text(text):\n",
        "    text = text.lower()\n",
        "    text = re.sub(r'[^a-z\\s]', '', text)\n",
        "    stop_words = set(stopwords.words('indonesian'))\n",
        "    text = ' '.join([word for word in text.split() if word not in stop_words])\n",
        "    text = re.sub(r'\\s+', ' ', text)\n",
        "    return text.strip()\n",
        "\n",
        "# Fungsi untuk mendapatkan kategori berdasarkan range persentase\n",
        "def get_category(percentage):\n",
        "    if percentage < 0.33:\n",
        "        return 'Ringan'\n",
        "    elif 0.33 <= percentage < 0.67:\n",
        "        return 'Sedang'\n",
        "    else:\n",
        "        return 'Berat'\n",
        "\n",
        "# Fungsi untuk menampilkan hasil testing dengan label, persentase, dan kategori\n",
        "def test_model(model, texts):\n",
        "    # Normalisasi teks pada data uji\n",
        "    normalized_texts = [normalize_text(text) for text in texts]\n",
        "\n",
        "    # Representasi vektor menggunakan CountVectorizer dan TF-IDF Transformer\n",
        "    max_words = 100  # Jumlah kata unik yang akan diambil\n",
        "    vectorizer = CountVectorizer(num_words=max_words, oov_token='<OOV>')\n",
        "    vectorizer.fit(normalized_texts)\n",
        "    text_counts = vectorizer.transform(normalized_texts)\n",
        "\n",
        "    # Prediksi label pada data uji baru\n",
        "    predictions = model.predict(text_tfidf.toarray())\n",
        "\n",
        "    # Decode label yang telah di-encode sebelumnya\n",
        "    decoded_predictions = label_encoder.inverse_transform(np.argmax(predictions, axis=1))\n",
        "\n",
        "    # Menampilkan hasil prediksi\n",
        "    for i in range(len(texts)):\n",
        "        label = decoded_predictions[i]\n",
        "        confidence = np.max(predictions[i]) * 100\n",
        "        category = get_category(confidence / 100)  # Konversi persentase ke range 0-1\n",
        "\n",
        "        print(f'Teks: {texts[i]}')\n",
        "        print(f'Prediksi: {label}')\n",
        "        print(f'Persentase: {confidence:.2f}%')\n",
        "        print(f'Kategori: {category}')\n",
        "        print()\n",
        "\n",
        "# Contoh data teks untuk pengujian\n",
        "test_texts = [\"aku melihat teman saya dibully sampe kena mental.\", \"Contoh teks 2 untuk pengujian.\"]\n",
        "\n",
        "# Melakukan pengujian model\n",
        "test_model(model, test_texts)\n"
      ],
      "metadata": {
        "colab": {
          "base_uri": "https://localhost:8080/",
          "height": 331
        },
        "id": "EGCDvy6ghw3d",
        "outputId": "66b53014-9df0-49a2-c3b4-17dea72bb21a"
      },
      "execution_count": null,
      "outputs": [
        {
          "output_type": "error",
          "ename": "TypeError",
          "evalue": "ignored",
          "traceback": [
            "\u001b[0;31m---------------------------------------------------------------------------\u001b[0m",
            "\u001b[0;31mTypeError\u001b[0m                                 Traceback (most recent call last)",
            "\u001b[0;32m<ipython-input-9-f17b177d9280>\u001b[0m in \u001b[0;36m<cell line: 53>\u001b[0;34m()\u001b[0m\n\u001b[1;32m     51\u001b[0m \u001b[0;34m\u001b[0m\u001b[0m\n\u001b[1;32m     52\u001b[0m \u001b[0;31m# Melakukan pengujian model\u001b[0m\u001b[0;34m\u001b[0m\u001b[0;34m\u001b[0m\u001b[0m\n\u001b[0;32m---> 53\u001b[0;31m \u001b[0mtest_model\u001b[0m\u001b[0;34m(\u001b[0m\u001b[0mmodel\u001b[0m\u001b[0;34m,\u001b[0m \u001b[0mtest_texts\u001b[0m\u001b[0;34m)\u001b[0m\u001b[0;34m\u001b[0m\u001b[0;34m\u001b[0m\u001b[0m\n\u001b[0m",
            "\u001b[0;32m<ipython-input-9-f17b177d9280>\u001b[0m in \u001b[0;36mtest_model\u001b[0;34m(model, texts)\u001b[0m\n\u001b[1;32m     25\u001b[0m     \u001b[0;31m# Representasi vektor menggunakan CountVectorizer dan TF-IDF Transformer\u001b[0m\u001b[0;34m\u001b[0m\u001b[0;34m\u001b[0m\u001b[0m\n\u001b[1;32m     26\u001b[0m     \u001b[0mmax_words\u001b[0m \u001b[0;34m=\u001b[0m \u001b[0;36m100\u001b[0m  \u001b[0;31m# Jumlah kata unik yang akan diambil\u001b[0m\u001b[0;34m\u001b[0m\u001b[0;34m\u001b[0m\u001b[0m\n\u001b[0;32m---> 27\u001b[0;31m     \u001b[0mvectorizer\u001b[0m \u001b[0;34m=\u001b[0m \u001b[0mCountVectorizer\u001b[0m\u001b[0;34m(\u001b[0m\u001b[0mnum_words\u001b[0m\u001b[0;34m=\u001b[0m\u001b[0mmax_words\u001b[0m\u001b[0;34m,\u001b[0m \u001b[0moov_token\u001b[0m\u001b[0;34m=\u001b[0m\u001b[0;34m'<OOV>'\u001b[0m\u001b[0;34m)\u001b[0m\u001b[0;34m\u001b[0m\u001b[0;34m\u001b[0m\u001b[0m\n\u001b[0m\u001b[1;32m     28\u001b[0m     \u001b[0mvectorizer\u001b[0m\u001b[0;34m.\u001b[0m\u001b[0mfit\u001b[0m\u001b[0;34m(\u001b[0m\u001b[0mnormalized_texts\u001b[0m\u001b[0;34m)\u001b[0m\u001b[0;34m\u001b[0m\u001b[0;34m\u001b[0m\u001b[0m\n\u001b[1;32m     29\u001b[0m     \u001b[0mtext_counts\u001b[0m \u001b[0;34m=\u001b[0m \u001b[0mvectorizer\u001b[0m\u001b[0;34m.\u001b[0m\u001b[0mtransform\u001b[0m\u001b[0;34m(\u001b[0m\u001b[0mnormalized_texts\u001b[0m\u001b[0;34m)\u001b[0m\u001b[0;34m\u001b[0m\u001b[0;34m\u001b[0m\u001b[0m\n",
            "\u001b[0;31mTypeError\u001b[0m: CountVectorizer.__init__() got an unexpected keyword argument 'num_words'"
          ]
        }
      ]
    },
    {
      "cell_type": "markdown",
      "source": [
        "### CAPE NGEPREDIK ANJER"
      ],
      "metadata": {
        "id": "opYhBR4rDpN1"
      }
    },
    {
      "cell_type": "markdown",
      "source": [
        "### EMANG BOLEHHH"
      ],
      "metadata": {
        "id": "gfuNuUefDyuR"
      }
    },
    {
      "cell_type": "code",
      "source": [
        "model.save('Model_Violence.h5')"
      ],
      "metadata": {
        "colab": {
          "base_uri": "https://localhost:8080/"
        },
        "id": "Nl5o7IgNWwnG",
        "outputId": "4e8ad8cf-50ab-4b88-f20c-c56589a6f93c"
      },
      "execution_count": null,
      "outputs": [
        {
          "output_type": "stream",
          "name": "stderr",
          "text": [
            "/usr/local/lib/python3.10/dist-packages/keras/src/engine/training.py:3103: UserWarning: You are saving your model as an HDF5 file via `model.save()`. This file format is considered legacy. We recommend using instead the native Keras format, e.g. `model.save('my_model.keras')`.\n",
            "  saving_api.save_model(\n"
          ]
        }
      ]
    }
  ]
}